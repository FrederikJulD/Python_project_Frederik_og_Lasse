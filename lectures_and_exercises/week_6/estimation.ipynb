{
 "cells": [
  {
   "cell_type": "code",
   "execution_count": 6,
   "id": "personal-retention",
   "metadata": {},
   "outputs": [
    {
     "name": "stdout",
     "output_type": "stream",
     "text": [
      "The autoreload extension is already loaded. To reload it, use:\n",
      "  %reload_ext autoreload\n"
     ]
    }
   ],
   "source": [
    "import sys\n",
    "sys.path.insert(0,'C:\\\\code\\\\python_for_the_financial_economist\\\\')\n",
    "\n",
    "\"\"\"\n",
    "Magic commands\n",
    "\"\"\"\n",
    "\n",
    "%load_ext autoreload\n",
    "%autoreload 2\n",
    "\n",
    "# animations, etc. requires below magic command\n",
    "# %matplotlib notebook\n",
    "\n",
    "\n",
    "\"\"\"\n",
    "Load relevant packages\n",
    "\"\"\"\n",
    "\n",
    "import numpy as np\n",
    "\n",
    "import matplotlib.pyplot as plt\n",
    "from matplotlib.patches import Polygon\n",
    "from matplotlib import animation, cm\n",
    "\n",
    "from scipy import stats\n",
    "from scipy import optimize\n",
    "from scipy.optimize import minimize\n",
    "\n",
    "#import autograd\n",
    "# functions to approx derivative and hessian \n",
    "from statsmodels.tools.numdiff import approx_fprime, approx_hess\n",
    "\n",
    "\"\"\"\n",
    "Own packages\n",
    "\"\"\"\n",
    "\n",
    "from codelib.visualization.layout import DefaultStyle\n",
    "DefaultStyle();"
   ]
  },
  {
   "cell_type": "markdown",
   "id": "funded-accident",
   "metadata": {},
   "source": [
    "# Introduction to estimation \n",
    "\n",
    "Estimation is key in financial economics!  The distribution of market invariants (e.g. returns) will generally be unknown and even if we can assume a particular distribution we need to be able to estimate the parameters describing the particular distribution. \n",
    "\n",
    "The choice of estimator will depend on a range of factors. Generally, the [variance-bias tradeoff](https://en.wikipedia.org/wiki/Bias%E2%80%93variance_tradeoff) tells us that we with large amounts of data can apply very flexible non-parametric estimators while we may need to impose distributional assumptions or even shrinkage with less data. \n",
    "\n",
    "## What is an estimator? \n",
    "\n",
    "An [estimator](https://en.wikipedia.org/wiki/Estimator), typically denoted $\\hat{\\theta} (\\mathbf{X})$, maps a random sample $X_1, ..., X_n$ (stacked in the vector $\\mathbf{X}$) defined by e.g. the pdf $f_X(x;\\theta)$, where $\\theta$ is an unknown parameter, to a set of _sample estimates_. It is important to note that the estimator is a function of random variables and therefore itself a random variable. \n",
    "\n",
    "For a particular realization of the random sample $x_1, ..., x_n$ (stacked in the vector $\\mathbf{x}$), we obtain the estimate $\\hat{\\theta} (\\mathbf{x})$ which is a fixed value. \n",
    "\n",
    "Some well-known estimators include the _sample mean_\n",
    "\n",
    "$$\n",
    "\\begin{equation*}\n",
    "\\bar{X} = \\frac{1}{n} \\sum_{i=1}^n X_i\n",
    "\\end{equation*}\n",
    "$$\n",
    "\n",
    "The _sample variance_\n",
    "$$\n",
    "\\begin{equation*}\n",
    "S^2 = \\frac{1}{n-1} \\sum_{i=1}^n (X_i - \\bar{X})^2\n",
    "\\end{equation*}\n",
    "$$\n",
    "\n",
    "The _sample covariance_\n",
    "\n",
    "$$\n",
    "\\begin{equation*}\n",
    "C_{X,Y} = \\frac{1}{n} \\sum_{i=1}^n (X_i - \\bar{X})(Y_i - \\bar{Y})\n",
    "\\end{equation*}\n",
    "$$\n",
    "\n",
    "\n",
    "\n",
    "\n",
    "## Properties of estimators \n",
    "\n",
    "We will discuss some important properties of estimators\n",
    "\n",
    "* Unbiasedness\n",
    "* Consistency\n",
    "* Efficiency\n",
    "* Asymptotic normality\n",
    "\n",
    "### Unbiasedness\n",
    "\n",
    "Estimators will take on different values from sample to sample (the estimate), but we would like the property that we on average get the right estimate. \n",
    "\n",
    "An estimator is said to be [unbiased](https://en.wikipedia.org/wiki/Bias_of_an_estimator) if its expected value is equal to the true value $\\theta$: \n",
    "\n",
    "$$\n",
    "\\text{E}[\\hat{\\theta} (\\mathbf{X})]  = \\theta\n",
    "$$\n",
    "\n",
    "__Example: Sample mean__\n",
    "\n",
    "Let $X_1,...,X_n$ be an independent sample of size $n$ all with the same pdf and mean $\\text{E}[X_i] = \\mu$. Define the sample mean\n",
    "\n",
    "$$\n",
    "\\begin{equation*}\n",
    "\\bar{X}_n = \\frac{1}{n} \\sum_{i=1}^n X_i\n",
    "\\end{equation*} \n",
    "$$\n",
    "\n",
    "Then due to indpendence, \n",
    "\n",
    "$$\n",
    "\\begin{align*}\n",
    "E[\\bar{X}_n] &=  \\frac{1}{n} \\sum_{i=1}^n \\text{E}[X_i] = \\mu  \\\\\n",
    "\\text{Var}[\\bar{X}_n] &= \\frac{1}{n^2} \\sum_{i=1}^n \\text{Var}[X_i] = \\frac{\\sigma^2}{n}\n",
    "\\end{align*}\n",
    "$$\n",
    "\n",
    "Thus, the sample mean is an unbiased estimator. \n",
    "\n",
    "__Example: A single realization__\n",
    "\n",
    "Choosing the value of a single realization will also be an unbiased estimator since $E(X_i) = \\mu$. The problem is of course that the variance of this estimator is $\\text{Var}[X_i] = \\sigma^2 > \\frac{\\sigma^2}{n}$. \n",
    "\n",
    "__Example: Sample variance__\n",
    "\n",
    "An natural estimator for the variance is given by\n",
    "\n",
    "$$\n",
    "\\begin{equation*}\n",
    "\\hat{\\sigma}^2 = \\frac{1}{n} \\sum_{i=1}^n (X_i - \\bar{X})^2\n",
    "\\end{equation*}\n",
    "$$\n",
    "\n",
    "However, one can show that \n",
    "$$\n",
    "\\begin{equation*}\n",
    "\\text{E}[\\hat{\\sigma}^2] = \\frac{n-1}{n} \\sigma^2\n",
    "\\end{equation*}\n",
    "$$\n",
    "\n",
    "Hence, it is not an unbiased estimator and we therefore typically use \n",
    "\n",
    "$$\n",
    "\\begin{equation*}\n",
    "S^2 = \\frac{1}{n-1} \\sum_{i=1}^n (X_i - \\bar{X})^2\n",
    "\\end{equation*}\n",
    "$$\n",
    "\n",
    "\n",
    "### Consistency\n",
    "\n",
    "An estimator $\\hat{\\theta}(\\mathbf{X})$ is said to be [consistent](https://en.wikipedia.org/wiki/Consistent_estimator) for $\\theta$ if it converges in probability to $\\theta$ - that is, if for all $\\varepsilon>0$, \n",
    "\n",
    "$$\n",
    "\\begin{equation*}\n",
    "\\lim_{n\\to\\infty} P(\\vert \\hat{\\theta}(\\mathbf{X}) - \\theta\\vert < \\varepsilon) = 1\n",
    "\\end{equation*}\n",
    "$$\n",
    "\n",
    "which we also will write as \n",
    "\n",
    "$$\n",
    "\\text{plim } \\hat{\\theta}(\\mathbf{X}) = \\theta\n",
    "$$\n",
    "\n",
    "For consistency, it is sufficient to show that (almost sure convergence)\n",
    "\n",
    "$$\n",
    "\\begin{equation*}\n",
    "\\lim_{n\\to \\infty} \\text{E}[\\hat{\\theta}(\\mathbf{X})] = \\theta\n",
    "\\end{equation*}\n",
    "$$\n",
    "\n",
    "and\n",
    "\n",
    "$$\n",
    "\\begin{equation*}\n",
    "\\lim_{n\\to \\infty}\\text{Var}[\\hat{\\theta}(\\mathbf{X})] = 0\n",
    "\\end{equation*}\n",
    "$$\n",
    "\n",
    "__Example: The sample mean__\n",
    "\n",
    "Again, let $X_1,...,X_n$ be an independent sample of size $n$ all with the same pdf and mean $\\text{E}[X_i] = \\mu$. \n",
    "\n",
    "The [Law of Large Numbers (LLN)](https://en.wikipedia.org/wiki/Law_of_large_numbers)  tells us (under some regularity conditions) that \n",
    "\n",
    "$$\n",
    "\\begin{equation*}\n",
    "\\text{plim } \\bar{X}_n = \\mu\n",
    "\\end{equation*}\n",
    "$$\n",
    "or more precisely \n",
    "\n",
    "$$\n",
    "\\begin{equation*}\n",
    "\\lim_{n \\to \\infty} P(\\vert \\bar{X}_n - \\mu \\vert > \\varepsilon) = 0\n",
    "\\end{equation*}\n",
    "$$\n",
    "\n",
    "for all $\\varepsilon>0$. We call this for convergence in probability. \n",
    "\n",
    "We note that \n",
    "\n",
    "$$\n",
    "\\begin{align*}\n",
    "\\text{E}[\\bar{X}_n] &=  \\frac{1}{n} \\sum_{i=1}^n \\text{E}[X_i] = \\mu  \\\\\n",
    "\\text{Var}[\\bar{X}_n] &= \\frac{1}{n^2} \\sum_{i=1}^n \\text{Var}[X_i] = \\frac{\\sigma^2}{n}\n",
    "\\end{align*}\n",
    "$$\n",
    "\n",
    "implying that the sample mean is unbiased and the variance converges to zero with the sample size. Thus, we have almost sure convergence. \n",
    "\n",
    "As an example, we consider the uniform distribution $X \\sim U(-5,5)$. Draw 10, 100, 500 and 1000 observations from the uniform distribution 10,000 times, calculate the sample mean for each iteration and blot the histogram of the sample means.\n",
    "\n",
    "We see that the distribution collapses around the true value!"
   ]
  },
  {
   "cell_type": "code",
   "execution_count": 7,
   "id": "round-atlantic",
   "metadata": {},
   "outputs": [
    {
     "data": {
      "image/png": "[encoded data removed]",
      "text/plain": [
       "<Figure size 864x576 with 4 Axes>"
      ]
     },
     "metadata": {
      "needs_background": "light"
     },
     "output_type": "display_data"
    }
   ],
   "source": [
    "\"\"\"\n",
    "Draw uniform numbers\n",
    "\"\"\"\n",
    "a = -5.0\n",
    "b = 5.0\n",
    "\n",
    "uniform_data = np.random.uniform(low=a, high=b, size=(1000, 10000))\n",
    "\n",
    "true_var = (b-a)**2/12\n",
    "true_mean = (a + b)/2\n",
    "\n",
    "fig, ax_ = plt.subplots(2,2, figsize=(12,8))\n",
    "\n",
    "ax_ = ax_.flatten()\n",
    "\n",
    "\n",
    "for i, N in enumerate([10, 100, 500, 1000]): \n",
    "\n",
    "    ax = ax_[i]\n",
    "    \n",
    "    # get section of generated data\n",
    "    data = uniform_data[:N, :]\n",
    "    \n",
    "    # calculate sample means\n",
    "    sample_means = np.mean(data, axis=0)\n",
    "    \n",
    "    # plot histogram \n",
    "    ax.hist(sample_means, color=\"gray\", bins=100, zorder=1, density=True)\n",
    "    \n",
    "    ax.set_title(\"Histogram of sample mean for N = \" + str(N))\n",
    "    ax.set_axisbelow(True)\n",
    "    ax.set_xlim([-3.5,3.5]);"
   ]
  },
  {
   "cell_type": "markdown",
   "id": "signal-future",
   "metadata": {},
   "source": [
    "### Efficiency \n",
    "\n",
    "If we have two unbiased estimators for a parameter $\\theta$, $\\hat{\\theta}_1$ and $\\hat{\\theta}_2$, then if \n",
    "\n",
    "$$\n",
    "\\begin{equation*}\n",
    "\\text{Var}[\\hat{\\theta}_1] < \\text{Var}[\\hat{\\theta}_2]\n",
    "\\end{equation*}\n",
    "$$\n",
    "we say that $\\hat{\\theta}_1$ is more efficient than $\\hat{\\theta}_2$.\n",
    "\n",
    "\n",
    "A classical example (already mentioned) is that an element in a sample $X_i$ is an unbiased estimator of the expected value, just as the sample mean\n",
    "\n",
    "$$\n",
    "\\begin{equation*}\n",
    "\\text{E}[X_i] = \\mu\n",
    "\\end{equation*}\n",
    "$$\n",
    "\n",
    "However, this estimator has the variance $\\sigma^2$ while the variance of the sample mean is \n",
    "\n",
    "$$\n",
    "\\begin{equation*}\n",
    "\\text{Var}[\\bar{X}] = \\frac{1}{n^2}\\sum_{i=1}^n \\text{Var}[X_i] = \\frac{\\sigma^2}{n}\n",
    "\\end{equation*}\n",
    "$$\n",
    "\n",
    "Clearly more efficient!\n",
    "\n",
    "__Cramér-Rao's lower bound__\n",
    "\n",
    "It will generally hold that if we have a random sample $X_1,...,X_n$ from the pdf $f_X(x;\\theta)$, where $\\theta$ is an unknown parameter and the estimator $\\hat{\\theta}(\\mathbf{X})$, then \n",
    "\n",
    "$$\n",
    "\\begin{equation*}\n",
    "\\text{Var}[\\hat{\\theta}] \\geq \\left[n \\text{E} \\left[ \\left(\\frac{\\partial \\ln f_X(X; \\theta)}{\\partial \\theta} \\right)^2\\right] \\right]^{-1} = \\left[ -n \\text{E} \\left[ \\frac{\\partial^2 \\ln f_X(X; \\theta)}{\\partial \\theta^2}\\right]\\right]^{-1}\n",
    "\\end{equation*}\n",
    "$$\n",
    "\n",
    "which is known as [Cramér-Rao's lower bound](https://en.wikipedia.org/wiki/Cram%C3%A9r%E2%80%93Rao_bound). We will later see that the maximum-likelihood estimator satisfies Cramér-Rao's lower bound ensuring that the maximum-likelihood estimator is the most efficient. \n",
    "\n",
    "__Example: Sample mean__\n",
    "\n",
    "Let $X_1,...,X_n$ be an independent sample of size $n$ all with $X_i \\sim N(\\mu, \\sigma^2)$. Then, we have\n",
    "\n",
    "$$\n",
    "\\frac{\\partial \\ln f_X(X; \\mu, \\sigma)}{\\partial \\mu} = \\frac{\\partial }{\\partial \\mu} \\left[- \\ln (\\sigma \\sqrt{2\\pi}) -\\frac{(X-\\mu)^2}{2 \\sigma^2} \\right] = -2 \\frac{X-\\mu}{2 \\sigma^2} = -\\frac{X-\\mu}{ \\sigma^2} \n",
    "$$\n",
    "\n",
    "and \n",
    "\n",
    "$$\n",
    "\\text{E}\\left[ \\left(-\\frac{X-\\mu}{ \\sigma^2} \\right)^2 \\right] = \\text{E}\\left[ \\frac{1}{\\sigma^2} \\frac{(X-\\mu)^2}{ \\sigma^2} \\right] =  \\frac{1}{\\sigma^2}  \\frac{ \\text{E}\\left[(X-\\mu)^2 \\right]}{ \\sigma^2} = \\frac{1}{\\sigma^2}  \\frac{ \\sigma^2}{ \\sigma^2} = \\frac{1}{\\sigma^2} \n",
    "$$\n",
    "\n",
    "Thus, the lower-bound for the variance is \n",
    "\n",
    "$$\n",
    "\\text{Var}[\\hat{\\mu}] \\geq \\left[n  \\frac{1}{\\sigma^2} \\right]^{-1} = \\frac{\\sigma^2}{n}\n",
    "$$\n",
    "\n",
    "showing that the sample mean is the most efficient estimator (unbiased) in the normal case. \n",
    "\n",
    "\n",
    "### Asymptotic normality \n",
    "\n",
    "A consistent estimator is said to be asymptotically normally distributed if the distribution of the estimator converges to a normal distribution, typically, at the rate $1 / \\sqrt{n}$ (the standard deviation shrinks at this rate). We will write \n",
    "\n",
    "$$\n",
    "\\sqrt{n} (\\hat{\\theta} - \\theta) \\to^d N(0, V)\n",
    "$$\n",
    "\n",
    "where $V/n$ is called the asymptotic variance. \n",
    "\n",
    "__Example: Sample mean__\n",
    "\n",
    "[The Central Limit Theorem (CLT)](https://en.wikipedia.org/wiki/Central_limit_theorem) tells us that for an iid random sample of size $n$ and if $\\sigma < \\infty$\n",
    "\n",
    "$$\n",
    "\\begin{equation*}\n",
    "\\lim_{n\\to \\infty} P\\left(\\frac{\\bar{X}_n - \\mu}{\\sigma/\\sqrt{n}} < z \\right) = \\Phi(z)\n",
    "\\end{equation*}\n",
    "$$\n",
    "where $\\Phi(z)$ denotes the standard normal cdf. \n",
    "\n",
    "It follows directly that \n",
    "\n",
    "$$\n",
    "\\sqrt{n}(\\bar{X}_n - \\mu) \\to^d N\\left(0, \\frac{\\sigma^2}{n}\\right)\n",
    "$$"
   ]
  },
  {
   "cell_type": "markdown",
   "id": "isolated-yeast",
   "metadata": {},
   "source": [
    "## A brief look at Ordinary Least Squares (OLS)\n",
    "\n",
    "We will write a linear regression model (using matrix notation) as \n",
    "\n",
    "$$\n",
    "\\mathbf{y} = \\mathbf{X}\\boldsymbol{\\beta} + \\mathbf{e}\n",
    "$$\n",
    "\n",
    "where $\\mathbf{y}$ is the $n \\times 1$ vector of dependent variables, $\\mathbf{X}$ is the $n \\times k$ matrix of regressors (independent variables) and $\\mathbf{e}$ is the $n \\times 1$ error vector. \n",
    "\n",
    "As the name implies, the OLS estimator minimizes the sum of squared residuals \n",
    "\n",
    "$$\n",
    "Q_n (\\boldsymbol{\\beta}) = \\sum_{i=1}^n (y_i - \\mathbf{x}_i^\\top \\boldsymbol{\\beta} )^2 = (\\mathbf{y} - \\mathbf{X}\\boldsymbol{\\beta})^\\top (\\mathbf{y} - \\mathbf{X}\\boldsymbol{\\beta}) = \\mathbf{e}^\\top \\mathbf{e}\n",
    "$$\n",
    "\n",
    "Taking the derivative wrt. $\\boldsymbol{\\beta}$ and setting equal to zero yields the estimator \n",
    "\n",
    "$$\n",
    "\\hat{\\boldsymbol{\\beta}}_{OLS} = (\\mathbf{X}^\\top \\mathbf{X})^{-1} \\mathbf{X}^\\top \\mathbf{y}\n",
    "$$\n",
    "\n",
    "\n",
    "### Properties of OLS\n",
    "\n",
    "__Note__: It is not expected that you know all the finer details in deriving the asymptotic properties of e.g. the OLS estimator, but only how to implement derived formulas in Python. \n",
    "\n",
    "__Consistency__\n",
    "\n",
    "$$\n",
    "\\begin{align}\n",
    "\\hat{\\boldsymbol{\\beta}}_{OLS} &= (\\mathbf{X}^\\top \\mathbf{X})^{-1} \\mathbf{X}^\\top \\mathbf{y} \\\\\n",
    "&= (\\mathbf{X}^\\top \\mathbf{X})^{-1} \\mathbf{X}^\\top (\\mathbf{X}\\boldsymbol{\\beta} + \\mathbf{e}) \\\\\n",
    "&= (\\mathbf{X}^\\top \\mathbf{X})^{-1} \\mathbf{X}^\\top \\mathbf{X}\\boldsymbol{\\beta} + (\\mathbf{X}^\\top \\mathbf{X})^{-1} \\mathbf{X}^\\top \\mathbf{e} \\\\\n",
    "&= \\boldsymbol{\\beta} + (\\mathbf{X}^\\top \\mathbf{X})^{-1} \\mathbf{X}^\\top \\mathbf{e} \\\\\n",
    "&= \\boldsymbol{\\beta} + \\left(\\frac{1}{n}\\mathbf{X}^\\top \\mathbf{X}\\right)^{-1} \\frac{1}{n}\\mathbf{X}^\\top \\mathbf{e} \n",
    "\\end{align}\n",
    "$$\n",
    "\n",
    "Basically, for consistency we need (without going into details)\n",
    "\n",
    "$$\n",
    "\\text{plim} \\frac{1}{n}\\mathbf{X}^\\top \\mathbf{X} = \\lim \\frac{1}{n} \\text{E} \\left[ \\mathbf{X}^\\top\\mathbf{X} \\right]  =  \\mathbf{M_{xx}}\n",
    "$$\n",
    "\n",
    "where $\\mathbf{M_{xx}}$ is a non-singular matrix (invertible), and \n",
    "\n",
    "$$\n",
    "\\text{plim} \\frac{1}{n}\\mathbf{X}^\\top \\mathbf{e} =  \\lim \\frac{1}{n} \\text{E} \\left[ \\mathbf{X}^\\top\\mathbf{e} \\right] =\\mathbf{0}\n",
    "$$\n",
    "\n",
    "requiring the regressors and error term to be uncorrelated. \n",
    "\n",
    "__Asymptotic normality__\n",
    "\n",
    "Rewritting the above expression yields \n",
    "\n",
    "$$\n",
    "\\sqrt{n}(\\hat{\\boldsymbol{\\beta}}_{OLS} - \\boldsymbol{\\beta}) = \\left(\\frac{1}{n}\\mathbf{X}^\\top \\mathbf{X}\\right)^{-1} \\frac{1}{\\sqrt{n}}\\mathbf{X}^\\top \\mathbf{e} \n",
    "$$\n",
    "\n",
    "If we can apply a CLT to $\\frac{1}{\\sqrt{n}}\\mathbf{X}^\\top \\mathbf{e}$ such that it converges to multivariate normal distribution with finite, non-singular covariance matrix, we will have asymptotic normality. \n",
    "\n",
    "Assuming that \n",
    "\n",
    "$$\n",
    "\\frac{1}{\\sqrt{n}}\\mathbf{X}^\\top \\mathbf{e} \\to^d N(\\mathbf{0}, \\mathbf{M_{x\\Omega x}})\n",
    "$$\n",
    "\n",
    "with  (here $\\boldsymbol{\\Omega}=\\text{E}[\\mathbf{e}^\\top \\mathbf{e} \\vert \\mathbf{X}] = \\text{Diag}[\\sigma_i^2]$ is the covariance matrix of the errors)\n",
    "\n",
    "$$\n",
    "\\text{plim} \\frac{1}{n}\\mathbf{X}^\\top \\mathbf{e} \\mathbf{e}^\\top\\mathbf{X} = \\text{plim} \\frac{1}{n}\\mathbf{X}^\\top  \\boldsymbol{\\Omega} \\mathbf{X}  = \\mathbf{M_{x\\Omega x}}\n",
    "$$\n",
    "\n",
    "then it will be possible to show that \n",
    "\n",
    "$$\n",
    "\\sqrt{n}(\\hat{\\boldsymbol{\\beta}}_{OLS} - \\boldsymbol{\\beta}) \\to^d N\\left(\\mathbf{0}, \\mathbf{M_{xx}}^{-1} \\mathbf{M_{x\\Omega x}}\\mathbf{M_{xx}}^{-1}\\right)\n",
    "$$\n",
    "\n",
    "__Homoskedasticity vs. heteroskedasticity__\n",
    "\n",
    "If $\\boldsymbol{\\Omega}=\\text{E}[\\mathbf{e}^\\top \\mathbf{e} \\vert \\mathbf{X}] = \\text{Diag}[\\sigma^2] = \\sigma^2 \\mathbf{I}$ then the error term is said to be homoskedastic and \n",
    "\n",
    "$$\n",
    "\\sqrt{n}(\\hat{\\boldsymbol{\\beta}}_{OLS} - \\boldsymbol{\\beta}) \\to^d N\\left(\\mathbf{0}, \\sigma^2 \\mathbf{M_{xx}}^{-1} \\mathbf{M_{xx}}\\mathbf{M_{xx}}^{-1}\\right) = N\\left(\\mathbf{0}, \\sigma^2 \\mathbf{M_{xx}}^{-1} \\right) \n",
    "$$\n",
    "\n",
    "where we will estimate $\\hat{\\mathbf{M}}_{\\mathbf{xx}} = \\frac{1}{n} \\mathbf{X}^\\top\\mathbf{X}$ and $\\sigma^2$ using the sample variance. \n",
    "\n",
    "$$\n",
    "S^2 = \\frac{1}{n - k} \\hat{\\mathbf{e}}^\\top \\hat{\\mathbf{e}}\n",
    "$$\n",
    "\n",
    "This leads to the variance estimator of the OLS estimator\n",
    "\n",
    "$$\n",
    "\\hat{\\text{Var}}[\\hat{\\boldsymbol{\\beta}}_{OLS}] = S^2 \\left( \\mathbf{X}^\\top\\mathbf{X} \\right)^{-1}\n",
    "$$\n",
    "\n",
    "If error term is heteroskedastic then $\\sigma_i^2$ differs between observations. [Heteroscedastic robust standard errors](https://en.wikipedia.org/wiki/Heteroscedasticity-consistent_standard_errors) can be obtained using (under some regularity conditions)\n",
    "\n",
    "$$\n",
    "\\hat{\\text{Var}}[\\hat{\\boldsymbol{\\beta}}_{OLS}] = \\left( \\mathbf{X}^\\top\\mathbf{X} \\right)^{-1} \\mathbf{X}^\\top \\hat{\\boldsymbol{\\Omega}}\\mathbf{X} \\left( \\mathbf{X}^\\top\\mathbf{X} \\right)^{-1}\n",
    "$$\n",
    "\n",
    "where $\\hat{\\boldsymbol{\\Omega}} = \\text{Diag}[\\hat{e}_i^2]$. "
   ]
  },
  {
   "cell_type": "markdown",
   "id": "architectural-generic",
   "metadata": {},
   "source": [
    "## A general framework: m-estimators \n",
    "\n",
    "In financial economics we cannot solely rely on linear regressions, we also need to be able to estimate parameters of different densities or highly non-linear models. \n",
    "\n",
    "Some of the principles observed for OLS can be extended to more general type of estimators namely [m-estimators](https://en.wikipedia.org/wiki/M-estimator) that includes _Non-linear Least Squares (NLS)_ and _Maximum Likelihood Estimation (MLE)_. \n",
    "\n",
    "### Definition of m-estimator\n",
    "\n",
    "An m-estimator $\\hat{\\theta}$ of the $k \\times 1$ parameter vector $\\theta$ minimizes the objective function $Q_n(\\theta)$ that can be written as a sample average\n",
    "\n",
    "$$\n",
    "Q_n(\\theta) = \\frac{1}{n} \\sum_{i=1}^n q(y_i, \\mathbf{x}_i; \\theta)\n",
    "$$\n",
    "where $q(\\cdot)$ is scalar function. We assume independence over $i$.  \n",
    "\n",
    "Clearly, with $q(y_i, \\mathbf{x}_i; \\beta) = (y_i - \\mathbf{x}_i^\\top \\beta)^2$ OLS is an m-estimator!  The m-estimator is computed as the solution to the FOC \n",
    "\n",
    "$$\n",
    "\\left. \\frac{\\partial Q_n(\\theta)}{\\partial \\theta} \\right \\vert _{\\theta = \\hat{\\theta}} = \\frac{1}{n} \\sum_{i=1}^n \\left. \\frac{\\partial q_i(y_i, \\mathbf{x}_i ;\\theta)}{\\partial \\theta} \\right \\vert _{\\theta = \\hat{\\theta}} = \\mathbf{0}\n",
    "$$\n",
    "\n",
    "The $k$ equations with $k$ unknowns will sometimes have an explicit analytical solution, but often we need to use numerical methods to find a solution. \n",
    "\n",
    "### Some comments on properties of m-estimators\n",
    "\n",
    "Generally, it can be an audacious task to derive the properties of m-estimators such as NLS and MLE and it is not the objective of the course. \n",
    "\n",
    "__Consistency__\n",
    "\n",
    "We have to assume that there is a particular data generating process and a corresponding value of $\\theta$, say $\\theta_0$, which generate the data. We need to have that $\\theta_0$ is unique in the sense that other values of $\\theta$ would not correspond to the same data-generating proces ([identification](https://en.wikipedia.org/wiki/Identifiability)). \n",
    "\n",
    "In a linear regression model this holds when $\\mathbf{X}$ has full rank since then \n",
    "\n",
    "$$\n",
    "\\mathbf{x}^\\top \\beta_1 = \\mathbf{x}^\\top \\beta_2\n",
    "$$\n",
    "\n",
    "if and only if $\\beta_1=\\beta_2$. \n",
    "\n",
    "__Limit distribution__\n",
    "\n",
    "As in the case for OLS, the m-estimators that we consider will typically converge asymptotically to a multivariate normal\n",
    "\n",
    "$$\n",
    "\\sqrt{n} (\\hat{\\theta} - \\theta_0) \\to^d N(0, \\mathbf{A}_0^{-1} \\mathbf{B} \\mathbf{A}_0^{-1})\n",
    "$$\n",
    "\n",
    "where \n",
    "\n",
    "$$\n",
    "\\mathbf{A}_0 = \\text{plim} \\frac{1}{n} \\sum_{i=1}^n \\left. \\frac{\\partial^2 q_i(y_i, \\mathbf{x}_i ;\\theta)}{\\partial \\theta \\partial \\theta^\\top} \\right \\vert _{\\theta = \\theta_0} = \\text{lim} \\frac{1}{n} \\sum_{i=1}^n \\text{E} \\left[\\left. \\frac{\\partial^2 q_i(y_i, \\mathbf{x}_i ;\\theta)}{\\partial \\theta \\partial \\theta^\\top} \\right \\vert _{\\theta = \\theta_0} \\right]\n",
    "$$\n",
    "\n",
    "and \n",
    "\n",
    "$$\n",
    "\\mathbf{B}_0 = \\text{plim} \\frac{1}{n} \\sum_{i=1}^n \\left. \\frac{\\partial q_i(y_i, \\mathbf{x}_i ;\\theta)}{\\partial \\theta } \\frac{\\partial q_i(y_i, \\mathbf{x}_i ;\\theta)}{\\partial \\theta^\\top } \\right \\vert _{\\theta = \\theta_0} = \\text{lim} \\frac{1}{n} \\sum_{i=1}^n \\text{E} \\left[\\left. \\frac{\\partial q_i(y_i, \\mathbf{x}_i ;\\theta)}{\\partial \\theta } \\frac{\\partial q_i(y_i, \\mathbf{x}_i ;\\theta)}{\\partial \\theta^\\top } \\right \\vert _{\\theta = \\theta_0} \\right]\n",
    "$$\n",
    "\n",
    "We note that for OLS, we would have \n",
    "\n",
    "$$\n",
    "\\begin{align}\n",
    "\\mathbf{A}_0 & =  \\lim \\frac{1}{n} \\text{E} \\left[ \\mathbf{X}^\\top\\mathbf{X} \\right]  =  \\mathbf{M_{xx}} \\\\\n",
    "\\mathbf{B}_0 & = \\lim \\frac{1}{n} \\text{E} \\left[ \\mathbf{X}^\\top \\mathbf{e} \\mathbf{e}^\\top\\mathbf{X}   \\right]  = \\mathbf{M_{x\\Omega x}}\n",
    "\\end{align}\n",
    "$$\n",
    "\n",
    "such that we obtain the asymptotic distribution presented above. \n",
    "\n",
    "We also note that we could use the below estimators when approximating the limit distribution \n",
    "\n",
    "$$\n",
    "\\begin{align}\n",
    "\\hat{\\mathbf{A}} & = \\frac{1}{n} \\sum_{i=1}^n \\left. \\frac{\\partial^2 q_i(y_i, \\mathbf{x}_i ;\\theta)}{\\partial \\theta \\partial \\theta^\\top} \\right \\vert _{\\theta = \\hat{\\theta}}  \\\\\n",
    "\\hat{\\mathbf{B}} & = \\frac{1}{n} \\sum_{i=1}^n \\left. \\frac{\\partial q_i(y_i, \\mathbf{x}_i ;\\theta)}{\\partial \\theta } \\frac{\\partial q_i(y_i, \\mathbf{x}_i ;\\theta)}{\\partial \\theta^\\top } \\right \\vert _{\\theta = \\hat{\\theta}}\n",
    "\\end{align}\n",
    "$$"
   ]
  },
  {
   "cell_type": "markdown",
   "id": "characteristic-evaluation",
   "metadata": {},
   "source": [
    "## Maximum likelihood estimation (MLE)\n",
    "\n",
    "[Maximum likelihood estimation](https://en.wikipedia.org/wiki/Maximum_likelihood_estimation) is one of the most widely used estimation methods with a number of diserable properties, e.g. it will be the most efficient estimator among consistent asymptotically normal estimators. \n",
    "\n",
    "The MLE of $\\theta_0$ basically seeks to select the $\\theta$ that maximizes the likelihood of observing the actual sample. The joint density of the random sample $f(\\mathbf{y}, \\mathbf{X}; \\theta)$, which will define as the likelihood function, can under an independence assumption be written as the product of the marginal densities \n",
    "\n",
    "$$\n",
    "L_n (\\theta \\vert \\mathbf{y}, \\mathbf{X}) = f(\\mathbf{y}, \\mathbf{X}; \\theta) = \\prod_{i=1}^n f_{y, \\mathbf{x}_i} (y_i, \\mathbf{x}_i; \\theta)\n",
    "$$\n",
    "\n",
    "Since $\\ln$ is a positive monotone transformation, we can equivalently maximize the log-likelihood function \n",
    "\n",
    "$$\n",
    "\\mathcal{L}_n (\\theta \\vert \\mathbf{y}, \\mathbf{X}) = \\ln L_n (\\theta \\vert \\mathbf{y}, \\mathbf{X}) = \\sum_{i=1}^n \\ln f_{y, \\mathbf{x}_i} (y_i, \\mathbf{x}_i; \\theta)\n",
    "$$\n",
    "\n",
    "\n",
    "### Conditional likelihood\n",
    "\n",
    "We can factorize a density as the product between the conditional and marginal density\n",
    "\n",
    "$$\n",
    "L_n (\\theta \\vert \\mathbf{y}, \\mathbf{X}) = f(\\mathbf{y}, \\mathbf{X}; \\theta) = f(\\mathbf{y} \\vert \\mathbf{X}; \\theta) f(\\mathbf{X}; \\theta)  \n",
    "$$\n",
    "\n",
    "Typically, we will only focus on the conditional density $f(\\mathbf{y} \\vert \\mathbf{X}; \\theta)$ since we are interested in $\\mathbf{y}$ given $\\mathbf{X}$ (we will do this below). It will not be an issue if $\\mathbf{y}$ and $\\mathbf{X}$ depends on different sets of parameters, which often will be a reasonable assumption (but not always). \n",
    "\n",
    "In _time series modelling_, we also often use the notion of a conditional likelihood function since we cannot always apply an independence assumption.  Assume e.g. that $y_t$ depends on $y_{t-1}$ (and no regressors) then we could factorize (using T to indicate time series context)\n",
    "\n",
    "$$\n",
    "\\begin{align}\n",
    "L_T (\\theta \\vert \\mathbf{y}) &= f_{y_0, \\dots, y_T}(y_0, \\dots, y_T; \\theta) \\\\\n",
    "&= f_y(y_0; \\theta) f_{y_1, \\dots, y_T}(y_1, \\dots, y_T; \\theta) \\\\\n",
    "&= f_y(y_0; \\theta) \\prod_{t=1}^T f_{y_t \\vert y_{t-1}}(y_t \\vert y_{t-1}; \\theta)\n",
    "\\end{align}\n",
    "$$\n",
    "\n",
    "dropping $f_y(y_0; \\theta)$ will result in the conditional likelihood function that is conditional on the starting value. \n",
    "\n",
    "### M-estimator\n",
    "\n",
    "In order to be able to use the results for m-estimators, we just divide the log-likelihood function with $n$\n",
    "\n",
    "$$\n",
    "Q_n(\\theta) = \\frac{1}{n} \\mathcal{L}_n (\\theta) = \\frac{1}{n} \\sum_{i=1}^n \\ln f_{y, \\mathbf{x}_i} (y_i \\vert \\mathbf{x}_i; \\theta)\n",
    "$$\n",
    "\n",
    "__Remember:__ Most optimizers seek to minimize a function so we may need to multiply with minus one and minimize. \n",
    "\n",
    "__Example: Bernoulli__\n",
    "\n",
    "Assume that we observe a realization of the random sample $Y_1, ...., Y_{n}$ where $Y_i\\sim \\text{Bernoulli}(p), i=1,...,n$  \n",
    "\n",
    "We can write the likelihood function as \n",
    "\n",
    "$$\n",
    "\\begin{equation*}\n",
    "L(p) = \\prod_{i=1}^n f_Y(y_i;p) = \\prod_{i=1}^n p^{y_i}(1-p) ^{1-y_i} = p^{\\sum_{i=1}^n y_i}(1-p)^{\\sum_{i=1}^n (1-y_i)}\n",
    "\\end{equation*}\n",
    "$$\n",
    "\n",
    "We want to maximize with respect to $p$, but we first take the logarithm \n",
    "\n",
    "$$\n",
    "\\begin{equation*}\n",
    "\\ln L(p) = \\ln (p) \\sum_{i=1}^n y_i + \\ln(1-p) \\sum_{i=1}^n (1-y_i)\n",
    "\\end{equation*}\n",
    "$$\n",
    "\n",
    "The first order condition is (take derivative wrt. $p$)\n",
    "\n",
    "$$\n",
    "\\begin{equation*}\n",
    "\\frac{1}{p} \\sum_{i=1}^n y_i - \\frac{1}{1-p} \\left[n - \\sum_{i=1}^n y_i \\right] = 0\n",
    "\\end{equation*}\n",
    "$$\n",
    "\n",
    "such that we obtain the maximum-likelihood estimate\n",
    "\n",
    "$$\n",
    "p_e = \\frac{1}{n}\\sum_{i=1}^n y_i\n",
    "$$\n",
    "\n",
    "Below, we see a simple implementation in Python"
   ]
  },
  {
   "cell_type": "code",
   "execution_count": 8,
   "id": "local-trainer",
   "metadata": {},
   "outputs": [
    {
     "data": {
      "text/plain": [
       "0.4499999960279612"
      ]
     },
     "execution_count": 8,
     "metadata": {},
     "output_type": "execute_result"
    }
   ],
   "source": [
    "\"\"\"\n",
    "Define log-likelihood function\n",
    "\"\"\"\n",
    "\n",
    "def log_likelihood_function(p, x):\n",
    "    \n",
    "    log_like = np.log(p) * np.sum(x) + np.log(1-p) * np.sum(1-x)\n",
    "    \n",
    "    return log_like\n",
    "\n",
    "\"\"\"\n",
    "Generate data\n",
    "\"\"\"\n",
    "np.random.seed(5)\n",
    "bernoulli_data = np.random.binomial(1,0.5,size=20)\n",
    "\n",
    "\"\"\"\n",
    "Minimize negative of log-likelihood\n",
    "\"\"\"\n",
    "neg_log_lik = lambda p: -log_likelihood_function(p, bernoulli_data)\n",
    "\n",
    "res = minimize(neg_log_lik, 0.5, bounds={(0.00001,0.99999)})\n",
    "res.x[0]"
   ]
  },
  {
   "cell_type": "markdown",
   "id": "christian-person",
   "metadata": {},
   "source": [
    "### Information matrix equality\n",
    " \n",
    "The [information matrix](https://en.wikipedia.org/wiki/Fisher_information) can equivalently be written as \n",
    "\n",
    "$$\n",
    "I(\\theta) = -\\text{E} \\left[ \\left. \\frac{\\partial^2 \\mathcal{L}_n (\\theta)}{\\partial \\theta \\partial \\theta^\\top} \\right \\vert_{\\theta = \\theta_0}\\right] = \\text{E} \\left[ \\left. \\frac{\\partial \\mathcal{L}_n (\\theta)}{\\partial \\theta } \\frac{\\partial \\mathcal{L}_n (\\theta)}{\\partial \\theta^\\top } \\right \\vert_{\\theta = \\theta_0}\\right]\n",
    "$$\n",
    "\n",
    "### Asymptotic distribution \n",
    "\n",
    "The Information matrix equality implies that $-\\mathbf{A}_0 = \\mathbf{B}_0$ such that $\\mathbf{A}_0 ^{-1}\\mathbf{B}_0 \\mathbf{A}_0 ^{-1} =  \\mathbf{B}_0 ^{-1}=  -\\mathbf{A}_0^{-1}$. \n",
    "\n",
    "Using the results for m-estimators, we have \n",
    "\n",
    "$$\n",
    "\\sqrt{n} (\\hat{\\theta}_{MLE} - \\theta_0) \\to^d N(0, -\\mathbf{A}_0^{-1})\n",
    "$$\n",
    "\n",
    "or alternatively written as \n",
    "\n",
    "$$\n",
    "\\hat{\\theta}_{MLE} \\sim ^a N\\left(\\theta_0, -\\left(\\text{E} \\left[ \\left. \\frac{\\partial^2 \\mathcal{L}_n (\\theta)}{\\partial \\theta \\partial \\theta^\\top} \\right \\vert_{\\theta = \\theta_0}\\right] \\right)^{-1}\\right)\n",
    "$$\n",
    "\n",
    "Note that \n",
    "\n",
    "$$\n",
    "V(\\theta) = -\\left(\\text{E} \\left[ \\left. \\frac{\\partial^2 \\mathcal{L}_n (\\theta)}{\\partial \\theta \\partial \\theta^\\top} \\right \\vert_{\\theta = \\theta_0}\\right] \\right)^{-1}\n",
    "$$\n",
    "\n",
    "corresponds to Cramér-Rao's lower bound such that the MLE is the most efficient estimator among consistent and asympotically normal estimators. \n",
    "\n",
    "__Note:__ To avoid confusion we may note that \n",
    "\n",
    "$$\n",
    "-\\left(\\text{E} \\left[ \\left. \\frac{\\partial^2 \\mathcal{L}_n (\\theta)}{\\partial \\theta \\partial \\theta^\\top} \\right \\vert_{\\theta = \\theta_0}\\right] \\right)^{-1} = -\\left(\\text{E} \\left[ \\left. \\sum_{i=1}^n \\frac{\\partial^2 \\ln f_y(y_i; \\theta) }{\\partial \\theta \\partial \\theta^\\top} \\right \\vert_{\\theta = \\theta_0}\\right] \\right)^{-1} = - \\left(n\\text{E} \\left[ \\left.  \\frac{\\partial^2 \\ln f_y(y_i; \\theta) }{\\partial \\theta \\partial \\theta^\\top} \\right \\vert_{\\theta = \\theta_0}\\right] \\right)^{-1}  \n",
    "$$"
   ]
  },
  {
   "cell_type": "markdown",
   "id": "innovative-porcelain",
   "metadata": {},
   "source": [
    "## Non-linear Least Squares (NLS)\n",
    "\n",
    "A non-linear regression model specifies the conditional mean as \n",
    "\n",
    "$$\n",
    "\\text{E}[y_i \\vert \\mathbf{x}_i] = g(\\mathbf{x}_i; \\theta)\n",
    "$$\n",
    "\n",
    "or equivalently written as (assuming that $\\text{E}[\\mathbf{e} \\vert \\mathbf{x}] = 0$)\n",
    "\n",
    "$$\n",
    "y_i = g(\\mathbf{x}_i; \\theta) + e_i\n",
    "$$\n",
    "\n",
    "Clearly, linear regression is the special case $g(\\mathbf{x}_i; \\beta) = \\mathbf{x}_i^\\top \\beta$. \n",
    "\n",
    "The NLS estimator will minimize the sum of squared residuals or maximize (we can scale with $1/2$ without loss of generality)\n",
    "\n",
    "$$\n",
    "Q_n(\\theta) = - \\frac{1}{2n} \\sum_{i=1}^n (y_i - g(\\mathbf{x}_i; \\theta))^2\n",
    "$$\n",
    "\n",
    "The FOC gives us \n",
    "\n",
    "$$\n",
    "\\frac{\\partial Q_n(\\theta)}{\\partial \\theta} = \\frac{1}{n} \\sum_{i=1}^n \\frac{\\partial g(\\mathbf{x}_i; \\theta)}{\\partial \\theta} (y_i - g(\\mathbf{x}_i; \\theta)) = \\mathbf{0}\n",
    "$$\n",
    "\n",
    "or more compactly using matrix notation \n",
    "\n",
    "$$\n",
    "\\frac{\\partial Q_n(\\theta)}{\\partial \\theta} = \\frac{1}{n}\\frac{\\partial \\mathbf{g}^\\top}{\\partial \\theta} (\\mathbf{y}- \\mathbf{g})\n",
    "$$\n",
    "\n",
    "For consistency of the NLS estimator, it is crucial that the mean is specified correctly. \n",
    "\n",
    "Assuming a covariance matrix for the errors $\\text{E}[\\mathbf{e}^\\top \\mathbf{e} \\vert \\mathbf{X}] = \\boldsymbol{\\Omega}_0$\n",
    "and under regularity conditions, it will be the case that \n",
    "\n",
    "$$\n",
    "\\sqrt{n} (\\hat{\\theta}_{NLS} - \\theta_0) \\to^d N(0, \\mathbf{A}_0^{-1} \\mathbf{B}_0 \\mathbf{A}_0^{-1})\n",
    "$$\n",
    "\n",
    "with \n",
    "\n",
    "$$\n",
    "\\begin{align}\n",
    "\\mathbf{A}_0 &= \\text{plim} \\left. \\frac{1}{n} \\frac{\\partial \\mathbf{g}^\\top}{\\partial \\theta} \\frac{\\partial \\mathbf{g}}{\\partial \\theta^\\top}  \\right \\vert_{\\theta = \\theta_0}\\\\\n",
    "\\mathbf{B}_0 &= \\text{plim} \\left. \\frac{1}{n} \\frac{\\partial \\mathbf{g}^\\top}{\\partial \\theta} \\boldsymbol{\\Omega}_0 \\frac{\\partial \\mathbf{g}}{\\partial \\theta^\\top} \\right \\vert_{\\theta = \\theta_0}\n",
    "\\end{align}\n",
    "$$\n",
    "\n",
    "A reasonable estimator for $\\mathbf{A}_0$ is \n",
    "\n",
    "$$\n",
    "\\hat{\\mathbf{A}} = \\left. \\frac{1}{n} \\frac{\\partial \\mathbf{g}^\\top}{\\partial \\theta} \\frac{\\partial \\mathbf{g}}{\\partial \\theta^\\top}\\right \\vert_{\\theta = \\hat{\\theta}_{NLS}}\n",
    "$$\n",
    "\n",
    "For $\\mathbf{B}_0$ it depends (just as in the OLS case) on the assumption we can make about $\\boldsymbol{\\Omega}_0$. Assuming independence implies that $\\boldsymbol{\\Omega}_0$ must be a diagonal matrix. If homoskedasticity of the error term can be assumed then \n",
    "\n",
    "$$\n",
    "\\sqrt{n} (\\hat{\\theta}_{NLS} - \\theta_0) \\to^d N(0, \\sigma^2 \\mathbf{A}_0^{-1})\n",
    "$$\n",
    "\n",
    "and we just need to estimate $\\sigma^2$ using the sample variance. If we allow for heteroskedasticity, we can estimate \n",
    "\n",
    "$$\n",
    "\\hat{\\mathbf{B}} = \\left. \\frac{1}{n} \\frac{\\partial \\mathbf{g}^\\top}{\\partial \\theta} \\hat{\\boldsymbol{\\Omega}}\\frac{\\partial \\mathbf{g}}{\\partial \\theta^\\top}\\right \\vert_{\\theta = \\hat{\\theta}_{NLS}}\n",
    "$$\n",
    "\n",
    "where $\\hat{\\boldsymbol{\\Omega}} = \\text{Diag}[\\hat{e}_i^2]$. \n",
    "\n",
    "\n"
   ]
  },
  {
   "cell_type": "markdown",
   "id": "turkish-vulnerability",
   "metadata": {},
   "source": [
    "## Application: Exponential distribution \n",
    "\n",
    "The [exponential density](https://en.wikipedia.org/wiki/Exponential_distribution) is given by\n",
    "\n",
    "$$\n",
    "f_Y(y) = \\lambda e^{-\\lambda y}, \\; y > 0, \\; \\lambda > 0\n",
    "$$\n",
    "\n",
    "The mean and variance is respectively $1/\\lambda$ and $1/\\lambda^2$. The exponential distribution can be used to describe the time for a continuous process to change state or for an event to occur, e.g. time between roadkills on a given road. \n",
    "\n",
    "Below we plot the density of a exponential density (with the above parameterization) assuming $\\lambda = 12$. On average, we will wait $1/12$ time periods for one event to occur (one month if $y$ is measured in years). "
   ]
  },
  {
   "cell_type": "code",
   "execution_count": 9,
   "id": "suffering-affair",
   "metadata": {
    "scrolled": false
   },
   "outputs": [
    {
     "data": {
      "image/png": "[encoded data removed]",
      "text/plain": [
       "<Figure size 864x576 with 1 Axes>"
      ]
     },
     "metadata": {
      "needs_background": "light"
     },
     "output_type": "display_data"
    }
   ],
   "source": [
    "lam = 12.0\n",
    "y_values = np.linspace(0.001, 2.0, 1000)\n",
    "pdf_values = stats.expon.pdf(y_values, scale = 1 / lam)\n",
    "\n",
    "\"\"\"\n",
    "Plotting\n",
    "\"\"\"\n",
    "\n",
    "fig, ax = plt.subplots(figsize=(12, 8))\n",
    "ax.plot(y_values, pdf_values)\n",
    "ax.set_xlabel('$y$');\n",
    "ax.set_ylabel('$f_Y(y)$');"
   ]
  },
  {
   "cell_type": "markdown",
   "id": "threatened-transaction",
   "metadata": {},
   "source": [
    "We may introduce explanatory variables by specifying \n",
    "\n",
    "$$\n",
    "\\lambda = e^{\\mathbf{x}^\\top \\beta} \n",
    "$$\n",
    "\n",
    "ensuring $\\lambda > 0$ and specifying the conditional mean as \n",
    "\n",
    "$$\n",
    "\\text{E}[y \\vert \\mathbf{x}] = e^{-\\mathbf{x}^\\top \\beta}\n",
    "$$\n",
    "\n",
    "Assume that we observe a realization of a iid random sample $y_i, \\mathbf{x}_i$, $i = 1, ... n$. \n",
    "\n",
    "### The MLE \n",
    "\n",
    "The (conditional) log-likehood function can be written\n",
    "\n",
    "$$\n",
    "\\mathcal{L}_n (\\beta) =  \\sum_{i=1}^n  \\left[ \\mathbf{x}_i^\\top \\beta - e^{\\mathbf{x}_i^\\top \\beta} y_i\\right]\n",
    "$$\n",
    "\n",
    "with the FOC \n",
    "\n",
    "$$\n",
    "\\frac{\\partial \\mathcal{L}_n (\\beta)}{\\partial \\beta} =  \\sum_{i=1}^n  \\left[ \\mathbf{x}_i  - \\mathbf{x}_i e^{\\mathbf{x}_i^\\top \\beta} y_i\\right] = \\sum_{i=1}^n  \\mathbf{x}_i\\left[ 1  - e^{\\mathbf{x}_i^\\top \\beta} y_i\\right] = \\mathbf{0}\n",
    "$$\n",
    "\n",
    "To obtain the variance of the MLE estimator, it will be useful to note that (using the more general notation of m-estimators)\n",
    "\n",
    "$$\n",
    "\\begin{align}\n",
    "\\frac{1}{n} \\sum_{i=1}^n  \\frac{\\partial^2 q_i(y_i, \\mathbf{x}_i ;\\beta)}{\\partial \\beta \\partial \\beta^\\top} &=  \\frac{1}{n} \\sum_{i=1}^n -\\mathbf{x}_i \\mathbf{x}_i^\\top e^{\\mathbf{x}_i^\\top \\beta} y_i\\\\\n",
    "\\frac{1}{n} \\sum_{i=1}^n \\frac{\\partial q_i(y_i, \\mathbf{x}_i ;\\beta)}{\\partial \\beta } \\frac{\\partial q_i(y_i, \\mathbf{x}_i ;\\beta)}{\\partial \\beta^\\top }  &=      \\frac{1}{n} \\sum_{i=1}^n \\mathbf{x}_i \\mathbf{x}_i^\\top \\left[1 - e^{\\mathbf{x}_i^\\top \\beta} y_i \\right]^2\n",
    "\\end{align}\n",
    "$$\n",
    "\n",
    "\n",
    "### The NLS estimator\n",
    "\n",
    "A non-linear least squares estimator can be implemented by estimating \n",
    "\n",
    "$$\n",
    "y_i = e^{\\mathbf{x}_i^\\top \\beta} + e_i\n",
    "$$\n",
    "\n",
    "We also note that the error term is heteroskedastic since $\\text{Var}[y_i] = 1 / [e^{\\mathbf{x}_i^\\top \\beta}]^2$. Our FOC reads\n",
    "\n",
    "$$\n",
    "\\frac{1}{n} \\sum_{i=1}^n (y_i - e^{\\mathbf{x}_i^\\top \\beta})e^{\\mathbf{x}_i^\\top \\beta}\\mathbf{x}_i = \\mathbf{0}\n",
    "$$\n",
    "\n",
    "For calculating variance, we note that (using the notation for NLS above)\n",
    "\n",
    "$$\n",
    "\\begin{align}\n",
    "\\frac{1}{n} \\sum_{i=1}^n \\frac{\\partial g_i(y_i, \\mathbf{x}_i ;\\beta)}{\\partial \\beta } \\frac{\\partial g_i(y_i, \\mathbf{x}_i ;\\beta)}{\\partial \\beta^\\top }  &= \\frac{1}{n} \\sum_{i=1}^n e^{2\\mathbf{x}_i^\\top \\beta}\\mathbf{x}_i \\mathbf{x}_i^\\top \\\\\n",
    "\\frac{1}{n} \\sum_{i=1}^n \\sigma_i^2 \\frac{\\partial g_i(y_i, \\mathbf{x}_i ;\\beta)}{\\partial \\beta } \\frac{\\partial g_i(y_i, \\mathbf{x}_i ;\\beta)}{\\partial \\beta^\\top }  &=  \\frac{1}{n} \\sum_{i=1}^n e^{-2\\mathbf{x}_i^\\top \\beta} e^{2\\mathbf{x}_i^\\top \\beta}\\mathbf{x}_i \\mathbf{x}_i^\\top = \\frac{1}{n} \\sum_{i=1}^n \\mathbf{x}_i \\mathbf{x}_i^\\top\n",
    "\\end{align}\n",
    "$$"
   ]
  },
  {
   "cell_type": "markdown",
   "id": "lasting-interview",
   "metadata": {},
   "source": [
    "### Simulating data and implementing estimators\n",
    "\n",
    "We consider 10,000 iid draws from the data generating process\n",
    "\n",
    "$$\n",
    "y \\sim \\text{Exp}(\\beta_1 + \\beta_2 x)\n",
    "$$\n",
    "\n",
    "with $x \\sim N(1, 1)$ and $(\\beta_1, \\beta_2) = (1, -2)$. \n",
    "\n",
    "Below we implement the (negative) log-likelhood function and minimize it. "
   ]
  },
  {
   "cell_type": "code",
   "execution_count": 10,
   "id": "promotional-azerbaijan",
   "metadata": {},
   "outputs": [],
   "source": [
    "\"\"\"\n",
    "Generate data\n",
    "\"\"\"\n",
    "n_sim = 10000\n",
    "\n",
    "beta1 = 2.0\n",
    "beta2 = -1.0\n",
    "beta = np.array([beta1, beta2])\n",
    "\n",
    "x_data = np.random.normal(loc=1, scale=1, size=n_sim)\n",
    "x_data = np.c_[np.ones(n_sim), x_data]\n",
    "y_data = np.random.exponential(scale = 1 / np.exp(x_data @ beta), size=n_sim)"
   ]
  },
  {
   "cell_type": "code",
   "execution_count": 11,
   "id": "sunset-drill",
   "metadata": {},
   "outputs": [
    {
     "data": {
      "text/plain": [
       "array([ 1.97401107, -0.99806723])"
      ]
     },
     "execution_count": 11,
     "metadata": {},
     "output_type": "execute_result"
    }
   ],
   "source": [
    "\"\"\"\n",
    "Define log-likelihood function (negative)\n",
    "\"\"\"\n",
    "\n",
    "\n",
    "def log_likelihood_function(beta, y, x, individual=False):\n",
    "    \n",
    "    log_like = x @ beta - np.exp(x @ beta) * y\n",
    "    \n",
    "    if individual: \n",
    "        return -log_like\n",
    "    else:\n",
    "        return -np.sum(log_like)\n",
    "\n",
    "\"\"\"\n",
    "Minimize negative log-likelihood \n",
    "\"\"\"\n",
    "res_dict = {}\n",
    "res_dict['MLE'] = {}\n",
    "\n",
    "res = minimize(log_likelihood_function, [0.5, 0.5], args=(y_data, x_data))\n",
    "res_dict['MLE']['beta1'] = res.x[0]\n",
    "res_dict['MLE']['beta2'] = res.x[1]\n",
    "params_mle = res.x\n",
    "params_mle"
   ]
  },
  {
   "cell_type": "markdown",
   "id": "classified-savage",
   "metadata": {},
   "source": [
    "We have several different options when calculating the variance of the estimator. In this particular model, we know that \n",
    "\n",
    "$$\n",
    "\\begin{align}\n",
    "\\text{E}\\left[\\frac{1}{n} \\sum_{i=1}^n \\mathbf{x}_i \\mathbf{x}_i^\\top \\left[1 - e^{\\mathbf{x}_i^\\top \\beta} y_i \\right]^2 \\right] &= \\frac{1}{n}\\sum_{i=1}^n \\text{E}\\left[\\mathbf{x}_i \\mathbf{x}_i^\\top \\left[1 - e^{\\mathbf{x}_i^\\top \\beta} y_i \\right]^2 \\right] \\\\\n",
    "        & = \\frac{1}{n}\\sum_{i=1}^n \\text{E}\\left[\\mathbf{x}_i \\mathbf{x}_i^\\top \\right]\\\\\n",
    "\\text{E}\\left[ \\frac{1}{n} \\sum_{i=1}^n -\\mathbf{x}_i \\mathbf{x}_i^\\top e^{\\mathbf{x}_i^\\top \\beta} y_i \\right] &= -\\frac{1}{n}\\sum_{i=1}^n \\text{E}\\left[\\mathbf{x}_i \\mathbf{x}_i^\\top \\right]\n",
    "\\end{align}\n",
    "$$\n",
    "\n",
    "Given our assumptions about $x$, we know that \n",
    "\n",
    "$$\n",
    "\\text{E}\\left[\\mathbf{x}_i \\mathbf{x}_i^\\top \\right] = \\text{E}\\left[\\begin{bmatrix} 1 \\\\ x_i \\end{bmatrix} \\begin{bmatrix} 1 & x_i \\end{bmatrix} \\right] = \\text{E}\\left[\\begin{bmatrix} 1 & x_i \\\\ x_i & x_i^2 \\end{bmatrix} \\right] = \\begin{bmatrix} 1 & 1 \\\\ 1 & 2 \\end{bmatrix} \n",
    "$$\n",
    "\n",
    "such that the variance is given by\n",
    "\n",
    "$$\n",
    "\\text{Var}[\\hat{\\beta}] = - \\left[-n \\text{E}\\left[\\mathbf{x}_i \\mathbf{x}_i^\\top \\right]\\right]^{-1}\n",
    "$$"
   ]
  },
  {
   "cell_type": "code",
   "execution_count": 12,
   "id": "relevant-coalition",
   "metadata": {},
   "outputs": [
    {
     "data": {
      "text/plain": [
       "array([[ 0.0002, -0.0001],\n",
       "       [-0.0001,  0.0001]])"
      ]
     },
     "execution_count": 12,
     "metadata": {},
     "output_type": "execute_result"
    }
   ],
   "source": [
    "exp_xx_true = np.array([[1, 1], [1, 2]])\n",
    "param_mle_cov_true = np.linalg.inv(n_sim*exp_xx_true)\n",
    "\n",
    "res_dict['MLE']['std1_true'] = np.sqrt(param_mle_cov_true[0,0])\n",
    "res_dict['MLE']['std2_true'] = np.sqrt(param_mle_cov_true[1,1])\n",
    "\n",
    "# print covariance matrix of parameter estimator \n",
    "param_mle_cov_true"
   ]
  },
  {
   "cell_type": "markdown",
   "id": "republican-yorkshire",
   "metadata": {},
   "source": [
    "Generally, we observe real data, i.e. we do not know the true data generating process, such that we need to estimate the variance of the estimator. We need to evaluate the below expression at the MLE estimate. \n",
    "\n",
    "\n",
    "$$\n",
    "\\begin{align}\n",
    "\\frac{1}{n} \\sum_{i=1}^n  \\frac{\\partial^2 q_i(y_i, \\mathbf{x}_i ;\\beta)}{\\partial \\beta \\partial \\beta^\\top} &= \\frac{1}{n} \\sum_{i=1}^n -\\mathbf{x}_i \\mathbf{x}_i^\\top e^{\\mathbf{x}_i^\\top \\beta} y_i \\\\\n",
    "\\frac{1}{n} \\sum_{i=1}^n \\frac{\\partial q_i(y_i, \\mathbf{x}_i ;\\beta)}{\\partial \\beta } \\frac{\\partial q_i(y_i, \\mathbf{x}_i ;\\beta)}{\\partial \\beta^\\top }  &=     \\frac{1}{n} \\sum_{i=1}^n \\mathbf{x}_i \\mathbf{x}_i^\\top \\left[1 - e^{\\mathbf{x}_i^\\top \\beta} y_i \\right]^2\n",
    "\\end{align}\n",
    "$$"
   ]
  },
  {
   "cell_type": "code",
   "execution_count": 8,
   "id": "civic-movie",
   "metadata": {},
   "outputs": [],
   "source": [
    "\"\"\"\n",
    "Gradient \n",
    "\"\"\"\n",
    "\n",
    "def outer_gradient(beta, x, y): \n",
    "    \n",
    "    return np.sum(((1 - np.exp(x @ beta) * y)**2)[:, None, None] * np.einsum('ji,jk->jik',x, x), axis=0)\n",
    "    \n",
    "\n",
    "\"\"\"\n",
    "Hessian \n",
    "\"\"\"\n",
    "\n",
    "def hessian(beta, x, y): \n",
    "    \n",
    "    return -np.sum((np.exp(x_data @ beta) * y)[:, None, None] * \n",
    "                   np.einsum('ji,jk->jik',x, x), axis=0) \n",
    "    "
   ]
  },
  {
   "cell_type": "code",
   "execution_count": 9,
   "id": "executed-clinic",
   "metadata": {},
   "outputs": [],
   "source": [
    "A = hessian(params_mle, x_data, y_data)\n",
    "B = outer_gradient(params_mle, x_data, y_data)\n",
    "\n",
    "param_mle_cov_A = np.linalg.inv(-A)\n",
    "res_dict['MLE']['std1_A'] = np.sqrt(param_mle_cov_A[0,0])\n",
    "res_dict['MLE']['std2_A'] = np.sqrt(param_mle_cov_A[1,1])\n",
    "\n",
    "param_mle_cov_B = np.linalg.inv(B)\n",
    "res_dict['MLE']['std1_B'] = np.sqrt(param_mle_cov_B[0,0])\n",
    "res_dict['MLE']['std2_B'] = np.sqrt(param_mle_cov_B[1,1])\n",
    "\n",
    "param_mle_cov_sandwich = np.linalg.inv(A) @ B @ np.linalg.inv(A)\n",
    "res_dict['MLE']['std1_SW'] = np.sqrt(param_mle_cov_sandwich[0,0])\n",
    "res_dict['MLE']['std2_SW'] = np.sqrt(param_mle_cov_sandwich[1,1])"
   ]
  },
  {
   "cell_type": "code",
   "execution_count": 10,
   "id": "floppy-amino",
   "metadata": {},
   "outputs": [
    {
     "data": {
      "text/plain": [
       "array([[ 1.97106342e-04, -9.72262107e-05],\n",
       "       [-9.72262107e-05,  9.73462283e-05]])"
      ]
     },
     "execution_count": 10,
     "metadata": {},
     "output_type": "execute_result"
    }
   ],
   "source": [
    "# covariance matrix based on A\n",
    "param_mle_cov_A"
   ]
  },
  {
   "cell_type": "code",
   "execution_count": 11,
   "id": "nasty-thousand",
   "metadata": {},
   "outputs": [
    {
     "data": {
      "text/plain": [
       "array([[ 1.91148815e-04, -9.31778017e-05],\n",
       "       [-9.31778017e-05,  8.95159024e-05]])"
      ]
     },
     "execution_count": 11,
     "metadata": {},
     "output_type": "execute_result"
    }
   ],
   "source": [
    "# covariance matrix based on B\n",
    "param_mle_cov_B"
   ]
  },
  {
   "cell_type": "code",
   "execution_count": 12,
   "id": "concerned-algebra",
   "metadata": {},
   "outputs": [
    {
     "data": {
      "text/plain": [
       "array([[ 0.00020328, -0.00010155],\n",
       "       [-0.00010155,  0.00010604]])"
      ]
     },
     "execution_count": 12,
     "metadata": {},
     "output_type": "execute_result"
    }
   ],
   "source": [
    "# covariance matrix based on A^{-1}BA^{-1} \"Sandwich formula\"\n",
    "param_mle_cov_sandwich"
   ]
  },
  {
   "cell_type": "markdown",
   "id": "quiet-alabama",
   "metadata": {},
   "source": [
    "The above calculations assume that we have derived the formula for \"A\" and \"B\" such that we \"just\" need to evaluate at the MLE estimate. \n",
    "\n",
    "However, it may be a tedious task. A common approach is to use numerical derivatives or other tools to calculate \"A\" and \"B\". Below we use the `statsmodels.tools.numdiff` package.  \n",
    "\n"
   ]
  },
  {
   "cell_type": "code",
   "execution_count": 13,
   "id": "champion-impossible",
   "metadata": {},
   "outputs": [],
   "source": [
    "scores = approx_fprime(params_mle, log_likelihood_function, args=(y_data, x_data, True))\n",
    "B_approx = scores.T @ scores  #np.sum(np.einsum('ji,jk->jik', scores, scores), axis=0)\n",
    "\n",
    "A_approx = -approx_hess(params_mle, log_likelihood_function, args=(y_data, x_data))\n",
    "\n",
    "param_mle_cov_A_num = np.linalg.inv(-A_approx)\n",
    "res_dict['MLE']['std1_A_num'] = np.sqrt(param_mle_cov_A_num[0,0])\n",
    "res_dict['MLE']['std2_A_num'] = np.sqrt(param_mle_cov_A_num[1,1])\n",
    "\n",
    "param_mle_cov_B_num = np.linalg.inv(B_approx)\n",
    "res_dict['MLE']['std1_B_num'] = np.sqrt(param_mle_cov_B_num[0,0])\n",
    "res_dict['MLE']['std2_B_num'] = np.sqrt(param_mle_cov_B_num[1,1])\n",
    "\n",
    "param_mle_cov_sandwich_num = np.linalg.inv(A_approx) @ B_approx @ np.linalg.inv(A_approx)\n",
    "res_dict['MLE']['std1_SW_num'] = np.sqrt(param_mle_cov_sandwich_num[0,0])\n",
    "res_dict['MLE']['std2_SW_num'] = np.sqrt(param_mle_cov_sandwich_num[1,1])"
   ]
  },
  {
   "cell_type": "code",
   "execution_count": 15,
   "id": "worst-amber",
   "metadata": {},
   "outputs": [
    {
     "data": {
      "text/plain": [
       "array([[ 1.97106337e-04, -9.72262079e-05],\n",
       "       [-9.72262079e-05,  9.73462256e-05]])"
      ]
     },
     "execution_count": 15,
     "metadata": {},
     "output_type": "execute_result"
    }
   ],
   "source": [
    "# covariance matrix based on A\n",
    "param_mle_cov_A_num"
   ]
  },
  {
   "cell_type": "code",
   "execution_count": 16,
   "id": "sexual-breakdown",
   "metadata": {},
   "outputs": [
    {
     "data": {
      "text/plain": [
       "array([[ 2.01714629e-04, -9.84278872e-05],\n",
       "       [-9.84278872e-05,  9.41727929e-05]])"
      ]
     },
     "execution_count": 16,
     "metadata": {},
     "output_type": "execute_result"
    }
   ],
   "source": [
    "# covariance matrix based on B\n",
    "param_mle_cov_B_num"
   ]
  },
  {
   "cell_type": "code",
   "execution_count": 17,
   "id": "temporal-bolivia",
   "metadata": {},
   "outputs": [
    {
     "data": {
      "text/plain": [
       "array([[ 1.92627079e-04, -9.61372876e-05],\n",
       "       [-9.61372876e-05,  1.00833162e-04]])"
      ]
     },
     "execution_count": 17,
     "metadata": {},
     "output_type": "execute_result"
    }
   ],
   "source": [
    "# covariance matrix based on A^{-1}BA^{-1} \"Sandwich formula\"\n",
    "param_mle_cov_sandwich_num"
   ]
  },
  {
   "cell_type": "code",
   "execution_count": 18,
   "id": "engaging-naples",
   "metadata": {},
   "outputs": [
    {
     "data": {
      "text/plain": [
       "{'MLE': {'beta1': 1.974011073890516,\n",
       "  'beta2': -0.9980672281314584,\n",
       "  'std1_true': 0.01414213562373095,\n",
       "  'std2_true': 0.01,\n",
       "  'std1_A': 0.014039456603625048,\n",
       "  'std2_A': 0.009866419224603337,\n",
       "  'std1_B': 0.013825657850551797,\n",
       "  'std2_B': 0.00946128439440952,\n",
       "  'std1_SW': 0.0142576030187802,\n",
       "  'std2_SW': 0.010297583571449402,\n",
       "  'std1_A_num': 0.014039456437573214,\n",
       "  'std2_A_num': 0.009866419084660134,\n",
       "  'std1_B_num': 0.014202627548821187,\n",
       "  'std2_B_num': 0.009704266736059564,\n",
       "  'std1_SW_num': 0.013879015763792479,\n",
       "  'std2_SW_num': 0.010041571706641968}}"
      ]
     },
     "execution_count": 18,
     "metadata": {},
     "output_type": "execute_result"
    }
   ],
   "source": [
    "res_dict"
   ]
  },
  {
   "cell_type": "markdown",
   "id": "enhanced-frame",
   "metadata": {},
   "source": [
    "We have specified the model correctly and have lots of data, so it is no surprice that maximum likelihood performs well. Due to the information matrix equality, then using different variance estimators gives us very similar results. \n",
    "\n",
    "Next, we define the NLS objective and minimze it. "
   ]
  },
  {
   "cell_type": "code",
   "execution_count": 19,
   "id": "suitable-subdivision",
   "metadata": {},
   "outputs": [],
   "source": [
    "def objective_nls(beta, y, x, individual=False): \n",
    "    \n",
    "    loss = np.square(y - np.exp(-x @ beta))\n",
    "    \n",
    "    if individual: \n",
    "        return loss\n",
    "    else:\n",
    "        return np.sum(loss) / len(y)\n",
    "    \n",
    "def foc_nls(beta, y, x): \n",
    "    \n",
    "    der = (y - np.exp(-x @ beta)) * np.exp(-x @ beta) @ x\n",
    "    \n",
    "\n",
    "    return np.sum(der)\n"
   ]
  },
  {
   "cell_type": "code",
   "execution_count": 20,
   "id": "powerful-proof",
   "metadata": {},
   "outputs": [
    {
     "data": {
      "text/plain": [
       "array([ 1.80722036, -0.92821435])"
      ]
     },
     "execution_count": 20,
     "metadata": {},
     "output_type": "execute_result"
    }
   ],
   "source": [
    "res_dict['NLS'] = {}\n",
    "\n",
    "res = minimize(objective_nls, [1.0, -2.0], args=(y_data, x_data, False))\n",
    "res_dict['NLS']['beta1'] = res.x[0]\n",
    "res_dict['NLS']['beta2'] = res.x[1]\n",
    "params_nls = res.x\n",
    "params_nls"
   ]
  },
  {
   "cell_type": "code",
   "execution_count": 21,
   "id": "present-setup",
   "metadata": {},
   "outputs": [
    {
     "data": {
      "text/plain": [
       "      fun: 0.9972960069476642\n",
       " hess_inv: array([[ 5.00606744, -1.63539313],\n",
       "       [-1.63539313,  0.59969104]])\n",
       "      jac: array([-2.98023224e-08, -7.45058060e-08])\n",
       "  message: 'Optimization terminated successfully.'\n",
       "     nfev: 84\n",
       "      nit: 26\n",
       "     njev: 28\n",
       "   status: 0\n",
       "  success: True\n",
       "        x: array([ 1.80722036, -0.92821435])"
      ]
     },
     "execution_count": 21,
     "metadata": {},
     "output_type": "execute_result"
    }
   ],
   "source": [
    "res"
   ]
  },
  {
   "cell_type": "code",
   "execution_count": 22,
   "id": "trained-military",
   "metadata": {},
   "outputs": [
    {
     "data": {
      "image/png": "[encoded data removed]",
      "text/plain": [
       "<Figure size 432x288 with 1 Axes>"
      ]
     },
     "metadata": {
      "needs_background": "light"
     },
     "output_type": "display_data"
    }
   ],
   "source": [
    "plt.scatter(x_data[:, 1], y_data)\n",
    "plt.scatter(x_data[:, 1],  np.exp(-x_data @ params_nls));"
   ]
  },
  {
   "cell_type": "markdown",
   "id": "entire-extra",
   "metadata": {},
   "source": [
    "Next step is to calculate the variance of the NLS estimator. Again, we can either use the exact analytical expressions or use numerical derivatives. We consider the analytical derivatives. \n",
    "\n",
    "We implement \n",
    "\n",
    "$$\n",
    "\\begin{align}\n",
    "\\frac{1}{n} \\sum_{i=1}^n \\frac{\\partial g_i(y_i, \\mathbf{x}_i ;\\beta)}{\\partial \\beta } \\frac{\\partial g_i(y_i, \\mathbf{x}_i ;\\beta)}{\\partial \\beta^\\top }  &= \\frac{1}{n} \\sum_{i=1}^n e^{2\\mathbf{x}_i^\\top \\beta}\\mathbf{x}_i \\mathbf{x}_i^\\top \\\\\n",
    "\\frac{1}{n} \\sum_{i=1}^n \\sigma_i^2 \\frac{\\partial g_i(y_i, \\mathbf{x}_i ;\\beta)}{\\partial \\beta } \\frac{\\partial g_i(y_i, \\mathbf{x}_i ;\\beta)}{\\partial \\beta^\\top }  &=  \\frac{1}{n} \\sum_{i=1}^n e^{-2\\mathbf{x}_i^\\top \\beta} e^{2\\mathbf{x}_i^\\top \\beta}\\mathbf{x}_i \\mathbf{x}_i^\\top = \\frac{1}{n} \\sum_{i=1}^n \\mathbf{x}_i \\mathbf{x}_i^\\top\n",
    "\\end{align}\n",
    "$$"
   ]
  },
  {
   "cell_type": "code",
   "execution_count": 23,
   "id": "certain-brass",
   "metadata": {},
   "outputs": [],
   "source": [
    "def calculate_scores_g(beta, y, x):\n",
    "    return np.exp(-x @ beta)[:, None] * x"
   ]
  },
  {
   "cell_type": "code",
   "execution_count": 24,
   "id": "married-mercury",
   "metadata": {},
   "outputs": [],
   "source": [
    "scores_g = calculate_scores_g(params_nls, y_data, x_data)"
   ]
  },
  {
   "cell_type": "code",
   "execution_count": 25,
   "id": "tight-chicken",
   "metadata": {},
   "outputs": [],
   "source": [
    "A = scores_g.T @ scores_g\n",
    "B = scores_g.T @ np.diag(np.exp(-2*x_data @ params_nls)) @ scores_g\n",
    "B_alt = scores_g.T @ np.diag((y_data - np.exp(-x_data @ params_nls) )**2) @ scores_g"
   ]
  },
  {
   "cell_type": "code",
   "execution_count": 26,
   "id": "weird-christmas",
   "metadata": {},
   "outputs": [],
   "source": [
    "param_nls_cov_A_num = np.linalg.inv(A) #<-- understates variance\n",
    "res_dict['NLS']['std1_A_num'] = np.sqrt(param_nls_cov_A_num[0,0])\n",
    "res_dict['NLS']['std2_A_num'] = np.sqrt(param_nls_cov_A_num[1,1])\n",
    "\n",
    "param_nls_cov_B_num = np.linalg.inv(B) #<-- understates variance\n",
    "res_dict['NLS']['std1_B_num'] = np.sqrt(param_nls_cov_B_num[0,0])\n",
    "res_dict['NLS']['std2_B_num'] = np.sqrt(param_nls_cov_B_num[1,1])\n",
    "\n",
    "param_nls_cov_sandwich_num = np.linalg.inv(A) @ B @ np.linalg.inv(A) #<-- valid estimator due to heteroskedasticity\n",
    "res_dict['NLS']['std1_SW_num'] = np.sqrt(param_nls_cov_sandwich_num[0,0])\n",
    "res_dict['NLS']['std2_SW_num'] = np.sqrt(param_nls_cov_sandwich_num[1,1])"
   ]
  },
  {
   "cell_type": "code",
   "execution_count": 27,
   "id": "frank-cleveland",
   "metadata": {},
   "outputs": [
    {
     "data": {
      "text/plain": [
       "array([[ 0.00109893, -0.00036138],\n",
       "       [-0.00036138,  0.00013217]])"
      ]
     },
     "execution_count": 27,
     "metadata": {},
     "output_type": "execute_result"
    }
   ],
   "source": [
    "param_nls_cov_A_num"
   ]
  },
  {
   "cell_type": "code",
   "execution_count": 28,
   "id": "chronic-cable",
   "metadata": {},
   "outputs": [
    {
     "data": {
      "text/plain": [
       "array([[ 2.89741818e-04, -7.18559911e-05],\n",
       "       [-7.18559911e-05,  1.82914807e-05]])"
      ]
     },
     "execution_count": 28,
     "metadata": {},
     "output_type": "execute_result"
    }
   ],
   "source": [
    "param_nls_cov_B_num"
   ]
  },
  {
   "cell_type": "code",
   "execution_count": 29,
   "id": "appreciated-investment",
   "metadata": {},
   "outputs": [
    {
     "data": {
      "text/plain": [
       "array([[ 0.02092169, -0.00939263],\n",
       "       [-0.00939263,  0.00429182]])"
      ]
     },
     "execution_count": 29,
     "metadata": {},
     "output_type": "execute_result"
    }
   ],
   "source": [
    "param_nls_cov_sandwich_num"
   ]
  },
  {
   "cell_type": "code",
   "execution_count": 30,
   "id": "powerful-pontiac",
   "metadata": {},
   "outputs": [
    {
     "data": {
      "text/plain": [
       "{'MLE': {'beta1': 1.974011073890516,\n",
       "  'beta2': -0.9980672281314584,\n",
       "  'std1_true': 0.01414213562373095,\n",
       "  'std2_true': 0.01,\n",
       "  'std1_A': 0.014039456603625048,\n",
       "  'std2_A': 0.009866419224603337,\n",
       "  'std1_B': 0.013825657850551797,\n",
       "  'std2_B': 0.00946128439440952,\n",
       "  'std1_SW': 0.0142576030187802,\n",
       "  'std2_SW': 0.010297583571449402,\n",
       "  'std1_A_num': 0.014039456437573214,\n",
       "  'std2_A_num': 0.009866419084660134,\n",
       "  'std1_B_num': 0.014202627548821187,\n",
       "  'std2_B_num': 0.009704266736059564,\n",
       "  'std1_SW_num': 0.013879015763792479,\n",
       "  'std2_SW_num': 0.010041571706641968},\n",
       " 'NLS': {'beta1': 1.8072203587916136,\n",
       "  'beta2': -0.9282143471651557,\n",
       "  'std1_A_num': 0.03315010545389259,\n",
       "  'std2_A_num': 0.011496339697411114,\n",
       "  'std1_B_num': 0.017021804189629706,\n",
       "  'std2_B_num': 0.00427685406441439,\n",
       "  'std1_SW_num': 0.14464332683892678,\n",
       "  'std2_SW_num': 0.06551195385659007}}"
      ]
     },
     "execution_count": 30,
     "metadata": {},
     "output_type": "execute_result"
    }
   ],
   "source": [
    "res_dict"
   ]
  },
  {
   "cell_type": "markdown",
   "id": "aggregate-nitrogen",
   "metadata": {},
   "source": [
    "## Estimation using SciPy\n",
    "\n",
    "`scipy` provides MLE methods for implemented distributions (see e.g. [here](https://docs.scipy.org/doc/scipy/reference/generated/scipy.stats.rv_continuous.fit.html)). For instance, we can fit the parameters of a normal distribution. "
   ]
  },
  {
   "cell_type": "code",
   "execution_count": 37,
   "id": "center-bouquet",
   "metadata": {},
   "outputs": [
    {
     "name": "stdout",
     "output_type": "stream",
     "text": [
      "MLE mu: 5.01203350388008\n",
      "MLE std: 1.0044464679061866\n",
      "\n",
      "SciPy mu: 5.01203350388008\n",
      "SciPy std: 1.0044464679061866\n"
     ]
    }
   ],
   "source": [
    "\"\"\"\n",
    "Simulate Normal data and estimate parameters\n",
    "\"\"\"\n",
    "\n",
    "num_sim = 10000\n",
    "sigma = 1\n",
    "mu = 5\n",
    "\n",
    "\n",
    "norm_data = np.random.normal(loc=mu, scale=sigma, size=num_sim)\n",
    "\n",
    "# Known MLE \n",
    "mu_est = np.mean(norm_data)\n",
    "variance_est = np.var(norm_data)\n",
    "sigma_est = np.sqrt(variance_est)\n",
    "\n",
    "print(\"MLE mu: \" + str(mu_est))\n",
    "print(\"MLE std: \" + str(sigma_est) + \"\\n\")\n",
    "\n",
    "# fit using SciPy\n",
    "mu_scipy_est, sigma_scipy_est = stats.norm.fit(norm_data)\n",
    "\n",
    "print(\"SciPy mu: \" + str(mu_scipy_est))\n",
    "print(\"SciPy std: \" + str(sigma_scipy_est))"
   ]
  },
  {
   "cell_type": "markdown",
   "id": "regulation-bosnia",
   "metadata": {},
   "source": [
    "## Estimation using Statsmodels\n",
    "\n",
    "`scipy` provides a quick MLE implementation for different distributions, but may not be applicable for more complicated problem. \n",
    "\n",
    "`statsmodels` provides a framework for implementing generic MLE estimators (see [docs](https://www.statsmodels.org/dev/examples/notebooks/generated/generic_mle.html)). Let us try to implement our exponential model using `statsmodels`!"
   ]
  },
  {
   "cell_type": "code",
   "execution_count": 41,
   "id": "healthy-scholarship",
   "metadata": {},
   "outputs": [
    {
     "name": "stdout",
     "output_type": "stream",
     "text": [
      "Optimization terminated successfully.\n",
      "         Current function value: 0.022826\n",
      "         Iterations: 50\n",
      "         Function evaluations: 98\n",
      "                             Exponential Results                              \n",
      "==============================================================================\n",
      "Dep. Variable:                      y   Log-Likelihood:                -228.26\n",
      "Model:                    Exponential   AIC:                             460.5\n",
      "Method:            Maximum Likelihood   BIC:                             474.9\n",
      "Date:                Wed, 01 Sep 2021                                         \n",
      "Time:                        22:01:58                                         \n",
      "No. Observations:               10000                                         \n",
      "Df Residuals:                    9998                                         \n",
      "Df Model:                           1                                         \n",
      "==============================================================================\n",
      "                 coef    std err          z      P>|z|      [0.025      0.975]\n",
      "------------------------------------------------------------------------------\n",
      "const          1.9740      0.014    140.597      0.000       1.946       2.001\n",
      "x1            -0.9980      0.010   -101.154      0.000      -1.017      -0.979\n",
      "==============================================================================\n"
     ]
    }
   ],
   "source": [
    "from statsmodels.base.model import GenericLikelihoodModel\n",
    "\n",
    "# overwrite loglikelihood function in Generic Likelihood Class\n",
    "class Exponential(GenericLikelihoodModel):\n",
    "    \n",
    "    def loglike(self, params):\n",
    "        exog = self.exog\n",
    "        endog = self.endog\n",
    "        return (exog @ params - np.exp(exog @ params) * endog).sum()\n",
    "\n",
    "# fit models\n",
    "exponential_fit = Exponential(y_data, x_data).fit()\n",
    "\n",
    "# print results\n",
    "print(exponential_fit.summary())"
   ]
  },
  {
   "cell_type": "code",
   "execution_count": 43,
   "id": "respiratory-drill",
   "metadata": {},
   "outputs": [
    {
     "data": {
      "text/plain": [
       "array([ 1.97401107, -0.99806723])"
      ]
     },
     "execution_count": 43,
     "metadata": {},
     "output_type": "execute_result"
    }
   ],
   "source": [
    "\"\"\"\n",
    "Our previous estimates\n",
    "\"\"\"\n",
    "\n",
    "params_mle"
   ]
  },
  {
   "cell_type": "markdown",
   "id": "hourly-passion",
   "metadata": {},
   "source": [
    "# References\n",
    "\n",
    "## Books\n",
    "\n",
    " [Microeconometrics: Methods and Applications, Cameron and Trivedi (2005)](https://www.cambridge.org/highereducation/books/microeconometrics/982158DE989697607C858068ED05C7B1#overview)\n",
    " \n",
    " [Econometric Analysis 7th edition, William H. Greene (2012)](https://www.amazon.com/Econometric-Analysis-7th-William-Greene/dp/0131395386)\n"
   ]
  }
 ],
 "metadata": {
  "kernelspec": {
   "display_name": "python_for_fin_econ",
   "language": "python",
   "name": "python_for_fin_econ"
  },
  "language_info": {
   "codemirror_mode": {
    "name": "ipython",
    "version": 3
   },
   "file_extension": ".py",
   "mimetype": "text/x-python",
   "name": "python",
   "nbconvert_exporter": "python",
   "pygments_lexer": "ipython3",
   "version": "3.8.6"
  }
 },
 "nbformat": 4,
 "nbformat_minor": 5
}
