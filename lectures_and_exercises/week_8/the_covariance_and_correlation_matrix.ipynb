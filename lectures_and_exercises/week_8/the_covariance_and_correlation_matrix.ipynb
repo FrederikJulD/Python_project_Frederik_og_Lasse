{
 "cells": [
  {
   "cell_type": "code",
   "execution_count": 102,
   "id": "personal-retention",
   "metadata": {},
   "outputs": [
    {
     "name": "stdout",
     "output_type": "stream",
     "text": [
      "The autoreload extension is already loaded. To reload it, use:\n",
      "  %reload_ext autoreload\n"
     ]
    }
   ],
   "source": [
    "import sys\n",
    "sys.path.insert(0,'C:\\\\code\\\\python_for_the_financial_economist\\\\')\n",
    "\n",
    "\"\"\"\n",
    "Magic commands\n",
    "\"\"\"\n",
    "\n",
    "%load_ext autoreload\n",
    "%autoreload 2\n",
    "\n",
    "\"\"\"\n",
    "Load relevant packages\n",
    "\"\"\"\n",
    "\n",
    "import numpy as np\n",
    "\n",
    "import matplotlib.pyplot as plt\n",
    "from matplotlib.patches import Polygon\n",
    "from matplotlib import animation, cm\n",
    "\n",
    "from scipy import stats\n",
    "from scipy import optimize\n",
    "from scipy.optimize import minimize\n",
    "from functools import reduce\n",
    "\n",
    "from sklearn.neighbors import KernelDensity\n",
    "from sklearn.covariance import LedoitWolf\n",
    "\n",
    "\n",
    "import autograd\n",
    "from statsmodels.tools.numdiff import approx_fprime, approx_hess\n",
    "\n",
    "from typing import Union, List\n",
    "\n",
    "\"\"\"\n",
    "Own packages\n",
    "\"\"\"\n",
    "\n",
    "from codelib.visualization.layout import DefaultStyle\n",
    "DefaultStyle();"
   ]
  },
  {
   "cell_type": "markdown",
   "id": "incoming-mirror",
   "metadata": {},
   "source": [
    "# The covariance and correlation matrix \n",
    "\n",
    "As we previously have discussed covariance and correlation measure the linear dependence between stochastic variables. The [__covariance matrix__](https://en.wikipedia.org/wiki/Covariance_matrix) is a square matrix giving the covariance between each pair of elements of a given random vector. If we consider a $N$ dimensional random vector, $\\mathbf{X}$, then the $N \\times N$ matrix is a covariance matrix if \n",
    "\n",
    "* The matrix is symmetric\n",
    "* The matrix has the variances in the diagonal\n",
    "* The eigenvalues of the matrix are all non-negative (the matrix is positive semi-definite)\n",
    "\n",
    "We will write \n",
    "\n",
    "$$\n",
    "\\boldsymbol{\\Sigma} = \\text{Var} [\\mathbf {X} ]= \\text{Cov} [\\mathbf {X} ]=\\text {E} \\left[(\\mathbf {X} -\\text {E} [\\mathbf {X} ])(\\mathbf {X} -\\text {E} [\\mathbf {X} ])^\\top \\right]\n",
    "$$\n",
    "\n",
    "\n",
    "The last condition implies that the variance of any linear combination of $\\mathbf{X}$, say $\\mathbf{a}\\mathbf{X}$, always will be larger than (or equal to) zero since \n",
    "\n",
    "$$\n",
    "\\text{Var}[\\mathbf{a}  \\mathbf {X} ] = \\mathbf{a} \\text{Var}[\\mathbf {X} ] \\mathbf{a}^\\top \\geq 0\n",
    "$$\n",
    "\n",
    "The [__correlation matrix__](https://en.wikipedia.org/wiki/Correlation#Correlation_matrices) constains the correlations instead of the covariances and satisfies the conditions\n",
    "\n",
    "* The matrix is symmetric\n",
    "* The matrix has ones in the diagonal\n",
    "* The eigenvalues of the matrix are all non-negative (the matrix is positive semi-definite)\n",
    "\n",
    "\n",
    "## The sample covariance and correlation matrix\n",
    "\n",
    "Generally, the covariance and correlation matrix of some random vector are unobserved. Thus, we need to replace them with consistent estimators. \n",
    "\n",
    "If we let $\\mathbf{X}$ be $T \\times N$ matrix of $T$ independent and identically distributed (iid) observations on a system of $N$ random variables with zero mean (demeaned data) and covariance matrix $\\boldsymbol{\\Sigma}$\n",
    "\n",
    "$$\n",
    "\\mathbf{S}_T = \\frac{1}{T}\\mathbf{X}^\\top \\mathbf{X}\n",
    "$$\n",
    "\n",
    "If $\\mathbf{X}$ does not have zero mean, we need to estimate the mean and demean the data. \n",
    "\n",
    "The problem with the sample covariance estimator is that many applications in finance (e.g. portfolio optimization) require an invertible and well-conditioned covariance matrix (inversion does not increase estimation error). However, the sample covariance matrix is typically not well-conditioned and may in some case not even be invertible. This problem is in particular relevant when $N$ is large compared to $T$. \n",
    "\n",
    "\n",
    "## Fixing the covariance and correlation matrix \n",
    "\n",
    "We require that the covariance (and correlation) matrix is positive semi-definite corresponding to all the eigenvalues being non-negative. Thus, we could implement a check for positive semi-definiteness as "
   ]
  },
  {
   "cell_type": "code",
   "execution_count": 103,
   "id": "plain-needle",
   "metadata": {},
   "outputs": [],
   "source": [
    "def check_positive_semi_definite_eig(matrix: np.ndarray): \n",
    "    \n",
    "    \"\"\"\n",
    "    Checks that a symmetric square matrix is positive semi-deinite. \n",
    "    \n",
    "    Parameters\n",
    "    ----------\n",
    "    \n",
    "    matrix: \n",
    "        Symmetric, Square matrix. \n",
    "        \n",
    "    \n",
    "    Returns\n",
    "    -------\n",
    "    bool\n",
    "        Boolean indicating whether the matrix is positive semi-definite\n",
    "        \n",
    "    \"\"\"\n",
    "    \n",
    "    return np.all(np.linalg.eigvals(matrix) >= 0)\n",
    "\n"
   ]
  },
  {
   "cell_type": "code",
   "execution_count": 104,
   "id": "desirable-space",
   "metadata": {},
   "outputs": [
    {
     "data": {
      "text/plain": [
       "True"
      ]
     },
     "execution_count": 104,
     "metadata": {},
     "output_type": "execute_result"
    }
   ],
   "source": [
    "# a positive semi-definite matrix\n",
    "cov_mat = np.array([[0.01, 0.01],\n",
    "                   [0.01, 0.01]])\n",
    "\n",
    "check_positive_semi_definite_eig(cov_mat)"
   ]
  },
  {
   "cell_type": "code",
   "execution_count": 105,
   "id": "dimensional-weight",
   "metadata": {},
   "outputs": [
    {
     "data": {
      "text/plain": [
       "False"
      ]
     },
     "execution_count": 105,
     "metadata": {},
     "output_type": "execute_result"
    }
   ],
   "source": [
    "# a non positive semi-definite matrix\n",
    "not_a_cov_mat = np.array([[0.01, 0.01],\n",
    "                         [0.01, -0.01]])\n",
    "\n",
    "check_positive_semi_definite_eig(not_a_cov_mat)"
   ]
  },
  {
   "cell_type": "markdown",
   "id": "quick-saint",
   "metadata": {},
   "source": [
    "A computationally more efficient approach is to use"
   ]
  },
  {
   "cell_type": "code",
   "execution_count": 106,
   "id": "freelance-question",
   "metadata": {},
   "outputs": [],
   "source": [
    "def check_positive_semi_definite(matrix: np.ndarray): \n",
    "    \n",
    "    \"\"\"\n",
    "    Checks that a symmetric square matrix is positive semi-deinite. \n",
    "    \n",
    "    See https://stackoverflow.com/questions/16266720/find-out-if-matrix-is-positive-definite-with-numpy\n",
    "    \n",
    "    Parameters\n",
    "    ----------\n",
    "    \n",
    "    matrix: \n",
    "        Symmetric, Square matrix. \n",
    "        \n",
    "    \n",
    "    Returns\n",
    "    -------\n",
    "    bool\n",
    "        Boolean indicating whether the matrix is positive semi-definite\n",
    "        \n",
    "    \"\"\"\n",
    "    \n",
    "    try:\n",
    "        np.linalg.cholesky(matrix + 1e-16 * np.eye(len(matrix)))\n",
    "        return True\n",
    "    except np.linalg.LinAlgError:\n",
    "        return False"
   ]
  },
  {
   "cell_type": "code",
   "execution_count": 107,
   "id": "controlling-stable",
   "metadata": {},
   "outputs": [
    {
     "data": {
      "text/plain": [
       "True"
      ]
     },
     "execution_count": 107,
     "metadata": {},
     "output_type": "execute_result"
    }
   ],
   "source": [
    "# a positive semi-definite matrix\n",
    "cov_mat = np.array([[0.01, 0.01],\n",
    "                    [0.01, 0.01]])\n",
    "\n",
    "check_positive_semi_definite(cov_mat)"
   ]
  },
  {
   "cell_type": "code",
   "execution_count": 108,
   "id": "objective-blame",
   "metadata": {},
   "outputs": [
    {
     "data": {
      "text/plain": [
       "False"
      ]
     },
     "execution_count": 108,
     "metadata": {},
     "output_type": "execute_result"
    }
   ],
   "source": [
    "# a non positive semi-definite matrix\n",
    "not_a_cov_mat = np.array([[0.01, 0.01],\n",
    "                         [0.01, -0.01]])\n",
    "\n",
    "check_positive_semi_definite(not_a_cov_mat)"
   ]
  },
  {
   "cell_type": "code",
   "execution_count": 109,
   "id": "pointed-restaurant",
   "metadata": {},
   "outputs": [],
   "source": [
    "\"\"\"\n",
    "Checking performance - second method much quicker\n",
    "\"\"\"\n",
    "\n",
    "N = 1000\n",
    "\n",
    "# set random seed \n",
    "np.random.seed(0)\n",
    "\n",
    "# simulate a random covariance matrix\n",
    "x = np.random.normal(size=(N))\n",
    "cov_true = np.outer(x, x) + np.diag(0.01 + np.ones_like(x))"
   ]
  },
  {
   "cell_type": "code",
   "execution_count": 110,
   "id": "portuguese-reviewer",
   "metadata": {},
   "outputs": [
    {
     "name": "stdout",
     "output_type": "stream",
     "text": [
      "462 ms ± 41.6 ms per loop (mean ± std. dev. of 7 runs, 1 loop each)\n"
     ]
    }
   ],
   "source": [
    "%timeit check_positive_semi_definite_eig(cov_true)"
   ]
  },
  {
   "cell_type": "code",
   "execution_count": 111,
   "id": "established-chapter",
   "metadata": {},
   "outputs": [
    {
     "name": "stdout",
     "output_type": "stream",
     "text": [
      "34.2 ms ± 1.01 ms per loop (mean ± std. dev. of 7 runs, 10 loops each)\n"
     ]
    }
   ],
   "source": [
    "%timeit check_positive_semi_definite(cov_true)"
   ]
  },
  {
   "cell_type": "markdown",
   "id": "endless-lawrence",
   "metadata": {},
   "source": [
    "### Spectral decomposition\n",
    "\n",
    "If we conclude that the estimated (or assumed) covariance matrix is not positive semi-definite, we need to fix it somehow. There exists a large literature on this topic. \n",
    "\n",
    "[Rebonato and Jaeckel](https://papers.ssrn.com/sol3/papers.cfm?abstract_id=1969689) consider for instance _spectral decomposition_. The idea is to notice that every positive semi-definite matrix can be written as (here the covariance matrix)\n",
    "\n",
    "$$\n",
    "\\boldsymbol{\\Sigma} = \\mathbf{A} \\mathbf{A}^\\top\n",
    "$$\n",
    "\n",
    "The characteristic equation defining the eigenvalues\n",
    "\n",
    "$$\n",
    "\\boldsymbol{\\Sigma} \\mathbf{V} = \\boldsymbol{\\Lambda} \\mathbf{V}\n",
    "$$\n",
    "\n",
    "where $\\mathbf{V}$ is the matrix of eigenvectors and $\\boldsymbol{\\Lambda}$ is a diagonal matrix of eigenvalues. If $\\boldsymbol{\\Lambda}$ contains negative eigenvalues, we may simple set them equal to zero. We label this new matrix for $\\boldsymbol{\\Lambda}^*$. \n",
    "\n",
    "Define \n",
    "\n",
    "$$\n",
    "\\mathbf{A}^* = \\mathbf{V} \\sqrt{\\boldsymbol{\\Lambda}^*}\n",
    "$$\n",
    "\n",
    "such that we can define \n",
    "\n",
    "$$\n",
    "\\boldsymbol{\\Sigma}^* = \\mathbf{A}^* (\\mathbf{A}^*)^\\top\n",
    "$$\n",
    "\n",
    "If we are looking at the correlation matrix where we need the diagonal to all be equal to one, we can define \n",
    "\n",
    "$$\n",
    "\\mathbf{A}^* = \\sqrt{\\mathbf{T}} \\mathbf{V} \\sqrt{\\boldsymbol{\\Lambda}^*}\n",
    "$$\n",
    "\n",
    "where $\\mathbf{T}$ is a diagonal matrix with elements equal to $t_i  = \\left[\\sum_{n=1}^N v_{in}^2 \\lambda_i^*\\right]$. "
   ]
  },
  {
   "cell_type": "code",
   "execution_count": 112,
   "id": "central-version",
   "metadata": {},
   "outputs": [],
   "source": [
    "def fix_nonpositive_semidefinite(matrix: np.ndarray, method=\"spectral\", scale_diag=False):\n",
    "    \n",
    "    # Eigendecomposition\n",
    "    q, V = np.linalg.eigh(matrix)\n",
    "\n",
    "    if method == \"spectral\":\n",
    "        # Remove negative eigenvalues\n",
    "        q = np.where(q > 0, q, 0)\n",
    "        \n",
    "        if scale_diag:\n",
    "            \n",
    "            # scaling matrix \n",
    "            scale_diag_mat = np.diag(1.0 / (V**2 @ q))\n",
    "\n",
    "            # scaled eigenvector\n",
    "            V = np.sqrt(scale_diag_mat) @ V\n",
    "        \n",
    "        # Reconstruct matrix\n",
    "        fixed_matrix = V @ np.diag(q) @ V.T\n",
    "        \n",
    "    elif method == \"diag\":\n",
    "        \n",
    "        min_eig = np.min(q)\n",
    "        fixed_matrix = matrix - 1.1 * min_eig * np.eye(len(matrix))\n",
    "        \n",
    "        if scale_diag:\n",
    "            sqrt_diag = np.sqrt(np.diag(fixed_matrix))\n",
    "            fixed_matrix = fixed_matrix / np.outer(sqrt_diag, sqrt_diag)\n",
    "            fixed_matrix[fixed_matrix < -1], fixed_matrix[fixed_matrix > 1] = -1, 1\n",
    "    \n",
    "    else:\n",
    "        raise NotImplementedError(\"Method not implemented\")\n",
    "        \n",
    "    return fixed_matrix"
   ]
  },
  {
   "cell_type": "code",
   "execution_count": 113,
   "id": "rapid-floating",
   "metadata": {},
   "outputs": [
    {
     "data": {
      "text/plain": [
       "array([[-0.13191463, -0.0871829 , -0.9874197 ],\n",
       "       [ 0.10020701, -0.45536425, -0.88464793],\n",
       "       [ 0.05389295,  0.6332923 , -0.77203394]])"
      ]
     },
     "execution_count": 113,
     "metadata": {},
     "output_type": "execute_result"
    }
   ],
   "source": [
    "\"\"\"\n",
    "Positive semi-definite\n",
    "\"\"\"\n",
    "\n",
    "C = np.array([[1.0, 0.9, 0.7],\n",
    "              [0.9, 1.0, 0.4],\n",
    "              [0.7, 0.4, 1.0]])\n",
    "\n",
    "q, V = np.linalg.eigh(C)\n",
    "A = V @ np.sqrt(np.diag(q))\n",
    "A"
   ]
  },
  {
   "cell_type": "code",
   "execution_count": 114,
   "id": "finished-solomon",
   "metadata": {},
   "outputs": [
    {
     "data": {
      "text/plain": [
       "array([-0.00735244,  0.71062465,  2.29672779])"
      ]
     },
     "execution_count": 114,
     "metadata": {},
     "output_type": "execute_result"
    }
   ],
   "source": [
    "\"\"\"\n",
    "Small change may result in the matrix no longer being a correlation / covariance matrix\n",
    "\"\"\"\n",
    "\n",
    "C_bad = np.array([[1.0, 0.9, 0.7],\n",
    "                  [0.9, 1.0, 0.3],\n",
    "                  [0.7, 0.3, 1.0]])\n",
    "\n",
    "q, V = np.linalg.eigh(C_bad)\n",
    "#A = V @ np.sqrt(np.diag(q)) <- throws an error \n",
    "#A\n",
    "\n",
    "q # <- negative eigenvalue"
   ]
  },
  {
   "cell_type": "code",
   "execution_count": 115,
   "id": "round-estonia",
   "metadata": {},
   "outputs": [
    {
     "data": {
      "text/plain": [
       "array([[1.        , 0.89402441, 0.69631907],\n",
       "       [0.89402441, 1.        , 0.30096904],\n",
       "       [0.69631907, 0.30096904, 1.        ]])"
      ]
     },
     "execution_count": 115,
     "metadata": {},
     "output_type": "execute_result"
    }
   ],
   "source": [
    "fix_nonpositive_semidefinite(C_bad, scale_diag=True)"
   ]
  },
  {
   "cell_type": "markdown",
   "id": "unlike-marketing",
   "metadata": {},
   "source": [
    "### Other approaches \n",
    "\n",
    "For more advanced approaches then the reader is referred to e.g. [Higham (2002), Computing the Nearest Correlation Matrix—\n",
    "A Problem from Finance](http://eprints.maths.manchester.ac.uk/232/1/paper3.pdf). See also [here](https://nhigham.com/2013/02/13/the-nearest-correlation-matrix/)."
   ]
  },
  {
   "cell_type": "markdown",
   "id": "efficient-central",
   "metadata": {},
   "source": [
    "## Shrinkage estimation \n",
    "\n",
    "As already mentioned, if the sample size, $T$, is small compared to the number of variables (e.g. assets), the sample covariance / correlation estimator may be very unstable. If $T<N$, then the estimated covariance matrix is singular. "
   ]
  },
  {
   "cell_type": "code",
   "execution_count": 116,
   "id": "spoken-oriental",
   "metadata": {},
   "outputs": [
    {
     "data": {
      "text/plain": [
       "array([ 0.00000000e+00,  3.81506063e-01, -3.13862898e-20])"
      ]
     },
     "execution_count": 116,
     "metadata": {},
     "output_type": "execute_result"
    }
   ],
   "source": [
    "cov_mat = np.array([[1.0, 0.9, 0.7],\n",
    "                    [0.9, 1.0, 0.4],\n",
    "                    [0.7, 0.4, 1.0]])\n",
    "\n",
    "sim_data = np.random.multivariate_normal(np.zeros(3), cov_mat, size=2)\n",
    "np.linalg.eigvals(np.cov(sim_data, rowvar=False))"
   ]
  },
  {
   "cell_type": "code",
   "execution_count": 117,
   "id": "consecutive-judge",
   "metadata": {},
   "outputs": [],
   "source": [
    "# We will get an error message if we run the below command\n",
    "# np.linalg.inv(np.cov(sim_data, rowvar=False))"
   ]
  },
  {
   "cell_type": "code",
   "execution_count": 118,
   "id": "charming-gibraltar",
   "metadata": {},
   "outputs": [
    {
     "data": {
      "text/plain": [
       "array([1.2593379 , 0.0280332 , 0.51505968])"
      ]
     },
     "execution_count": 118,
     "metadata": {},
     "output_type": "execute_result"
    }
   ],
   "source": [
    "cov_mat = np.array([[1.0, 0.9, 0.7],\n",
    "                    [0.9, 1.0, 0.4],\n",
    "                    [0.7, 0.4, 1.0]])\n",
    "\n",
    "sim_data = np.random.multivariate_normal(np.zeros(3), cov_mat, size=5)\n",
    "np.linalg.eigvals(np.cov(sim_data, rowvar=False))"
   ]
  },
  {
   "cell_type": "markdown",
   "id": "suburban-plastic",
   "metadata": {},
   "source": [
    "In many finance applications the sample size may be small relative the number of variables (think of 10 year of monthly return observations and 100 assets), why we need better estimators for the covariance matrix. \n",
    "\n",
    "A number of alternative covariance estimators has been suggested that rely on the concept of shrinkage. The simplest versions of the shrinkage estimators is defined by the convex combination of an empirical covariance matrix $\\mathbf{S}_T$ (the sample covariance) and some suitable shrinkage target, say $\\mathbf{B}$. The estimator will then be defined as \n",
    "\n",
    "$$\n",
    "\\delta \\mathbf{S}_T + (1-\\delta) \\mathbf{B}\n",
    "$$\n",
    "\n",
    "where the parameter $\\delta$ (shrinkage intensity) determines the relative weight of the empirical covariance and the shrinkage target. The shrinkage intensity will typically converge to zero with the sample size such that asymptotically, we will have the consistent estimator. The shrinkage estimator will always be positive definite and well conditioned!\n",
    "\n",
    "A number of shrinkage targets has been [suggested](https://en.wikipedia.org/wiki/Estimation_of_covariance_matrices)\n",
    "\n",
    "* The identity matrix scaled by yhe average sample variance\n",
    "* The single index model\n",
    "* The constant correlation model (all pairwise correlations are assumed equal)\n",
    "* The two-parameter matrix (all variances and all covariances are equal)\n",
    "* The diagonal matrix containing the sample variances on the diagonal and zeros elsewhere\n",
    "* The identity matrix\n",
    "\n",
    "We will look at one example of how to implement a shrinkage estimator. The `scikit-learn` package contains different shrinkage estimators. See [here](https://scikit-learn.org/stable/modules/covariance.html) for documentation. \n",
    "\n",
    "### Ledoit and Wolf (2004)\n",
    "\n",
    "[Ledoit and Wolf (2004)](https://www.sciencedirect.com/science/article/pii/S0047259X03000964) define a shrinkage estimator for the covariance matrix\n",
    "\n",
    "$$\n",
    "\\boldsymbol{\\Sigma}^* = \\rho_1 \\mathbf{I} + \\rho_2 \\mathbf{S}\n",
    "$$\n",
    "\n",
    "with $S = \\frac{1}{T}\\mathbf{X}^\\top \\mathbf{X} $ (the sample covariance) where $\\mathbf{X}$ is $T \\times N$ matrix of $T$ independent and identically distributed (iid) observations on a system of $N$ random variables with zero mean (demeaned data) and covariance matrix $\\boldsymbol{\\Sigma}$.\n",
    "\n",
    "[Ledoit and Wolf (2004)](https://www.sciencedirect.com/science/article/pii/S0047259X03000964) show (when defining the Frobenius norm $\\Vert \\mathbf{A} \\Vert = \\sqrt{\\text{tr} (\\mathbf{A}\\mathbf{A}^\\top) / N} $ ) that the optimal values of $\\rho_1$ and $\\rho_2$ are given by\n",
    "\n",
    "$$\n",
    "\\boldsymbol{\\Sigma}^* = \\frac{\\beta^2}{\\delta^2} \\mu \\mathbf{I} + \\frac{\\alpha^2}{\\delta^2} \\mathbf{S}\n",
    "$$\n",
    "\n",
    "with \n",
    "\n",
    "\\begin{align}\n",
    "\\mu &= \\frac{1}{N}\\text{tr} (\\boldsymbol{\\Sigma}) \\\\\n",
    "\\alpha^2 &= \\Vert \\boldsymbol{\\Sigma} - \\mu \\mathbf{I} \\Vert \\\\\n",
    "\\beta^2 & = \\text{E} \\left[\\Vert \\mathbf{S} - \\boldsymbol{\\Sigma} \\Vert^2 \\right]\\\\\n",
    "\\delta^2 & = \\text{E} \\left[\\Vert \\mathbf{S} - \\mu \\mathbf{I} \\Vert^2 \\right]\n",
    "\\end{align}\n",
    "\n",
    "\n",
    "The problem with the above estimator is that it relies on the unobserved covariance matrix $\\boldsymbol{\\Sigma}$. We do not need to consistently estimate $\\boldsymbol{\\Sigma}$, but only find consistent estimators for $\\mu, \\alpha^2, \\beta^2$ and $\\delta^2$. To this end, we define a consistent estimator for $\\mu$ as the sample counterpart (we add $_T$ to denote that the estimator depends on the sample lenght)\n",
    "\n",
    "\\begin{align}\n",
    "m_T &= \\frac{1}{N}\\text{tr} (\\mathbf{S}_T)\n",
    "\\end{align}\n",
    "\n",
    "A consistent estimator of $\\delta^2  = \\text{E} \\left[\\Vert \\mathbf{S} - \\mu \\mathbf{I} \\Vert^2 \\right]$ is also the sample counterpart \n",
    "\n",
    "$$\n",
    "d_T^2 = \\Vert \\mathbf{S}_T  - \\mu \\mathbf{I} \\Vert^2\n",
    "$$\n",
    "\n",
    "We can write \n",
    "\n",
    "$$\n",
    "\\mathbf{S}_T = \\frac{1}{T}\\mathbf{X}^\\top \\mathbf{X} = \\frac{1}{T} \\sum_{t=1}^T \\mathbf{x}_t \\mathbf{x}_t^\\top\n",
    "$$\n",
    "\n",
    "where $\\mathbf{x}$ is the $N \\times 1$ vector representing the $t$'th row of $\\mathbf{X}$. Since, we assume independence between $t$'s then we can use the deviations from the average. [Ledoit and Wolf (2004)](https://www.sciencedirect.com/science/article/pii/S0047259X03000964) suggest to define\n",
    "\n",
    "$$\n",
    "\\bar{b}_T^2 = \\frac{1}{T^2} \\sum_{t=1}^T \\Vert \\mathbf{x}_t \\mathbf{x}_t^\\top - \\mathbf{S}_T \\Vert^2\n",
    "$$\n",
    "\n",
    "and  $b_T^2 = \\min (\\bar{b}_T^2, d_T^2)$. Finally, $a_T^2 = d_T^2 - b_T^2$.\n",
    "\n",
    "We can now estimate \n",
    "\n",
    "$$\n",
    "\\mathbf{S}_T^* = \\frac{b_T^2}{d_T^2} m_T \\mathbf{I} + \\frac{a_T^2}{d_T^2} \\mathbf{S}_T\n",
    "$$"
   ]
  },
  {
   "cell_type": "code",
   "execution_count": 119,
   "id": "quarterly-heritage",
   "metadata": {},
   "outputs": [],
   "source": [
    "def ledoit_wolf_shrinkage(data: np.ndarray, demean=True): \n",
    "    \n",
    "    \"\"\"\n",
    "    Computes the Ledoit and Wolf (2004) shrinkage covariance matrix \n",
    "    \n",
    "    See https://www.sciencedirect.com/science/article/pii/S0047259X03000964\n",
    "    \n",
    "    Parameters\n",
    "    ----------\n",
    "    data:\n",
    "        Num. observations x Num. variables\n",
    "    \n",
    "    Returns\n",
    "    -------\n",
    "    np.ndarray \n",
    "        Covariance matrix \n",
    "    \n",
    "    \n",
    "    \"\"\"\n",
    "    \n",
    "    if demean: \n",
    "        data = data - np.mean(data, axis=0)[None, :]\n",
    "    \n",
    "    T = data.shape[0]\n",
    "    \n",
    "    # calculate sample covariance matrix\n",
    "    S = data.T @ data / T # np.cov(data, rowvar=False)\n",
    "    \n",
    "    # get dimension \n",
    "    N = S.shape[0]\n",
    "    \n",
    "    # calculate constant variance \n",
    "    m = np.trace(S) / N\n",
    "    \n",
    "    # shrinkage target\n",
    "    shrink_target = m * np.eye(N)\n",
    "    \n",
    "    # delta\n",
    "    d2 = np.linalg.norm(S - shrink_target, ord='fro') ** 2 / N\n",
    "    \n",
    "    # beta\n",
    "    b2_bar = np.sum([np.linalg.norm(np.outer(data[t, :], data[t, :]) - S, ord='fro')**2 / N  \n",
    "                     for t in range(T)]) / (T**2)\n",
    "    \n",
    "    b2 = np.min([d2, b2_bar])\n",
    "    \n",
    "    # alpha \n",
    "    a2 = d2 - b2\n",
    "    \n",
    "    # calculate new covariance matrix \n",
    "    shrinkage_cov_mat = (b2 / d2) * shrink_target +  (a2 / d2) * S\n",
    "    \n",
    "    \n",
    "    return shrinkage_cov_mat "
   ]
  },
  {
   "cell_type": "markdown",
   "id": "employed-bunny",
   "metadata": {},
   "source": [
    "__Example: Multivariate normal__"
   ]
  },
  {
   "cell_type": "code",
   "execution_count": 120,
   "id": "interim-license",
   "metadata": {},
   "outputs": [
    {
     "data": {
      "text/plain": [
       "array([[0.39448181, 0.21424489],\n",
       "       [0.21424489, 0.8738205 ]])"
      ]
     },
     "execution_count": 120,
     "metadata": {},
     "output_type": "execute_result"
    }
   ],
   "source": [
    "real_cov = np.array([[.4, .2],\n",
    "                     [.2, .8]])\n",
    "np.random.seed(0)\n",
    "data = np.random.multivariate_normal(mean=[0, 0],\n",
    "                                     cov=real_cov,\n",
    "                                     size=50)\n",
    "\n",
    "# sample covariance matrix \n",
    "np.cov(data, rowvar=False)"
   ]
  },
  {
   "cell_type": "code",
   "execution_count": 121,
   "id": "signed-plane",
   "metadata": {},
   "outputs": [
    {
     "data": {
      "text/plain": [
       "array([[0.44067332, 0.16161585],\n",
       "       [0.16161585, 0.80226294]])"
      ]
     },
     "execution_count": 121,
     "metadata": {},
     "output_type": "execute_result"
    }
   ],
   "source": [
    "# ledoit and wolf (2004)\n",
    "ledoit_wolf_shrinkage(data) # <- we shrink the diagonals towards the average variance and the cross-terms towards zero"
   ]
  },
  {
   "cell_type": "code",
   "execution_count": 122,
   "id": "tight-equipment",
   "metadata": {},
   "outputs": [
    {
     "data": {
      "text/plain": [
       "array([[0.44067332, 0.16161585],\n",
       "       [0.16161585, 0.80226294]])"
      ]
     },
     "execution_count": 122,
     "metadata": {},
     "output_type": "execute_result"
    }
   ],
   "source": [
    "# check with sklearn \n",
    "cov = LedoitWolf().fit(data)\n",
    "cov.covariance_"
   ]
  },
  {
   "cell_type": "markdown",
   "id": "monthly-flight",
   "metadata": {},
   "source": [
    "__Example: Simulation study__\n",
    "\n",
    "We define the _percentage relative improvement in average loss_ of $\\mathbf{S}^*$ as (we omit $_T$ for simplicity)\n",
    "\n",
    "$$\n",
    "\\text{PRIAL}(\\mathbf{S}^*) = \\frac{\\text{E}[\\Vert \\mathbf{S} - \\boldsymbol{\\Sigma} \\Vert]^2 - \\text{E}[\\Vert \\mathbf{S}^* - \\boldsymbol{\\Sigma} \\Vert]^2}{\\text{E}[\\Vert \\mathbf{S} - \\boldsymbol{\\Sigma} \\Vert]^2}\n",
    "$$\n",
    "\n",
    "If PRIAL is positive, then the shrinkage estimator performs better than the sample covariance. "
   ]
  },
  {
   "cell_type": "code",
   "execution_count": 101,
   "id": "impressed-christmas",
   "metadata": {},
   "outputs": [
    {
     "name": "stdout",
     "output_type": "stream",
     "text": [
      "T=10\n",
      "PRIAL: 25.17%\n",
      "\n",
      "\n",
      "T=50\n",
      "PRIAL: 3.96%\n",
      "\n",
      "\n",
      "T=100\n",
      "PRIAL: 2.30%\n",
      "\n",
      "\n",
      "T=150\n",
      "PRIAL: 1.02%\n",
      "\n",
      "\n",
      "T=250\n",
      "PRIAL: 0.81%\n",
      "\n",
      "\n",
      "T=1000\n",
      "PRIAL: 0.09%\n",
      "\n",
      "\n"
     ]
    }
   ],
   "source": [
    "N = 100\n",
    "T = 55\n",
    "num_sim = 10000\n",
    "\n",
    "# set random seed \n",
    "np.random.seed(0)\n",
    "\n",
    "# simulate a random covariance matrix \"the true covariance matrix\"\n",
    "x = np.random.normal(size=(N))\n",
    "cov_true = np.outer(x, x) + np.diag(0.01 + np.ones_like(x))\n",
    "\n",
    "sample_sizes = [10, 50, 100, 150, 250, 1000]\n",
    "\n",
    "prial = list()\n",
    "\n",
    "for T in sample_sizes:\n",
    "    loss_sample = list()\n",
    "    loss_shrinkage = list()\n",
    "    for i in range(num_sim): \n",
    "\n",
    "        data = np.random.multivariate_normal(mean=np.zeros(N),\n",
    "                                             cov=cov_true,\n",
    "                                             size=T)\n",
    "\n",
    "        sample_cov_mat = np.cov(data, rowvar=False)\n",
    "        shrink_cov_mat = ledoit_wolf_shrinkage(data)\n",
    "\n",
    "        loss_sample.append(np.linalg.norm(sample_cov_mat - cov_true)) \n",
    "        loss_shrinkage.append(np.linalg.norm(shrink_cov_mat - cov_true))\n",
    "    \n",
    "    prial_temp =  ((np.mean(loss_sample)**2 / N) - (np.mean(loss_shrinkage)**2 / N)) / (np.mean(loss_sample)**2 / N)\n",
    "    prial.append(prial_temp)\n",
    "    \n",
    "    print(\"T={}\".format(T))\n",
    "    print(\"PRIAL: {:.2f}%\".format(prial_temp * 100))\n",
    "    print(\"\\n\")"
   ]
  },
  {
   "cell_type": "markdown",
   "id": "ruled-ireland",
   "metadata": {},
   "source": [
    "## A visit to random matrix theory\n",
    "\n",
    "__Note:__ This sub-section follows [Marcos M. Lopéz de Prado (2020), \"Machine Learning for Asset Managers\"](https://www.amazon.com/Machine-Learning-Managers-Elements-Quantitative/dp/1108792898)\n",
    "\n",
    "To get an idea of the amount of noise, we can consider the [Marcenko-Pastur theorem](https://en.wikipedia.org/wiki/Marchenko%E2%80%93Pastur_distribution). If we let $\\mathbf{X}$ be a $T \\times N$ matrix with idenpendent and indentically distributed obervations from at random variable with zero mean and variance $\\sigma^2$, then the matrix $\\mathbf{C} = \\frac{1}{T} \\mathbf{X}^\\top \\mathbf{X}$ (the covariance matrix) has eigenvalues $\\lambda$ that converges ($N \\to + \\infty$ and $T \\to + \\infty$ with $1 < T / N < + \\infty$) to the Marcenko-Pastur density\n",
    "\n",
    "$$\n",
    "f_\\lambda (\\lambda) = \\left \\{ \\begin{array}{ll} \\frac{T}{N} \\frac{\\sqrt{(\\lambda_+ - \\lambda)(\\lambda - \\lambda_-)}}{2 \\pi \\lambda \\sigma^2} & \\text{if } \\lambda \\notin [\\lambda_-, \\lambda_+] \\\\ \n",
    "0 & \\text{if } \\lambda \\notin [\\lambda_-, \\lambda_+]\\end{array} \\right.\n",
    "$$\n",
    "\n",
    "with \n",
    "\n",
    "$$\n",
    "\\lambda_+ = \\sigma^2 (1 + \\sqrt{N/T})^2 \\\\\n",
    "\\lambda_- = \\sigma^2 (1 - \\sqrt{N/T})^2\n",
    "$$\n",
    "\n",
    "__Example:__\n",
    "\n",
    "Let $N = 1000$ and $T = 2000$. Simulate data when assuming that all variables are normally distributed with zero mean and unit variance. Plot the corresponding Marcenko-Pastur density. "
   ]
  },
  {
   "cell_type": "code",
   "execution_count": 125,
   "id": "vocational-patch",
   "metadata": {},
   "outputs": [],
   "source": [
    "def marchencko_pastur_bounds(sigma, ratio):\n",
    "    \n",
    "    sigma2 = sigma**2\n",
    "    \n",
    "    lower = sigma2 * (1 - np.sqrt(ratio))**2\n",
    "    upper = sigma2 * (1 + np.sqrt(ratio))**2\n",
    "    \n",
    "    bounds = (lower, upper)\n",
    "    \n",
    "    return bounds\n",
    "\n",
    "def marchencko_pastur_density(x, sigma, ratio):\n",
    "    \n",
    "    lower, upper = marchencko_pastur_bounds(sigma, ratio)\n",
    "    \n",
    "    indicator = np.int64(x>=lower) * np.int64(x<=upper)\n",
    "    dv = np.zeros(indicator.shape)\n",
    "    \n",
    "    for i in range(len(x)):\n",
    "        temp = x[i]\n",
    "        idx = indicator[i]\n",
    "        if idx:\n",
    "            dv[i] = 1.0/(2.0 * np.pi * sigma**2) * np.sqrt((upper - temp)*(temp - lower))/(ratio * temp)\n",
    "    \n",
    "    return dv"
   ]
  },
  {
   "cell_type": "code",
   "execution_count": 126,
   "id": "similar-sensitivity",
   "metadata": {},
   "outputs": [
    {
     "data": {
      "text/plain": [
       "array([1., 1., 1., 1., 1., 1., 1., 1., 1., 1.])"
      ]
     },
     "execution_count": 126,
     "metadata": {},
     "output_type": "execute_result"
    }
   ],
   "source": [
    "n = 1000\n",
    "t = 2000\n",
    "\n",
    "mu = np.zeros(n)\n",
    "cov = np.eye(n)\n",
    "\n",
    "simulated_data = np.random.multivariate_normal(mu, cov, size=t)\n",
    "\n",
    "\"\"\"\n",
    "All the true eigenvalues are equal to one!\n",
    "\"\"\"\n",
    "\n",
    "# the first 10 eigenvalues\n",
    "true_eigenvalues = np.linalg.eig(cov)\n",
    "true_eigenvalues[0][0:10]\n"
   ]
  },
  {
   "cell_type": "code",
   "execution_count": 127,
   "id": "pleasant-houston",
   "metadata": {},
   "outputs": [
    {
     "data": {
      "image/png": "[encoded data removed]",
      "text/plain": [
       "<Figure size 864x432 with 1 Axes>"
      ]
     },
     "metadata": {
      "needs_background": "light"
     },
     "output_type": "display_data"
    }
   ],
   "source": [
    "\"\"\"\n",
    "Calculate covariance matrix (same as correlation matrix in this case) \n",
    "\"\"\"\n",
    "\n",
    "corr_matrix = np.corrcoef(simulated_data.T)\n",
    "eig_vals, eig_vectors = np.linalg.eig(corr_matrix)\n",
    "\n",
    "\"\"\"\n",
    "Plot the density of the eigenvalues\n",
    "\"\"\"\n",
    "\n",
    "x = np.linspace(0.0, 3.0, 1000)\n",
    "dv = marchencko_pastur_density(x, 1.0,  n/t)\n",
    "\n",
    "fig, ax = plt.subplots(figsize=(12, 6))\n",
    "plt.plot(x, dv, color=\"red\", label=\"Marchencko-Pastur distribution\")\n",
    "plt.hist(eig_vals, bins=50, color=\"gray\", density=True, label=\"Eigenvalues of sample correlation matrix\"); \n",
    "plt.hist(true_eigenvalues[0], bins=1, color=\"blue\", rwidth=0.05, density=True, label='Eigenvalues of true correlation matrix')\n",
    "plt.legend();"
   ]
  },
  {
   "cell_type": "markdown",
   "id": "premium-moldova",
   "metadata": {},
   "source": [
    "When observing a high dimensional data set, we can think of eigenvalues $\\lambda \\in [\\lambda_-, \\lambda_+]$ as consistent with random behaviour and eigenvalues $\\lambda \\notin [\\lambda_-, \\lambda_+]$ as consistent with non-random behaviour. We may therefore associate $\\lambda \\in [0, \\lambda_+]$ with noise. \n",
    "\n",
    "Below we see if we can recover the true number of signals. "
   ]
  },
  {
   "cell_type": "code",
   "execution_count": 128,
   "id": "beginning-carolina",
   "metadata": {},
   "outputs": [],
   "source": [
    "\"\"\"\n",
    "Code adapted from Marcos M. Lopéz de Prado (2020), \"Machine Learning for Asset Managers\"\n",
    "\"\"\"\n",
    "\n",
    "def fit_kde(eigenvalues, kernel=\"gaussian\", bandwidth=0.01, x=None):\n",
    "     \n",
    "    if len(eigenvalues.shape) == 1: eigenvalues = eigenvalues.reshape(-1, 1)\n",
    "    \n",
    "    kde = KernelDensity(kernel=kernel, bandwidth=bandwidth).fit(eigenvalues)\n",
    "    \n",
    "    if x is None:\n",
    "        x = np.unique(eigenvalues)\n",
    "    if len(x.shape) == 1:\n",
    "        x = x.reshape(-1, 1)\n",
    "    \n",
    "    log_prob = kde.score_samples(x)\n",
    "    return np.exp(log_prob).flatten()\n",
    "\n",
    "def simulate_random_cov_mat(num_var, num_factors):\n",
    "    \n",
    "    \"\"\"\n",
    "    Simulate a random covariance matrix with some dependence\n",
    "    \"\"\"\n",
    "    \n",
    "    x = np.random.normal(size=(num_var, num_factors))\n",
    "    cov_mat = x @ x.T\n",
    "    cov_mat += np.diag(np.random.uniform(size=num_var))\n",
    "    \n",
    "    return cov_mat\n",
    "\n",
    "\n",
    "def simulate_cov_mat_noise_and_signal(num_var, num_factors, num_obs, alpha):\n",
    "    \n",
    "    cov_mat_noise = np.cov(np.random.normal(size=(num_obs, num_var)), rowvar=False)\n",
    "    cov_mat_signal = simulate_random_cov_mat(num_var, num_factors)\n",
    "    cov_mat = alpha * cov_mat_noise + (1-alpha) * cov_mat_signal\n",
    "    \n",
    "    return cov_mat\n",
    "\n",
    "def cov_to_corr_matrix(cov_mat):\n",
    "    \n",
    "    vols = np.sqrt(np.diag(cov_mat))\n",
    "    corr_mat = cov_mat / np.outer(vols, vols)\n",
    "    corr_mat[corr_mat < -1], corr_mat[corr_mat > 1] = -1, 1 # numerical error \n",
    "    \n",
    "    return corr_mat\n",
    "\n",
    "def corr_to_cov_matrix(corr_mat, vols):\n",
    "    \n",
    "    cov_mat = corr_mat * np.outer(vols, vols)\n",
    "    \n",
    "    return cov_mat\n",
    "\n",
    "def fitting_error(sigma, ratio, x, eigenvalues, kernel=\"gaussian\", bandwidth=0.01):\n",
    "    \n",
    "    mp_density = marchencko_pastur_density(x, sigma, ratio)\n",
    "\n",
    "    kde_density = fit_kde(eigenvalues, kernel=kernel, bandwidth=bandwidth, x=x)\n",
    "\n",
    "    return np.mean(np.square(mp_density - kde_density))"
   ]
  },
  {
   "cell_type": "code",
   "execution_count": 129,
   "id": "gentle-jamaica",
   "metadata": {},
   "outputs": [
    {
     "data": {
      "text/plain": [
       "      fun: 0.0034481389923032083\n",
       " hess_inv: <1x1 LbfgsInvHessProduct with dtype=float64>\n",
       "      jac: array([-3.33600333e-06])\n",
       "  message: 'CONVERGENCE: NORM_OF_PROJECTED_GRADIENT_<=_PGTOL'\n",
       "     nfev: 22\n",
       "      nit: 6\n",
       "     njev: 11\n",
       "   status: 0\n",
       "  success: True\n",
       "        x: array([0.72087779])"
      ]
     },
     "execution_count": 129,
     "metadata": {},
     "output_type": "execute_result"
    }
   ],
   "source": [
    "\"\"\"\n",
    "Find the sigma that fits best with the observed eigenvalues\n",
    "\"\"\"\n",
    "alpha=0.99\n",
    "num_var = 1000\n",
    "num_obs = 5000\n",
    "num_factors = 100 #<- number of true factors / signals\n",
    "\n",
    "# simulate correlation matrix with some dependence\n",
    "sim_cov_mat = simulate_cov_mat_noise_and_signal(num_var, num_factors, num_obs, alpha)\n",
    "sim_corr_mat = cov_to_corr_matrix(sim_cov_mat)\n",
    "\n",
    "# get eigenvalues and eigenvectors\n",
    "eig_vals, eig_vectors = np.linalg.eigh(sim_corr_mat)\n",
    "\n",
    "\n",
    "# fit sigma\n",
    "x_eval = np.linspace(0.0, 5.0, 10000)\n",
    "res = optimize.minimize(fitting_error, 0.25,\n",
    "                        args=(num_var / num_obs, x_eval, eig_vals),\n",
    "                        bounds=((1e-5, 1 - 1e-5),))\n",
    "res"
   ]
  },
  {
   "cell_type": "code",
   "execution_count": 130,
   "id": "positive-diagram",
   "metadata": {},
   "outputs": [
    {
     "data": {
      "text/plain": [
       "100"
      ]
     },
     "execution_count": 130,
     "metadata": {},
     "output_type": "execute_result"
    }
   ],
   "source": [
    "# calculate max lambda\n",
    "lambda_max = marchencko_pastur_bounds(res.x[0], num_var / num_obs)[-1]\n",
    "lambda_max\n",
    "\n",
    "# number of recovered true factors\n",
    "np.sum(eig_vals > lambda_max)"
   ]
  },
  {
   "cell_type": "code",
   "execution_count": 131,
   "id": "offensive-potter",
   "metadata": {},
   "outputs": [
    {
     "data": {
      "image/png": "[encoded data removed]",
      "text/plain": [
       "<Figure size 864x432 with 1 Axes>"
      ]
     },
     "metadata": {
      "needs_background": "light"
     },
     "output_type": "display_data"
    }
   ],
   "source": [
    "x = np.linspace(0.0, 3.0, 1000)\n",
    "dv = marchencko_pastur_density(x, res.x[0],  num_var/num_obs)\n",
    "\n",
    "fig, ax = plt.subplots(figsize=(12, 6))\n",
    "plt.plot(x, dv, color=\"red\", label=\"Marchencko-Pastur distribution\")\n",
    "plt.hist(eig_vals, bins=500, color=\"gray\", density=True, label=\"Eigenvalues of sample correlation matrix\"); \n",
    "\n",
    "plt.legend();"
   ]
  },
  {
   "cell_type": "markdown",
   "id": "exclusive-heather",
   "metadata": {},
   "source": [
    "### Denoising \n",
    "\n",
    "\n",
    "\n",
    "__Constant residual eigenvalue method__\n",
    "\n",
    "This method sets all \"random\" eigenvectors the corresponding eigenvalue equal to a constant. Let $\\{ \\lambda \\}_{n=1,..., N}$ be the eigenvalues (in descending order) and let $m$ denote the position of the eigenvalue such that $\\lambda_m > \\lambda_+$ and $\\lambda_{m+1} \\leq \\lambda_+$. Then for $i = m + 1, ...., N$ we set \n",
    "\n",
    "$$\n",
    "\\lambda_i = \\frac{1}{N-i} \\sum_{j=m + 1}^M \\lambda_j\n",
    "$$\n",
    "\n",
    "This will preserve the trace of the correlation matrix. \n",
    "\n",
    "The [eigenvector decompostion](https://en.wikipedia.org/wiki/Eigendecomposition_of_a_matrix) tells us that we can write the correlation matrix as\n",
    "\n",
    "$$\n",
    "\\mathbf{C} = \\mathbf{V} \\boldsymbol{\\Lambda} \\mathbf{V}^\\top = \\mathbf{V} \\boldsymbol{\\Lambda} \\mathbf{V}^{-1}\n",
    "$$\n",
    "\n",
    "with $\\mathbf{V}$ being the eigenvectors and $\\boldsymbol{\\Lambda}$ being a diagonal matrix of the eigenvalues.  The last equality holds since $\\mathbf{V}$ is an [orthogonal matrix](https://en.wikipedia.org/wiki/Orthogonal_matrix). \n",
    "\n",
    "We define the denoised correlation matrix as \n",
    "\n",
    "$$\n",
    "\\tilde{\\mathbf{C}}_{denoised} = \\mathbf{V} \\tilde{\\boldsymbol{\\Lambda}} \\mathbf{V}^\\top \\\\\n",
    "\\mathbf{C}_{denoised} = \\tilde{\\mathbf{C}}_{denoised} \\left[ \\left(\\text{diag} \\left[\\tilde{\\mathbf{C}}_{denoised} \\right]^{1/2} \\right)  \\left(\\text{diag} \\left[\\tilde{\\mathbf{C}}_{denoised} \\right]^{1/2} \\right)^\\top \\right]^{-1}\n",
    "$$\n",
    "\n",
    "where $\\tilde{\\boldsymbol{\\Lambda}}$ contains the corrected eigenvalues. The last line ensure that all the diagonal elements equal one. "
   ]
  },
  {
   "cell_type": "code",
   "execution_count": 132,
   "id": "surprising-commissioner",
   "metadata": {},
   "outputs": [],
   "source": [
    "def crem_denoised_corr_mat(eigenvalues, eigenvectors, num_factors):\n",
    "    \n",
    "    \"\"\"\n",
    "    Denoises correlation matrix by fixing random eigenvalues\n",
    "    \n",
    "    \"\"\"\n",
    "    \n",
    "    eig_vals = eigenvalues.copy()\n",
    "    eig_vals[num_factors:] = eig_vals[num_factors:].sum() / float(len(eig_vals) - num_factors)\n",
    "    eig_vals = np.diag(eig_vals)\n",
    "    \n",
    "    corr_mat = eigenvectors @ eig_vals @ eigenvectors.T\n",
    "    corr_mat = cov_to_corr_matrix(corr_mat)\n",
    "    \n",
    "    return corr_mat"
   ]
  },
  {
   "cell_type": "code",
   "execution_count": 133,
   "id": "sitting-renewal",
   "metadata": {},
   "outputs": [],
   "source": [
    "# sort eigen vals\n",
    "indices = eig_vals.argsort()[::-1]\n",
    "eig_vals_sorted = eig_vals[indices]\n",
    "eig_vectors_sorted = eig_vectors[:, indices]"
   ]
  },
  {
   "cell_type": "code",
   "execution_count": 134,
   "id": "supposed-break",
   "metadata": {},
   "outputs": [],
   "source": [
    "denoised_corr = crem_denoised_corr_mat(eig_vals_sorted, eig_vectors_sorted, 100)\n",
    "denoised_eig_vals, denoised_eig_vec = np.linalg.eig(denoised_corr)"
   ]
  },
  {
   "cell_type": "code",
   "execution_count": 135,
   "id": "operational-milwaukee",
   "metadata": {},
   "outputs": [],
   "source": [
    "# sort eigen vals\n",
    "indices = denoised_eig_vals.argsort()[::-1]\n",
    "denoised_eig_vals_sorted = denoised_eig_vals[indices]\n",
    "denoised_eig_vec_sorted = denoised_eig_vec[:, indices]"
   ]
  },
  {
   "cell_type": "code",
   "execution_count": 136,
   "id": "smart-warrant",
   "metadata": {},
   "outputs": [
    {
     "data": {
      "image/png": "[encoded data removed]",
      "text/plain": [
       "<Figure size 864x504 with 1 Axes>"
      ]
     },
     "metadata": {
      "needs_background": "light"
     },
     "output_type": "display_data"
    }
   ],
   "source": [
    "x_vals = np.arange(1.0, len(eig_vals) + 1)\n",
    "\n",
    "fig, ax = plt.subplots(figsize=(12, 7))\n",
    "ax.plot(x_vals, eig_vals_sorted, label=\"Original eigenvalues\"); \n",
    "ax.plot(x_vals, denoised_eig_vals_sorted, label=\"Denoised eigenvalues\"); \n",
    "plt.yscale('log')\n",
    "ax.legend();\n",
    "ax.set_xlabel(\"Eigenvalue number\");\n",
    "ax.set_ylabel(\"Eigenvalue [log-scale]\");"
   ]
  },
  {
   "cell_type": "markdown",
   "id": "union-marketing",
   "metadata": {},
   "source": [
    "__Targeted shrinkage__\n",
    "\n",
    "The method applies shrinkage strictly to the random eigenvectors\n",
    "\n",
    "$$\n",
    "\\mathbf{C}_{denoised} = \\mathbf{V}_L \\boldsymbol{\\Lambda}_L \\mathbf{V}_L^\\top + \\alpha \\mathbf{V}_R \\boldsymbol{\\Lambda}_R \\mathbf{V}_R^\\top + (1-\\alpha) \\text{diag} \\left[ \\mathbf{V}_R \\boldsymbol{\\Lambda}_R \\mathbf{V}^\\top_R \\right] \n",
    "$$\n",
    "\n",
    "where $\\mathbf{V}_L$ and $ \\boldsymbol{\\Lambda}_L$ are associated with the eigenvalues $\\lambda > \\lambda_{+}$ and $\\mathbf{V}_R$ and $ \\boldsymbol{\\Lambda}_R$ are associated with the eigenvalues $\\lambda \\leq \\lambda_{+}$. $\\alpha$ regulates the amount of shrinkage ($\\alpha=0$ for total shrinkage). "
   ]
  },
  {
   "cell_type": "code",
   "execution_count": 137,
   "id": "wrong-adoption",
   "metadata": {},
   "outputs": [],
   "source": [
    "def tsm_denoised_corr_mat(eigenvalues, eigenvectors, num_factors, alpha=0.0):\n",
    "    \n",
    "    \"\"\"\n",
    "    Denoises correlation matrix by shrinkage on eigenvectors\n",
    "    \n",
    "    Target shrinkage method. \n",
    "    \n",
    "    \n",
    "    \"\"\"\n",
    "    eig_vals_l = np.diag(eigenvalues[:num_factors])\n",
    "    eig_vals_r = np.diag(eigenvalues[num_factors:])\n",
    "    \n",
    "    eig_vecs_l = eigenvectors[:, :num_factors]\n",
    "    eig_vecs_r = eigenvectors[:, num_factors:]   \n",
    "\n",
    "    part1 = eig_vecs_l @ eig_vals_l @ eig_vecs_l.T\n",
    "    part2 = eig_vecs_r @ eig_vals_r @ eig_vecs_r.T\n",
    "    part3 = np.diag(np.diag(part2))\n",
    "    \n",
    "    corr_mat = part1 + alpha * part2 + (1-alpha) * part3\n",
    "    \n",
    "    return corr_mat"
   ]
  },
  {
   "cell_type": "code",
   "execution_count": 138,
   "id": "incredible-grant",
   "metadata": {},
   "outputs": [],
   "source": [
    "denoised_corr = tsm_denoised_corr_mat(eig_vals_sorted, eig_vectors_sorted, 100, alpha=0.0)\n",
    "denoised_eig_vals, denoised_eig_vec = np.linalg.eig(denoised_corr)\n",
    "\n",
    "indices = denoised_eig_vals.argsort()[::-1]\n",
    "denoised_eig_vals_sorted = denoised_eig_vals[indices]\n",
    "denoised_eig_vec_sorted = denoised_eig_vec[:, indices]"
   ]
  },
  {
   "cell_type": "code",
   "execution_count": 139,
   "id": "tamil-transformation",
   "metadata": {},
   "outputs": [
    {
     "data": {
      "image/png": "[encoded data removed]",
      "text/plain": [
       "<Figure size 864x504 with 1 Axes>"
      ]
     },
     "metadata": {
      "needs_background": "light"
     },
     "output_type": "display_data"
    }
   ],
   "source": [
    "x_vals = np.arange(1.0, len(eig_vals) + 1)\n",
    "\n",
    "fig, ax = plt.subplots(figsize=(12, 7))\n",
    "ax.plot(x_vals, eig_vals_sorted, label=\"Original eigenvalues\"); \n",
    "ax.plot(x_vals, denoised_eig_vals_sorted, label=\"Denoised eigenvalues\"); \n",
    "plt.yscale('log')\n",
    "ax.legend();\n",
    "ax.set_xlabel(\"Eigenvalue number\");\n",
    "ax.set_ylabel(\"Eigenvalue [log-scale]\");"
   ]
  },
  {
   "cell_type": "markdown",
   "id": "equal-designation",
   "metadata": {},
   "source": [
    "### Detoning\n",
    "\n",
    "In financial markets, the \"market\" component is often the dominant factor. We can think of it as characterized by the first eigenvector with loadings $\\mathbf{V}_{n, 1} \\approx 1 / \\sqrt{N}$. The market component will affect every item of the covariance matrix why it sometimes make sense to remove the market component if we want a closer look at the remaining covariance structure. This is the similar to beta-adjusted returns in regression analysis. \n",
    "\n",
    "We can define the detoned correlation matrix as \n",
    "\n",
    "$$\n",
    "\\tilde{\\mathbf{C}}_{detoned} = \\mathbf{C} - \\mathbf{V}_M \\boldsymbol{\\Lambda}_M \\mathbf{V}_M^\\top = \\mathbf{V}_D \\boldsymbol{\\Lambda}_D \\mathbf{V}_D^\\top\\\\\n",
    "\\mathbf{C}_{detoned} = \\tilde{\\mathbf{C}}_{detoned} \\left[ \\left(\\text{diag} \\left[\\tilde{\\mathbf{C}}_{detoned} \\right]^{1/2} \\right)  \\left(\\text{diag} \\left[\\tilde{\\mathbf{C}}_{detoned} \\right]^{1/2} \\right)^\\top \\right]^{-1}\n",
    "$$\n",
    "\n"
   ]
  },
  {
   "cell_type": "code",
   "execution_count": 140,
   "id": "stuck-dayton",
   "metadata": {},
   "outputs": [],
   "source": [
    "def calculate_detoned_corr_mat(eigenvalues, eigenvectors, num_mkt_factors=1):\n",
    "    \n",
    "    \"\"\"\n",
    "    Eigenvalues and eigenvectors are assumed sorted \n",
    "    \n",
    "    \"\"\"\n",
    "    \n",
    "    eig_vec_non_mkt = eigenvectors[:, num_mkt_factors:]\n",
    "    \n",
    "    corr = eig_vec_non_mkt @ np.diag(eigenvalues[num_mkt_factors:]) @ eig_vec_non_mkt.T \n",
    "    corr = cov_to_corr_matrix(corr)\n",
    "    \n",
    "    return corr"
   ]
  },
  {
   "cell_type": "code",
   "execution_count": 141,
   "id": "backed-incidence",
   "metadata": {},
   "outputs": [
    {
     "data": {
      "text/plain": [
       "array([[ 1.        , -0.0378541 , -0.00340641, ...,  0.08456542,\n",
       "        -0.00926172, -0.14823559],\n",
       "       [-0.0378541 ,  1.        ,  0.05258747, ..., -0.03369484,\n",
       "         0.02293205, -0.05309207],\n",
       "       [-0.00340641,  0.05258747,  1.        , ..., -0.09454329,\n",
       "         0.0156492 ,  0.05342116],\n",
       "       ...,\n",
       "       [ 0.08456542, -0.03369484, -0.09454329, ...,  1.        ,\n",
       "         0.10794721, -0.08074236],\n",
       "       [-0.00926172,  0.02293205,  0.0156492 , ...,  0.10794721,\n",
       "         1.        ,  0.01396012],\n",
       "       [-0.14823559, -0.05309207,  0.05342116, ..., -0.08074236,\n",
       "         0.01396012,  1.        ]])"
      ]
     },
     "execution_count": 141,
     "metadata": {},
     "output_type": "execute_result"
    }
   ],
   "source": [
    "detoned_corr_mat = calculate_detoned_corr_mat(denoised_eig_vals_sorted, denoised_eig_vec_sorted, num_mkt_factors=20)\n",
    "detoned_corr_mat"
   ]
  },
  {
   "cell_type": "markdown",
   "id": "hourly-passion",
   "metadata": {},
   "source": [
    "# References\n",
    "\n",
    "## Articles\n",
    "\n",
    "[Ledoit and Wolf (2004), \"A well-conditioned estimator for large-dimensional covariance matrices\"](https://www.sciencedirect.com/science/article/pii/S0047259X03000964)\n",
    "\n",
    "## Books\n",
    "\n",
    "[Marcos M. Lopéz de Prado (2020), \"Machine Learning for Asset Managers\"](https://www.amazon.com/Machine-Learning-Managers-Elements-Quantitative/dp/1108792898)\n"
   ]
  }
 ],
 "metadata": {
  "kernelspec": {
   "display_name": "python_for_fin_econ",
   "language": "python",
   "name": "python_for_fin_econ"
  },
  "language_info": {
   "codemirror_mode": {
    "name": "ipython",
    "version": 3
   },
   "file_extension": ".py",
   "mimetype": "text/x-python",
   "name": "python",
   "nbconvert_exporter": "python",
   "pygments_lexer": "ipython3",
   "version": "3.8.6"
  }
 },
 "nbformat": 4,
 "nbformat_minor": 5
}
