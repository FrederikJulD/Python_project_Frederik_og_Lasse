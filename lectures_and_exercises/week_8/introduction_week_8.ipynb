{
 "cells": [
  {
   "cell_type": "markdown",
   "id": "sustainable-funds",
   "metadata": {},
   "source": [
    "# Week 8: The covariance matrix \n",
    "\n",
    "In this week, we will have a closer look at the covariance and correlation matrix. "
   ]
  },
  {
   "cell_type": "markdown",
   "id": "ahead-rebound",
   "metadata": {},
   "source": [
    "## Lectures and exercises\n",
    "\n",
    "The **lectures** covers\n",
    "\n",
    "* Shrinkage estimation of the covariance matrix\n",
    "* Denoising the the correlation matrix using knowledge from random matrix theory\n",
    "\n",
    "The **exercises** covers\n",
    "\n",
    "* Implementing single index shrinkage model\n",
    "* Dynamic Nelson-Siegel model"
   ]
  }
 ],
 "metadata": {
  "kernelspec": {
   "display_name": "python_for_fin_econ",
   "language": "python",
   "name": "python_for_fin_econ"
  },
  "language_info": {
   "codemirror_mode": {
    "name": "ipython",
    "version": 3
   },
   "file_extension": ".py",
   "mimetype": "text/x-python",
   "name": "python",
   "nbconvert_exporter": "python",
   "pygments_lexer": "ipython3",
   "version": "3.8.6"
  }
 },
 "nbformat": 4,
 "nbformat_minor": 5
}
