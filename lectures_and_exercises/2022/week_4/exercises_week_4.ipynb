{
 "cells": [
  {
   "cell_type": "code",
   "execution_count": 66,
   "id": "personal-retention",
   "metadata": {},
   "outputs": [
    {
     "name": "stdout",
     "output_type": "stream",
     "text": [
      "The autoreload extension is already loaded. To reload it, use:\n",
      "  %reload_ext autoreload\n"
     ]
    }
   ],
   "source": [
    "import sys\n",
    "sys.path.insert(0,'C:\\\\code\\\\python_for_the_financial_economist\\\\')\n",
    "\n",
    "\"\"\"\n",
    "Magic commands\n",
    "\"\"\"\n",
    "\n",
    "%load_ext autoreload\n",
    "%autoreload 2\n",
    "\n",
    "\"\"\"\n",
    "Load relevant packages\n",
    "\"\"\"\n",
    "\n",
    "import numpy as np\n",
    "import pandas as pd\n",
    "import matplotlib.pyplot as plt\n",
    "import matplotlib.ticker as mtick\n",
    "import seaborn as sns\n",
    "import datetime\n",
    "from scipy import stats\n",
    "from scipy.optimize import minimize\n",
    "\n",
    "from pandas_datareader.data import DataReader\n",
    "from pandas_datareader.famafrench import FamaFrenchReader, get_available_datasets\n",
    "\n",
    "from typing import Union, Tuple\n",
    "\n",
    "\"\"\"\n",
    "Own packages\n",
    "\"\"\"\n",
    "from codelib.dal.fred_yield_data import get_nominal_yield_data\n",
    "from codelib.statistics import calculate_cornish_fisher_percentile\n",
    "from codelib.portfolio_optimization.risk_budget import calculate_marginal_risks_std, calculate_risk_contributions_std\n",
    "from codelib.portfolio_optimization.risk_metrics import calculate_normal_cond_value_at_risk, calculate_normal_value_at_risk\n",
    "from codelib.portfolio_optimization.risk_metrics import calculate_normal_port_cond_value_at_risk, calculate_normal_port_value_at_risk\n",
    "\n",
    "\n",
    "\n",
    "from codelib.visualization.layout import DefaultStyle\n",
    "DefaultStyle();"
   ]
  },
  {
   "cell_type": "markdown",
   "id": "streaming-vertex",
   "metadata": {},
   "source": [
    "# Exercises - Week 4\n",
    "\n",
    "In this week we will look at a few exercises involving  risk mesures and allocating diversification benefits. "
   ]
  },
  {
   "cell_type": "markdown",
   "id": "demanding-florist",
   "metadata": {},
   "source": [
    "## Problem 1: VaR and CVaR using historical simulation \n",
    "\n",
    "A common approach to estimate $\\text{VaR}$ and $\\text{CVaR}$ is simply to use or simulate from the empirical distribution function. Some are strong proponents of this method since it does not require distributional assumptions about returns, but one need to be carefull since one will often make an independence assumption and sometimes a particular model assumption may give more robust results. Blindly using the empirical distribution may limit the attention to tail events. \n",
    "\n",
    "\n",
    "\n",
    "__Question 1__\n",
    "\n",
    "Obtain the equally weighted monthly return data for the five Fama-French industry portfolios (\"5_Industry_Portfolios\") using `pandas-datareader` since 1990-01-01  and transform the equally weighted monthly return data into log returns.\n",
    "\n",
    "\n",
    "__Question 2__\n",
    "\n",
    "Resample 10,000 vectors of returns from the monthly log returns calculated above. Use e.g. `np.random.randint`. Plot the histogram an equally weighted portfolio (linear returns). Calculate the 5\\% $\\text{VaR}$ and $\\text{CVaR}$ of an equally weighted portfolio (linear returns) using the resampled / simulated data. \n",
    "\n",
    "__Question 3__\n",
    "\n",
    "Resample 10,000 x 12 vectors of returns from the monthly log returns calculate above such to you are able to calculate the yearly portfolio return. Use e.g. `np.random.randint`. Plot the histogram of an equally weighted portfolio (yearly, linear returns). Calculate the 5\\% $\\text{VaR}$ and $\\text{CVaR}$ of an equally weighted portfolio (linear returns) using the resampled / simulated data.\n",
    "\n",
    "__Question 4__\n",
    "\n",
    "Based on the portfolio returns found in question 3, use the Cornish-Fisher approximation to calculate the 5\\% $\\text{VaR}$ of the yearly portfolio return. Note the function `calculate_cornish_fisher_percentile` in `codelib.statistics`.\n",
    "\n",
    "### Solution \n",
    "\n",
    "__Question 1__"
   ]
  },
  {
   "cell_type": "code",
   "execution_count": 43,
   "id": "promising-clause",
   "metadata": {},
   "outputs": [
    {
     "data": {
      "text/html": [
       "<div>\n",
       "<style scoped>\n",
       "    .dataframe tbody tr th:only-of-type {\n",
       "        vertical-align: middle;\n",
       "    }\n",
       "\n",
       "    .dataframe tbody tr th {\n",
       "        vertical-align: top;\n",
       "    }\n",
       "\n",
       "    .dataframe thead th {\n",
       "        text-align: right;\n",
       "    }\n",
       "</style>\n",
       "<table border=\"1\" class=\"dataframe\">\n",
       "  <thead>\n",
       "    <tr style=\"text-align: right;\">\n",
       "      <th></th>\n",
       "      <th>Cnsmr</th>\n",
       "      <th>Manuf</th>\n",
       "      <th>HiTec</th>\n",
       "      <th>Hlth</th>\n",
       "      <th>Other</th>\n",
       "    </tr>\n",
       "    <tr>\n",
       "      <th>Date</th>\n",
       "      <th></th>\n",
       "      <th></th>\n",
       "      <th></th>\n",
       "      <th></th>\n",
       "      <th></th>\n",
       "    </tr>\n",
       "  </thead>\n",
       "  <tbody>\n",
       "    <tr>\n",
       "      <th>1990-01</th>\n",
       "      <td>-0.057947</td>\n",
       "      <td>-0.044056</td>\n",
       "      <td>-0.058053</td>\n",
       "      <td>-0.056253</td>\n",
       "      <td>-0.053506</td>\n",
       "    </tr>\n",
       "    <tr>\n",
       "      <th>1990-02</th>\n",
       "      <td>0.018036</td>\n",
       "      <td>0.029170</td>\n",
       "      <td>0.031983</td>\n",
       "      <td>0.015578</td>\n",
       "      <td>0.009158</td>\n",
       "    </tr>\n",
       "    <tr>\n",
       "      <th>1990-03</th>\n",
       "      <td>0.034981</td>\n",
       "      <td>0.037488</td>\n",
       "      <td>0.038259</td>\n",
       "      <td>0.043730</td>\n",
       "      <td>-0.001802</td>\n",
       "    </tr>\n",
       "    <tr>\n",
       "      <th>1990-04</th>\n",
       "      <td>-0.024600</td>\n",
       "      <td>-0.026857</td>\n",
       "      <td>-0.021019</td>\n",
       "      <td>-0.008637</td>\n",
       "      <td>-0.035420</td>\n",
       "    </tr>\n",
       "    <tr>\n",
       "      <th>1990-05</th>\n",
       "      <td>0.042485</td>\n",
       "      <td>0.046884</td>\n",
       "      <td>0.074458</td>\n",
       "      <td>0.078441</td>\n",
       "      <td>0.022055</td>\n",
       "    </tr>\n",
       "  </tbody>\n",
       "</table>\n",
       "</div>"
      ],
      "text/plain": [
       "            Cnsmr     Manuf     HiTec     Hlth      Other\n",
       "Date                                                     \n",
       "1990-01 -0.057947 -0.044056 -0.058053 -0.056253 -0.053506\n",
       "1990-02  0.018036  0.029170  0.031983  0.015578  0.009158\n",
       "1990-03  0.034981  0.037488  0.038259  0.043730 -0.001802\n",
       "1990-04 -0.024600 -0.026857 -0.021019 -0.008637 -0.035420\n",
       "1990-05  0.042485  0.046884  0.074458  0.078441  0.022055"
      ]
     },
     "execution_count": 43,
     "metadata": {},
     "output_type": "execute_result"
    }
   ],
   "source": [
    "# import pandas_datareader as pdr\n",
    "# from pandas_datareader.famafrench import FamaFrenchReader, get_available_datasets\n",
    "\n",
    "reader = FamaFrenchReader(\"5_Industry_Portfolios\", start=datetime.datetime(1990, 1, 1))\n",
    "industry_port_daily = reader.read()\n",
    "\n",
    "# print description\n",
    "industry_port_daily['DESCR']\n",
    "\n",
    "# get equally weighted\n",
    "ind_eq_weighted = industry_port_daily[1]\n",
    "\n",
    "# get log returns\n",
    "eq_log_returns = np.log1p(ind_eq_weighted / 100.0)\n",
    "eq_log_returns.head()"
   ]
  },
  {
   "cell_type": "code",
   "execution_count": 44,
   "id": "marine-nepal",
   "metadata": {},
   "outputs": [
    {
     "data": {
      "text/plain": [
       "(390, 5)"
      ]
     },
     "execution_count": 44,
     "metadata": {},
     "output_type": "execute_result"
    }
   ],
   "source": [
    "eq_log_returns.shape"
   ]
  },
  {
   "cell_type": "markdown",
   "id": "hispanic-kitty",
   "metadata": {},
   "source": [
    "__Question 2__"
   ]
  },
  {
   "cell_type": "code",
   "execution_count": 45,
   "id": "educated-joseph",
   "metadata": {},
   "outputs": [],
   "source": [
    "\"\"\"\n",
    "Define resampling function \n",
    "\"\"\"\n",
    "\n",
    "def resample(data: np.ndarray, num_sim: int, num_per: int = 1):\n",
    "    \n",
    "    \"\"\"\n",
    "    Resample input data\n",
    "\n",
    "    Parameters\n",
    "    ----------\n",
    "    data: \n",
    "        Data matrix, time x assets\n",
    "    num_sim: \n",
    "        Number of simulations. \n",
    "    num_per: \n",
    "        Number of periods. \n",
    "\n",
    "    Returns\n",
    "    -------\n",
    "    np.ndarray\n",
    "        Ressampled data, (num_sim, num_per, number of assets)\n",
    "\n",
    "    \"\"\"\n",
    "    # number of assets\n",
    "    n = len(data)\n",
    "    # get index for selecting data\n",
    "    idx = np.random.randint(n, size=(num_sim, num_per))\n",
    "    \n",
    "    return data[idx, :]"
   ]
  },
  {
   "cell_type": "code",
   "execution_count": 46,
   "id": "accurate-classification",
   "metadata": {},
   "outputs": [],
   "source": [
    "\"\"\"\n",
    "Simulate one month log-returns and transform to port. returns\n",
    "\"\"\"\n",
    "port_w = np.repeat(1.0/5.0, 5)\n",
    "num_sim = 10000\n",
    "num_per = 1\n",
    "\n",
    "sim_log_returns = resample(eq_log_returns.values, num_sim=num_sim, num_per=num_per)\n",
    "sim_lin_returns = np.exp(sim_log_returns) - 1.0\n",
    "sim_port_returns = sim_lin_returns @ port_w\n",
    "\n",
    "# note that for the one period case, you will obtain the same results by using \n",
    "# sim_port_returns = resample(ind_eq_weighted / 100.0, num_sim=num_sim, num_per=num_per)\n",
    "\n",
    "\"\"\"\n",
    "Calculate VaR and CVaR\n",
    "\"\"\"\n",
    "\n",
    "value_at_risk = np.percentile(sim_port_returns, 5)\n",
    "cond_value_at_risk = np.mean(sim_port_returns[sim_port_returns <= value_at_risk])"
   ]
  },
  {
   "cell_type": "code",
   "execution_count": 47,
   "id": "oriented-anatomy",
   "metadata": {},
   "outputs": [
    {
     "data": {
      "image/png": "[encoded data removed]",
      "text/plain": [
       "<Figure size 864x432 with 1 Axes>"
      ]
     },
     "metadata": {
      "needs_background": "light"
     },
     "output_type": "display_data"
    }
   ],
   "source": [
    "\"\"\"\n",
    "Plot histogram \n",
    "\"\"\"\n",
    "\n",
    "fig, ax = plt.subplots(figsize=(12, 6))\n",
    "ax.hist(sim_port_returns, density=True, bins=15);\n",
    "\n",
    "ax.axvline(value_at_risk, ymin=0, ymax=8, color=\"black\")\n",
    "ax.axvline(cond_value_at_risk, ymin=0, ymax=8, color=\"black\")\n",
    "ax.set_title(\"Value-at-Risk and Cond. Value-at-Risk\", size=20)\n",
    "ax.set_xlabel('$v_{t + \\\\tau}$', size=20)\n",
    "ax.set_ylabel('Density, $f_{V_{t + \\\\tau}}(v_{t + \\\\tau})$', size=20);\n",
    "\n",
    "# add text\n",
    "text_to_add =  \"$\\mathbf{VaR}_{0.05}\" + \" = {:,.1f}\\%$\".format(-value_at_risk*100)\n",
    "ax.text(-0.102, 2.0, text_to_add, rotation=90);\n",
    "\n",
    "text_to_add_2 =  \"$\\mathbf{CVaR}_{0.05}\" + \" = {:,.1f}\\%$\".format(-cond_value_at_risk*100)\n",
    "ax.text(-0.14, 2.0, text_to_add_2,rotation=90);\n",
    "\n",
    "# x-axis a percent\n",
    "xticks = mtick.PercentFormatter(xmax=1.0, decimals=1)\n",
    "ax.xaxis.set_major_formatter(xticks)"
   ]
  },
  {
   "cell_type": "markdown",
   "id": "stable-fifty",
   "metadata": {},
   "source": [
    "__Question 3__"
   ]
  },
  {
   "cell_type": "code",
   "execution_count": 48,
   "id": "solved-coach",
   "metadata": {},
   "outputs": [],
   "source": [
    "\"\"\"\n",
    "Simulate 12 month log-returns and transform to port. returns\n",
    "\"\"\"\n",
    "port_w = np.repeat(1.0/5.0, 5)\n",
    "num_sim = 10000\n",
    "num_per = 12\n",
    "\n",
    "sim_log_returns = resample(eq_log_returns.values, num_sim=num_sim, num_per=num_per)\n",
    "sim_lin_returns = np.exp(sim_log_returns.sum(axis=1)) - 1.0\n",
    "sim_port_returns = sim_lin_returns @ port_w\n",
    "\n",
    "\"\"\"\n",
    "Calculate VaR and CVaR\n",
    "\"\"\"\n",
    "\n",
    "value_at_risk = np.percentile(sim_port_returns, 5)\n",
    "cond_value_at_risk = np.mean(sim_port_returns[sim_port_returns <= value_at_risk])"
   ]
  },
  {
   "cell_type": "code",
   "execution_count": 49,
   "id": "useful-incident",
   "metadata": {
    "scrolled": true
   },
   "outputs": [
    {
     "data": {
      "image/png": "[encoded data removed]",
      "text/plain": [
       "<Figure size 864x432 with 1 Axes>"
      ]
     },
     "metadata": {
      "needs_background": "light"
     },
     "output_type": "display_data"
    }
   ],
   "source": [
    "\"\"\"\n",
    "Plot histogram \n",
    "\"\"\"\n",
    "\n",
    "fig, ax = plt.subplots(figsize=(12, 6))\n",
    "ax.hist(sim_port_returns, density=True, bins=15);\n",
    "\n",
    "ax.axvline(value_at_risk, ymin=0, ymax=8, color=\"black\")\n",
    "ax.axvline(cond_value_at_risk, ymin=0, ymax=8, color=\"black\")\n",
    "ax.set_title(\"Value-at-Risk and Cond. Value-at-Risk\", size=20)\n",
    "ax.set_xlabel('$v_{t + \\\\tau}$', size=20)\n",
    "ax.set_ylabel('Density, $f_{V_{t + \\\\tau}}(v_{t + \\\\tau})$', size=20);\n",
    "\n",
    "# add text\n",
    "text_to_add =  \"$\\mathbf{VaR}_{0.05}\" + \" = {:,.1f}\\%$\".format(-value_at_risk*100)\n",
    "ax.text(value_at_risk + 0.03, 0.4, text_to_add, rotation=90);\n",
    "\n",
    "text_to_add_2 =  \"$\\mathbf{CVaR}_{0.05}\" + \" = {:,.1f}\\%$\".format(-cond_value_at_risk*100)\n",
    "ax.text(cond_value_at_risk - 0.055, 0.4, text_to_add_2,rotation=90);\n",
    "\n",
    "# x-axis a percent\n",
    "xticks = mtick.PercentFormatter(xmax=1.0, decimals=1)\n",
    "ax.xaxis.set_major_formatter(xticks)"
   ]
  },
  {
   "cell_type": "markdown",
   "id": "under-badge",
   "metadata": {},
   "source": [
    "__Question 4__"
   ]
  },
  {
   "cell_type": "code",
   "execution_count": 50,
   "id": "encouraging-invasion",
   "metadata": {},
   "outputs": [
    {
     "data": {
      "text/plain": [
       "-0.2086050795317074"
      ]
     },
     "execution_count": 50,
     "metadata": {},
     "output_type": "execute_result"
    }
   ],
   "source": [
    "est_mean = np.mean(sim_port_returns)\n",
    "est_sigma = np.std(sim_port_returns)\n",
    "est_skew = stats.skew(sim_port_returns)\n",
    "est_kurt = stats.kurtosis(sim_port_returns)\n",
    "\n",
    "cf_var = calculate_cornish_fisher_percentile(0.05, est_mean, est_sigma, est_skew, est_kurt)\n",
    "cf_var"
   ]
  },
  {
   "cell_type": "markdown",
   "id": "alleged-cemetery",
   "metadata": {},
   "source": [
    "## Problem 2: Maximum drawdown\n",
    "\n",
    "[Drawdown](https://en.wikipedia.org/wiki/Drawdown_(economics)) is a measure of the decline from a historical peak. The drawdown at time $T$ from the starting time $0$ can be defined as (we are using linear returns, but it could also be the loss itself)\n",
    "\n",
    "$$\n",
    "DD(T) = \\min \\left[ \\frac{P_T - \\max_{t \\in (0, T)} P_t}{\\max_{t \\in (0, T)} P_t}, 0\\right]\n",
    "$$\n",
    "\n",
    "The maximum drawdown (the most negative return) is \n",
    "\n",
    "$$\n",
    "MDD(T) = \\min_{t \\in (0, T)} \\left[ \\frac{P_T - \\max_{t \\in (0, T)} P_t}{\\max_{t \\in (0, T)} P_t}, 0\\right]\n",
    "$$\n",
    "\n",
    "__Question 1__\n",
    "\n",
    "Implement two functions that calculate respectively the drawdown and maximum drawdown. Let the drawdown function return the drawdown at each point in time. \n",
    "\n",
    "__Question 2__\n",
    "\n",
    "Plot the drawdown of SP500 since 1990-01-01 (hint: use `pandas-datareader`, ticker: '^GSPC', data_source: 'yahoo'). What is the maximum draw down?\n",
    "\n",
    "### Solution \n",
    "\n",
    "__Question 1__"
   ]
  },
  {
   "cell_type": "code",
   "execution_count": 51,
   "id": "solid-ontario",
   "metadata": {},
   "outputs": [],
   "source": [
    "def drawdown(index: np.ndarray):\n",
    "    \n",
    "    \"\"\"\n",
    "    Calculates the running draw down \n",
    "    \n",
    "    Parameters\n",
    "    ----------\n",
    "    index: \n",
    "        Values of e.g. at equity index\n",
    "        \n",
    "    Returns\n",
    "    -------\n",
    "    Tuple(np.ndarray, np.ndarray)\n",
    "        Drawdown, index of running maximum\n",
    "    \n",
    "    \"\"\"\n",
    "    \n",
    "    indexmax = index.cummax()\n",
    "    drawdowns = (index - indexmax) / indexmax\n",
    "    \n",
    "    return drawdowns, indexmax\n",
    "    \n",
    "def maxdrawdown(index: np.ndarray):\n",
    "\n",
    "    \"\"\"\n",
    "    Calculates maximum draw down \n",
    "    \n",
    "    Parameters\n",
    "    ----------\n",
    "    index: \n",
    "        Values of e.g. at equity index\n",
    "        \n",
    "    Returns\n",
    "    -------\n",
    "    float\n",
    "        Maximum drawdown\n",
    "    \n",
    "    \"\"\"\n",
    "    \n",
    "    return drawdown(index)[0].min()\n",
    "        "
   ]
  },
  {
   "cell_type": "markdown",
   "id": "intensive-norman",
   "metadata": {},
   "source": [
    "__Question 2__"
   ]
  },
  {
   "cell_type": "code",
   "execution_count": 52,
   "id": "thousand-apache",
   "metadata": {},
   "outputs": [
    {
     "data": {
      "image/png": "[encoded data removed]",
      "text/plain": [
       "<Figure size 864x432 with 1 Axes>"
      ]
     },
     "metadata": {
      "needs_background": "light"
     },
     "output_type": "display_data"
    }
   ],
   "source": [
    "sp500_adjclose = DataReader('^GSPC', 'yahoo', start=datetime.date(1990, 1, 1))['Adj Close']\n",
    "sp500_adjclose.plot(figsize=(12,6));"
   ]
  },
  {
   "cell_type": "code",
   "execution_count": 53,
   "id": "welcome-means",
   "metadata": {},
   "outputs": [
    {
     "data": {
      "image/png": "[encoded data removed]",
      "text/plain": [
       "<Figure size 864x432 with 1 Axes>"
      ]
     },
     "metadata": {
      "needs_background": "light"
     },
     "output_type": "display_data"
    }
   ],
   "source": [
    "\"\"\"\n",
    "Plotting drawdown plot\n",
    "\"\"\"\n",
    "\n",
    "ax = drawdown(sp500_adjclose)[0].plot(figsize=(12, 6));\n",
    "\n",
    "ax.set_title('Investing in the stock market may be dangerous!')\n",
    "ax.set_ylabel('Drawdown')\n",
    "\n",
    "# x-axis a percent\n",
    "xticks = mtick.PercentFormatter(xmax=1.0, decimals=1)\n",
    "ax.yaxis.set_major_formatter(xticks)"
   ]
  },
  {
   "cell_type": "code",
   "execution_count": 54,
   "id": "dietary-celebration",
   "metadata": {},
   "outputs": [
    {
     "data": {
      "text/plain": [
       "-0.5677538774277282"
      ]
     },
     "execution_count": 54,
     "metadata": {},
     "output_type": "execute_result"
    }
   ],
   "source": [
    "maxdrawdown(sp500_adjclose)"
   ]
  },
  {
   "cell_type": "markdown",
   "id": "pointed-strand",
   "metadata": {},
   "source": [
    "## Problem 3: Portfolio diversification\n",
    "\n",
    "Assume that an investor has a quadratic utility function \n",
    "\n",
    "$$\n",
    "U(\\mathbf{w}) = \\mathbf{w}^\\top \\boldsymbol{\\mu} - \\frac{\\lambda}{2} \\mathbf{w}^\\top \\boldsymbol{\\Sigma} \\mathbf{w}\n",
    "$$\n",
    "\n",
    "where $\\mathbf{w}$ is the portfolio weights, $\\boldsymbol{\\mu}$ is a vector of expected returns, and $\\boldsymbol{\\Sigma}$ denotes the covariance matrix. \n",
    "\n",
    "The investor seeks to maximize the utility given the constraint that the portfolio weights sum to one\n",
    "\n",
    "$$\n",
    "\\mathbf{1}^\\top \\mathbf{w} = 1\n",
    "$$\n",
    "\n",
    "The solution to this optimization problem is given by (see e.g. [Rebonato and Denev, \"Portfolio Management under stress\"](https://www.amazon.com/Portfolio-Management-under-Stress-Bayesian-Net/dp/1107048117))\n",
    "\n",
    "$$\n",
    "\\mathbf{w}^* = \\frac{1}{\\lambda} \\boldsymbol{\\Sigma}^{-1} \\boldsymbol{\\mu} - \\frac{1}{\\lambda} \\boldsymbol{\\Sigma}^{-1} \\mathbf{A}^\\top \\mathbf{C}^{-1} \\left(\\mathbf{A}\\boldsymbol{\\Sigma}^{-1}\\boldsymbol{\\mu}  - \\lambda \\mathbf{b} \\right)\n",
    "$$\n",
    "\n",
    "with $\\mathbf{A} = \\mathbf{1}^\\top$, $\\mathbf{b} = 1$, and $\\mathbf{C} = \\mathbf{A} \\boldsymbol{\\Sigma}^{-1}\\mathbf{A}^\\top$. Note that this solution is valid for more general constraints of the form $\\mathbf{A}^\\top \\mathbf{w} = \\mathbf{b}$. \n",
    "\n",
    "\n",
    "We assume that \n",
    "\n",
    "$$\n",
    "\\boldsymbol{\\mu}  = \\begin{bmatrix} 0.02 \\\\ 0.04 \\\\ 0.08 \\end{bmatrix}, \\; \\mathbf{v} = \\begin{bmatrix} 0.075 \\\\ 0.15 \\\\ 0.3 \\end{bmatrix}, \\; \\textbf{Corr} = \\begin{bmatrix} 1.0 & 0.2 & 0.1 \\\\\n",
    "                     0.2 & 1.0 & 0.4 \\\\\n",
    "                     0.1 & 0.4 & 1.0 \\end{bmatrix}\n",
    "$$\n",
    "\n",
    "\n",
    "__Question 1__\n",
    "\n",
    "Calculate the covariance matrix. One possibility is to use the trick \n",
    "\n",
    "$$\n",
    "\\boldsymbol{\\Sigma} = \\mathbf{v} \\mathbf{v}^\\top \\odot \\textbf{Corr}\n",
    "$$\n",
    "\n",
    "where $\\mathbf{v} \\mathbf{v}^\\top$ is the outer product and $\\odot$ denotes the element-by-element product (Hadamard product).  \n",
    "\n",
    "\n",
    "__Question 2__\n",
    "\n",
    "Define a function that calculates the optimal weights. The function should take three inputs: expected value, covariance matrix and risk aversion. \n",
    "\n",
    "Calculate the optimal weights when $\\lambda = 5$. \n",
    "\n",
    "__Question 3__\n",
    "\n",
    "Define a function that calculates the relative risk contributions. The function should take two inputs: portfolio weights and the covariance matrix. Calculate the relative risk contribution using the optimal weights from question 2. \n",
    "\n",
    "Note that we in the lectures defined the risk contribution as\n",
    "\n",
    "$$\n",
    "\\text{RC}_i(\\mathbf{w}) = w_i \\frac{\\partial \\sigma_P(\\mathbf{w}) }{\\partial w_i} = w_i \\frac{(\\boldsymbol{\\Sigma} \\mathbf{w})_i }{\\sqrt{\\mathbf{w}^\\top \\boldsymbol{\\Sigma} \\mathbf{w}}}\n",
    "$$\n",
    "\n",
    "Dividing with the portfolio standard deviation gives us the relative risk contribution \n",
    "\n",
    "$$\n",
    "\\text{RRC}_i(\\mathbf{w}) =  w_i \\frac{(\\boldsymbol{\\Sigma} \\mathbf{w})_i }{\\sqrt{\\mathbf{w}^\\top \\boldsymbol{\\Sigma} \\mathbf{w}}} \\frac{1}{\\sqrt{ \\mathbf{w}^\\top \\boldsymbol{\\Sigma} \\mathbf{w}}}\n",
    "$$\n",
    "\n",
    "\n",
    "\n",
    "__Question 4__\n",
    "\n",
    "Calculate the optimal weights and the corresponding relative risk contribution for 100 values of the risk aversion parameter in the interval $\\lambda \\in [1.2, 20.0]$?\n",
    "\n",
    "Note that one could make a for loop that for each value of the risk aversion parameter in `risk_aversions` created using `np.linspace(1.2, 20.0, 100)` calculates the optimal weights and relative risk contribution and store them in `optimal_weights = np.zeros((3, len(risk_aversions)))` and `rel_risk_contribs = np.zeros((3, len(risk_aversions)))`. \n",
    "\n",
    "\n",
    "__Question 5__\n",
    "\n",
    "Use a [stackplot](https://matplotlib.org/stable/gallery/lines_bars_and_markers/stackplot_demo.html) to plot the optimal weights and the relative risk contributions for each value of $\\lambda$ (two different plots). The code should look something like when plotting the optimal weights\n",
    "\n",
    "```python\n",
    "import matplotlib.pyplot as plt\n",
    "\n",
    "fig, ax = plt.subplots(figsize=(10, 5))\n",
    "ax.stackplot(risk_aversions, optimal_weights, labels=['Asset 1', 'Asset 2', 'Asset 3']); \n",
    "ax.set_xlabel('$\\\\lambda$')\n",
    "ax.set_ylabel('$w$')\n",
    "ax.set_title('Optimal weights')\n",
    "ax.legend(loc='upper left')\n",
    "```\n",
    "\n",
    "### Solution \n",
    "\n",
    "__Question 1__"
   ]
  },
  {
   "cell_type": "code",
   "execution_count": 55,
   "id": "narrative-moses",
   "metadata": {},
   "outputs": [
    {
     "data": {
      "text/plain": [
       "array([[0.005625, 0.00225 , 0.00225 ],\n",
       "       [0.00225 , 0.0225  , 0.018   ],\n",
       "       [0.00225 , 0.018   , 0.09    ]])"
      ]
     },
     "execution_count": 55,
     "metadata": {},
     "output_type": "execute_result"
    }
   ],
   "source": [
    "mu = np.array([0.02, 0.04, 0.08])\n",
    "vols = np.array([0.075, 0.15, 0.3])\n",
    "corr_mat = np.array([[1.0, 0.2, 0.1],\n",
    "                     [0.2, 1.0, 0.4],\n",
    "                     [0.1, 0.4, 1.0]])\n",
    "\n",
    "cov_mat = np.outer(vols, vols) * corr_mat\n",
    "cov_mat"
   ]
  },
  {
   "cell_type": "markdown",
   "id": "fuzzy-campbell",
   "metadata": {},
   "source": [
    "__Question 2__"
   ]
  },
  {
   "cell_type": "code",
   "execution_count": 56,
   "id": "alpha-budget",
   "metadata": {},
   "outputs": [],
   "source": [
    "\"\"\"\n",
    "Define quadratic utility function \n",
    "\"\"\"\n",
    "\n",
    "def quadratic_utility(weights: np.ndarray, mu: np.ndarray, cov_matrix: np.ndarray, risk_aversion: float) -> float:\n",
    "    \n",
    "    \"\"\"\n",
    "    Function that returns the quadratic utility of a given allocation\n",
    "    \n",
    "    Parameters\n",
    "    ----------\n",
    "    weights: \n",
    "        Portfolio weights\n",
    "    mu: \n",
    "        Expected returns\n",
    "    cov_matrix: \n",
    "        Covariance matrix\n",
    "    risk_aversion: \n",
    "        Risk aversion parameter\n",
    "    \n",
    "    Returns\n",
    "    -------\n",
    "    float\n",
    "        Utility\n",
    "    \"\"\"\n",
    "    return weights @ mu - 0.5 * risk_aversion * weights @ cov_matrix @ weights\n",
    "\n",
    "\"\"\"\n",
    "Define optimal weights function\n",
    "\"\"\"\n",
    "\n",
    "def calculate_optimal_weights(mu: np.ndarray, cov_matrix: np.ndarray, risk_aversion: float) -> np.ndarray: \n",
    "    \n",
    "    \"\"\"\n",
    "    Function that calculates optimal port. weights\n",
    "    \n",
    "    Parameters\n",
    "    ----------\n",
    "    mu: \n",
    "        Expected returns\n",
    "    cov_matrix: \n",
    "        Covariance matrix\n",
    "    risk_aversion: \n",
    "        Risk aversion parameter\n",
    "    \n",
    "    Returns\n",
    "    -------\n",
    "    float\n",
    "        Optimal portfolio weights\n",
    "    \"\"\"\n",
    "    sigma_inv = np.linalg.inv(cov_matrix)\n",
    "    A = np.ones_like(mu)\n",
    "    C = A @ sigma_inv @ A\n",
    "    C_inv = 1.0 / C\n",
    "    b = 1.0\n",
    "    \n",
    "    first_part = 1.0 / risk_aversion * sigma_inv @ mu \n",
    "    second_part = 1.0 / risk_aversion * sigma_inv @ A * C_inv * (A @ sigma_inv @ mu - risk_aversion * b)\n",
    "    \n",
    "    opt_weights = first_part - second_part\n",
    "    \n",
    "    return opt_weights\n",
    "\n",
    "def calculate_optimal_weights_alternative(mu: np.ndarray, cov_matrix: np.ndarray, risk_aversion: float) -> np.ndarray: \n",
    "    \n",
    "    \"\"\"\n",
    "    Function that calculates optimal port. weights\n",
    "    \n",
    "    Parameters\n",
    "    ----------\n",
    "    mu: \n",
    "        Expected returns\n",
    "    cov_matrix: \n",
    "        Covariance matrix\n",
    "    risk_aversion: \n",
    "        Risk aversion parameter\n",
    "    \n",
    "    Returns\n",
    "    -------\n",
    "    float\n",
    "        Optimal portfolio weights\n",
    "    \"\"\"\n",
    "    \n",
    "    ones = np.ones_like(mu)\n",
    "    sigma_inv = np.linalg.inv(cov_matrix)\n",
    "    \n",
    "    a = ones @  sigma_inv @ mu\n",
    "    b = ones @  sigma_inv @ ones\n",
    "    \n",
    "    r_inv = 1.0 / risk_aversion\n",
    "    \n",
    "    gamma = a / b - risk_aversion / b \n",
    "    \n",
    "    opt_weights = r_inv * sigma_inv @mu - r_inv * gamma * sigma_inv @ ones\n",
    "    \n",
    "    return opt_weights\n"
   ]
  },
  {
   "cell_type": "code",
   "execution_count": 57,
   "id": "central-market",
   "metadata": {},
   "outputs": [
    {
     "name": "stdout",
     "output_type": "stream",
     "text": [
      "optimal weights: \n"
     ]
    },
    {
     "data": {
      "text/plain": [
       "array([0.66414857, 0.2115203 , 0.12433113])"
      ]
     },
     "execution_count": 57,
     "metadata": {},
     "output_type": "execute_result"
    }
   ],
   "source": [
    "risk_aversion = 5\n",
    "print(\"optimal weights: \")\n",
    "w_opt = calculate_optimal_weights(mu, cov_mat, risk_aversion)\n",
    "w_opt"
   ]
  },
  {
   "cell_type": "markdown",
   "id": "interesting-jungle",
   "metadata": {},
   "source": [
    "__Question 3__"
   ]
  },
  {
   "cell_type": "code",
   "execution_count": 60,
   "id": "ready-inflation",
   "metadata": {},
   "outputs": [],
   "source": [
    "def calculate_marginal_risks_std(weights: np.ndarray, cov_matrix: np.ndarray) -> np.ndarray:\n",
    "    \n",
    "    \"\"\"\n",
    "    Function that calculates marginal risk\n",
    "    Parameters\n",
    "    ----------\n",
    "    weights: \n",
    "        Portfolio weights\n",
    "    cov_matrix: \n",
    "        Covariance matrix\n",
    "    \n",
    "    Returns\n",
    "    -------\n",
    "    np.ndarray\n",
    "        Marginal risks\n",
    "    \"\"\"\n",
    "    \n",
    "    total_risk = np.sqrt(weights @ cov_matrix @ weights)\n",
    "    inner_derivative = cov_matrix @ weights\n",
    "    \n",
    "    return inner_derivative / total_risk\n",
    "\n",
    "def calculate_risk_contributions_std(weights: np.ndarray, cov_matrix: np.ndarray, scale: bool = False) -> np.ndarray:\n",
    "    \n",
    "    \"\"\"\n",
    "    Function that calculates risk contributions\n",
    "    \n",
    "    Parameters\n",
    "    ----------\n",
    "    weights: \n",
    "        Portfolio weights\n",
    "    cov_matrix: \n",
    "        Covariance matrix\n",
    "    \n",
    "    Returns\n",
    "    -------\n",
    "    np.ndarray\n",
    "        Marginal risks\n",
    "    \"\"\"\n",
    "    \n",
    "    mr = calculate_marginal_risks_std(weights, cov_matrix)\n",
    "    \n",
    "    if scale: \n",
    "        mr /= np.sqrt(weights @ cov_matrix @ weights)\n",
    "    \n",
    "    return weights * mr"
   ]
  },
  {
   "cell_type": "code",
   "execution_count": 61,
   "id": "worth-jacket",
   "metadata": {},
   "outputs": [
    {
     "name": "stdout",
     "output_type": "stream",
     "text": [
      "relative risk contribution: \n"
     ]
    },
    {
     "data": {
      "text/plain": [
       "array([0.43678156, 0.26299292, 0.30022551])"
      ]
     },
     "execution_count": 61,
     "metadata": {},
     "output_type": "execute_result"
    }
   ],
   "source": [
    "print(\"relative risk contribution: \")\n",
    "rel_risk_contrib = calculate_risk_contributions_std(w_opt, cov_mat, scale=True)\n",
    "rel_risk_contrib"
   ]
  },
  {
   "cell_type": "markdown",
   "id": "latin-frederick",
   "metadata": {},
   "source": [
    "__Question 4__"
   ]
  },
  {
   "cell_type": "code",
   "execution_count": 62,
   "id": "sunset-brazil",
   "metadata": {},
   "outputs": [],
   "source": [
    "risk_aversions = np.linspace(1.2, 20.0, 100)\n",
    "optimal_weights = np.zeros((3, len(risk_aversions)))\n",
    "rel_risk_contribs = np.zeros((3, len(risk_aversions)))\n",
    "\n",
    "for _, risk_aversion in enumerate(risk_aversions):\n",
    "    optimal_weights[:, _] = calculate_optimal_weights(mu, cov_mat, risk_aversion)\n",
    "    rel_risk_contribs[:, _] = calculate_risk_contributions_std(optimal_weights[:, _], cov_mat, scale=True)"
   ]
  },
  {
   "cell_type": "markdown",
   "id": "former-paint",
   "metadata": {},
   "source": [
    "__Question 5__"
   ]
  },
  {
   "cell_type": "code",
   "execution_count": 63,
   "id": "amino-costs",
   "metadata": {},
   "outputs": [
    {
     "data": {
      "image/png": "[encoded data removed]",
      "text/plain": [
       "<Figure size 720x360 with 1 Axes>"
      ]
     },
     "metadata": {
      "needs_background": "light"
     },
     "output_type": "display_data"
    }
   ],
   "source": [
    "\"\"\"\n",
    "Optimal weights\n",
    "\"\"\"\n",
    "fig, ax = plt.subplots(figsize=(10, 5))\n",
    "ax.stackplot(risk_aversions, optimal_weights, labels=['Asset 1', 'Asset 2', 'Asset 3']); \n",
    "ax.set_xlabel('$\\\\lambda$')\n",
    "ax.set_ylabel('$w$')\n",
    "ax.set_title('Optimal weights')\n",
    "ax.legend(loc='upper left');"
   ]
  },
  {
   "cell_type": "markdown",
   "id": "viral-fence",
   "metadata": {},
   "source": [
    "__Question 6__"
   ]
  },
  {
   "cell_type": "code",
   "execution_count": 64,
   "id": "encouraging-going",
   "metadata": {},
   "outputs": [
    {
     "data": {
      "image/png": "[encoded data removed]",
      "text/plain": [
       "<Figure size 720x360 with 1 Axes>"
      ]
     },
     "metadata": {
      "needs_background": "light"
     },
     "output_type": "display_data"
    }
   ],
   "source": [
    "\"\"\"\n",
    "Optimal weights\n",
    "\"\"\"\n",
    "fig, ax = plt.subplots(figsize=(10, 5))\n",
    "ax.stackplot(risk_aversions, rel_risk_contribs, labels=['Asset 1', 'Asset 2', 'Asset 3']); \n",
    "ax.set_xlabel('$\\\\lambda$')\n",
    "ax.set_ylabel('$RRC_i$')\n",
    "ax.set_title('Relative risk contribution')\n",
    "ax.legend(loc='upper left');\n",
    " "
   ]
  },
  {
   "cell_type": "markdown",
   "id": "cubic-cologne",
   "metadata": {},
   "source": [
    "The analysis shows us that looking only at portfolio weights may be misleading when trying to understand the risk drivers of the portfolio. "
   ]
  },
  {
   "cell_type": "markdown",
   "id": "virgin-western",
   "metadata": {},
   "source": [
    "### Check formula"
   ]
  },
  {
   "cell_type": "code",
   "execution_count": 67,
   "id": "fifteen-young",
   "metadata": {},
   "outputs": [
    {
     "data": {
      "text/plain": [
       "array([0.66416496, 0.21152602, 0.12430902])"
      ]
     },
     "execution_count": 67,
     "metadata": {},
     "output_type": "execute_result"
    }
   ],
   "source": [
    "objective = lambda w: -quadratic_utility(w, mu, cov_mat, 5)\n",
    "\n",
    "sum_to_on_constraint = {'type': 'eq', 'fun': lambda w: np.sum(w) - 1.0}\n",
    "\n",
    "res = minimize(objective, [0.0/3.0, 1.0/3.0, 2.0/3.0], constraints=sum_to_on_constraint)\n",
    "res.x"
   ]
  },
  {
   "cell_type": "markdown",
   "id": "impressed-fancy",
   "metadata": {},
   "source": [
    "## Problem 4: Allocating diversification benefits for VaR and CVaR\n",
    "\n",
    "In this problem, we will learn how to perform risk decompostion if we for simplicity assume that the linear returns follow a normal distribution. \n",
    "\n",
    "As in problem 3, assume that \n",
    "\n",
    "$$\n",
    "\\boldsymbol{\\mu}  = \\begin{bmatrix} 0.02 \\\\ 0.04 \\\\ 0.08 \\end{bmatrix}, \\; \\mathbf{v} = \\begin{bmatrix} 0.075 \\\\ 0.15 \\\\ 0.3 \\end{bmatrix}, \\; \\textbf{Corr} = \\begin{bmatrix} 1.0 & 0.2 & 0.1 \\\\\n",
    "                     0.2 & 1.0 & 0.4 \\\\\n",
    "                     0.1 & 0.4 & 1.0 \\end{bmatrix}\n",
    "$$\n",
    "\n",
    "and add the assumption that the returns follow a multivariate normal distribution\n",
    "\n",
    "$$\n",
    "\\mathbf{R} \\sim \\text{MVN}(\\boldsymbol{\\mu}, \\boldsymbol{\\Sigma})\n",
    "$$\n",
    "\n",
    "where $\\boldsymbol{\\Sigma}$ is the covariance matrix. We know that we can write the portfolio mean as ($\\mathbf{w}$ is the portfolio weights)\n",
    "\n",
    "$$\n",
    "\\mu_P(\\mathbf{w}) = \\mathbf{w}^\\top \\boldsymbol{\\mu}\n",
    "$$\n",
    "\n",
    "and the standard deviation as \n",
    "\n",
    "$$\n",
    "\\sigma_P(\\mathbf{w}) = \\sqrt{\\mathbf{w}^\\top \\boldsymbol{\\Sigma} \\mathbf{w}}\n",
    "$$\n",
    "\n",
    "such that the portfolio return follows a normal distribution\n",
    "\n",
    "$$\n",
    "R_P = \\mathbf{w}^\\top \\mathbf{R} \\sim N(\\mu_P(\\mathbf{w}), \\sigma_P^2(\\mathbf{w}))\n",
    "$$\n",
    "\n",
    "\n",
    "Furthermore, consider an equally weighted portfolio. \n",
    "\n",
    "__Question 1__\n",
    "\n",
    "\n",
    "Given our understanding of the normal distribution, we can calculate the VaR as \n",
    "\n",
    "$$\n",
    "\\text{VaR}_{\\alpha} (\\mathbf{w}) = - \\mu_P(\\mathbf{w}) + \\sigma_P(\\mathbf{w}) \\Phi^{-1}(1 - \\alpha)\n",
    "$$\n",
    "\n",
    "where $\\phi()$ and $\\Phi^{-1}()$ denote the standard normal pdf and quantile function respectively. \n",
    "\n",
    "The CVaR is given by\n",
    "\n",
    "$$\n",
    "\\text{CVaR}_{\\alpha} = -\\mu_P + \\sigma_P \\frac{\\phi\\left(\\Phi^{-1}(\\alpha) \\right)}{\\alpha}\n",
    "$$ \n",
    "\n",
    "Calculate VaR(5%) and CVaR(5%) of an equally weighted portfolio using the normal assumption. \n",
    "\n",
    "\n",
    "__Question 2__\n",
    "\n",
    "We can decompose the VaR using \n",
    "\n",
    "$$\n",
    "\\text{VaR}_{\\alpha}(\\mathbf{w}) = \\sum_{i=1}^N w_i \\frac{\\partial \\text{VaR}_{\\alpha}(\\mathbf{w})}{\\partial w_i}\n",
    "$$\n",
    "\n",
    "\n",
    "Find the marginal risk (use e.g. the chain-rule)\n",
    "\n",
    "$$\n",
    "\\frac{\\partial \\text{VaR}_{\\alpha}(\\mathbf{w})}{\\partial w_i},\n",
    "$$\n",
    "\n",
    "implement a function calculating the marginal risk and risk contribution, and calculate the values for an equally weighted portfolio. \n",
    "\n",
    "Is the VaR equal the sum of the risk contributions?\n",
    "\n",
    "__Question 3__\n",
    "\n",
    "We can decompose the CVaR using \n",
    "\n",
    "$$\n",
    "\\text{CVaR}_{\\alpha}(\\mathbf{w}) = \\sum_{i=1}^N w_i \\frac{\\partial \\text{CVaR}_{\\alpha}(\\mathbf{w})}{\\partial w_i}\n",
    "$$\n",
    "\n",
    "Find the marginal risk\n",
    "\n",
    "$$\n",
    "\\frac{\\partial \\text{CVaR}_{\\alpha}(\\mathbf{w})}{\\partial w_i},\n",
    "$$\n",
    "\n",
    "implement a function calculating the marginal risk and risk contribution, and calculate the values for an equally weighted portfolio. \n",
    "\n",
    "Is the CVaR equal the sum of the risk contributions?\n",
    "\n",
    "### Solution\n",
    "\n",
    "__Question 1__\n",
    "\n",
    "We simply define functions that implement the above definitions. See `codelib.portfolio_optimization.risk_metrices` for the definition of the functions. "
   ]
  },
  {
   "cell_type": "code",
   "execution_count": 16,
   "id": "strange-acceptance",
   "metadata": {},
   "outputs": [],
   "source": [
    "mu = np.array([0.02, 0.04, 0.08])\n",
    "vols = np.array([0.075, 0.15, 0.3])\n",
    "corr_mat = np.array([[1.0, 0.2, 0.1],\n",
    "                     [0.2, 1.0, 0.4],\n",
    "                     [0.1, 0.4, 1.0]])\n",
    "\n",
    "cov_mat = np.outer(vols, vols) * corr_mat\n",
    "cov_mat\n",
    "\n",
    "weights = np.repeat(1.0 / 3.0, 3)"
   ]
  },
  {
   "cell_type": "code",
   "execution_count": 17,
   "id": "champion-trail",
   "metadata": {},
   "outputs": [
    {
     "data": {
      "text/plain": [
       "0.17477852995199877"
      ]
     },
     "execution_count": 17,
     "metadata": {},
     "output_type": "execute_result"
    }
   ],
   "source": [
    "-calculate_normal_port_value_at_risk(weights, mu, cov_mat)"
   ]
  },
  {
   "cell_type": "code",
   "execution_count": 18,
   "id": "listed-court",
   "metadata": {},
   "outputs": [
    {
     "data": {
      "text/plain": [
       "0.23103454378869823"
      ]
     },
     "execution_count": 18,
     "metadata": {},
     "output_type": "execute_result"
    }
   ],
   "source": [
    "-calculate_normal_port_cond_value_at_risk(weights, mu, cov_mat)"
   ]
  },
  {
   "cell_type": "markdown",
   "id": "finnish-summit",
   "metadata": {},
   "source": [
    "__Question 2__\n",
    "\n",
    "First, we need to find \n",
    "\n",
    "$$\n",
    "\\frac{\\partial \\text{VaR}_{\\alpha}(\\mathbf{w})}{\\partial w_i} \n",
    "$$\n",
    "\n",
    "We can simply use the chain-rule and that (what we have seen at the lectures)\n",
    "\n",
    "$$\n",
    "\\nabla \\sigma_P(\\mathbf{w}) = \\frac{d \\sigma_P(\\mathbf{w}) }{d \\mathbf{w}^\\top \\boldsymbol{\\Sigma} \\mathbf{w}}\\frac{\\partial \\mathbf{w}^\\top \\boldsymbol{\\Sigma} \\mathbf{w}}{\\partial \\mathbf{w}} = \\frac{1}{2\\sqrt{\\mathbf{w}^\\top \\boldsymbol{\\Sigma} \\mathbf{w}}} 2 \\boldsymbol{\\Sigma} \\mathbf{w} = \\frac{\\boldsymbol{\\Sigma} \\mathbf{w} }{\\sqrt{\\mathbf{w}^\\top \\boldsymbol{\\Sigma} \\mathbf{w}}}\n",
    "$$\n",
    "\n",
    "\n",
    "We find \n",
    "\n",
    "$$\n",
    "\\nabla \\text{VaR}_{\\alpha} = -\\boldsymbol{\\mu} +  \\Phi^{-1}(1 - \\alpha) \\nabla \\sigma_P(\\mathbf{w}) = -\\boldsymbol{\\mu} +  \\Phi^{-1}(1 - \\alpha)  \\frac{\\boldsymbol{\\Sigma} \\mathbf{w} }{\\sqrt{\\mathbf{w}^\\top \\boldsymbol{\\Sigma} \\mathbf{w}}}\n",
    "$$\n",
    "\n",
    "Thus, \n",
    "\n",
    "$$\n",
    "\\frac{\\partial \\text{VaR}_{\\alpha}(\\mathbf{w})}{\\partial w_i} = -\\mu_i +  \\Phi^{-1}(1 - \\alpha)  \\frac{(\\boldsymbol{\\Sigma} \\mathbf{w})_i }{\\sqrt{\\mathbf{w}^\\top \\boldsymbol{\\Sigma} \\mathbf{w}}}\n",
    "$$"
   ]
  },
  {
   "cell_type": "code",
   "execution_count": 19,
   "id": "introductory-waste",
   "metadata": {},
   "outputs": [],
   "source": [
    "def calculate_marginal_risks_normal_var(weights: np.ndarray, mu: np.ndarray, cov_mat: np.ndarray, alpha: float = 0.05) -> np.ndarray:\n",
    "    \"\"\"\n",
    "    Function that calculates marginal risk using Value-at-Risk as risk measure.\n",
    "    It is assumed that returns follow a normal distribution.\n",
    "\n",
    "    Parameters\n",
    "    ----------\n",
    "    weights:\n",
    "        Portfolio weights\n",
    "    mu:\n",
    "        Vector of expected returns\n",
    "    cov_mat:\n",
    "        Covariance matrix\n",
    "    alpha:\n",
    "        Confidence level\n",
    "\n",
    "    Returns\n",
    "    -------\n",
    "    np.ndarray\n",
    "        Marginal risks\n",
    "    \"\"\"\n",
    "\n",
    "    mr_std = calculate_marginal_risks_std(weights, cov_mat)\n",
    "    \n",
    "    mr_var = -mu + stats.norm.ppf(1.0 - alpha) * mr_std\n",
    "    \n",
    "    return mr_var"
   ]
  },
  {
   "cell_type": "code",
   "execution_count": 20,
   "id": "earned-therapy",
   "metadata": {},
   "outputs": [],
   "source": [
    "def calculate_risk_contributions_normal_var(weights: np.ndarray, mu: np.ndarray, cov_mat: np.ndarray, alpha: float = 0.05) -> np.ndarray:\n",
    "    \"\"\"\n",
    "    Function that calculates marginal risk using Value-at-Risk as risk measure.\n",
    "    It is assumed that returns follow a normal distribution.\n",
    "\n",
    "    Parameters\n",
    "    ----------\n",
    "    weights:\n",
    "        Portfolio weights\n",
    "    mu:\n",
    "        Vector of expected returns\n",
    "    cov_mat:\n",
    "        Covariance matrix\n",
    "    alpha:\n",
    "        Confidence level\n",
    "\n",
    "    Returns\n",
    "    -------\n",
    "    np.ndarray\n",
    "        Marginal risks\n",
    "    \"\"\"\n",
    "\n",
    "    mr = calculate_marginal_risks_normal_var(weights, mu, cov_mat, alpha=alpha)\n",
    "    \n",
    "    return weights * mr"
   ]
  },
  {
   "cell_type": "code",
   "execution_count": 21,
   "id": "prescribed-canvas",
   "metadata": {},
   "outputs": [
    {
     "data": {
      "text/plain": [
       "array([0.02123462, 0.13410174, 0.36899923])"
      ]
     },
     "execution_count": 21,
     "metadata": {},
     "output_type": "execute_result"
    }
   ],
   "source": [
    "mr_var = calculate_marginal_risks_normal_var(weights, mu, cov_mat, alpha=0.05)\n",
    "mr_var"
   ]
  },
  {
   "cell_type": "code",
   "execution_count": 22,
   "id": "incorporate-detection",
   "metadata": {},
   "outputs": [
    {
     "data": {
      "text/plain": [
       "array([0.00707821, 0.04470058, 0.12299974])"
      ]
     },
     "execution_count": 22,
     "metadata": {},
     "output_type": "execute_result"
    }
   ],
   "source": [
    "mrc_var = calculate_risk_contributions_normal_var(weights, mu, cov_mat, alpha=0.05)\n",
    "mrc_var"
   ]
  },
  {
   "cell_type": "code",
   "execution_count": 23,
   "id": "apart-longer",
   "metadata": {},
   "outputs": [
    {
     "data": {
      "text/plain": [
       "0.17477852995199866"
      ]
     },
     "execution_count": 23,
     "metadata": {},
     "output_type": "execute_result"
    }
   ],
   "source": [
    "mrc_var.sum()"
   ]
  },
  {
   "cell_type": "markdown",
   "id": "colonial-baseline",
   "metadata": {},
   "source": [
    "We see that the sum of marginal risk contributions are equal to VaR."
   ]
  },
  {
   "cell_type": "markdown",
   "id": "professional-affect",
   "metadata": {},
   "source": [
    "__Question 3__\n",
    "\n",
    "We need to find \n",
    "\n",
    "$$\n",
    "\\frac{\\partial \\text{CVaR}_{\\alpha}(\\mathbf{w})}{\\partial w_i} \n",
    "$$\n",
    "\n",
    "We follow the same approach as before\n",
    "\n",
    "$$\n",
    "\\nabla \\text{CVaR}_{\\alpha} = -\\boldsymbol{\\mu} +  \\frac{\\phi\\left(\\Phi^{-1}(\\alpha) \\right)}{\\alpha} \\nabla \\sigma_P(\\mathbf{w}) = -\\boldsymbol{\\mu} +  \\frac{\\phi\\left(\\Phi^{-1}(\\alpha) \\right)}{\\alpha} \\frac{\\boldsymbol{\\Sigma} \\mathbf{w} }{\\sqrt{\\mathbf{w}^\\top \\boldsymbol{\\Sigma} \\mathbf{w}}}\n",
    "$$\n",
    "\n",
    "Thus, \n",
    "\n",
    "$$\n",
    "\\frac{\\partial \\text{CVaR}_{\\alpha}(\\mathbf{w})}{\\partial w_i} = -\\mu_i +  \\frac{\\phi\\left(\\Phi^{-1}(\\alpha) \\right)}{\\alpha} \\frac{(\\boldsymbol{\\Sigma} \\mathbf{w})_i }{\\sqrt{\\mathbf{w}^\\top \\boldsymbol{\\Sigma} \\mathbf{w}}}\n",
    "$$"
   ]
  },
  {
   "cell_type": "code",
   "execution_count": 24,
   "id": "changed-librarian",
   "metadata": {},
   "outputs": [],
   "source": [
    "def calculate_marginal_risks_normal_cvar(weights: np.ndarray, mu: np.ndarray, cov_mat: np.ndarray, alpha: float = 0.05) -> np.ndarray:\n",
    "    \"\"\"\n",
    "    Function that calculates marginal risk using Cond. Value-at-Risk as risk measure.\n",
    "    It is assumed that returns follow a normal distribution.\n",
    "\n",
    "    Parameters\n",
    "    ----------\n",
    "    weights:\n",
    "        Portfolio weights\n",
    "    mu:\n",
    "        Vector of expected returns\n",
    "    cov_mat:\n",
    "        Covariance matrix\n",
    "    alpha:\n",
    "        Confidence level\n",
    "\n",
    "    Returns\n",
    "    -------\n",
    "    np.ndarray\n",
    "        Marginal risks\n",
    "    \"\"\"\n",
    "\n",
    "    mr_std = calculate_marginal_risks_std(weights, cov_mat)\n",
    "    \n",
    "    qnorm = stats.norm.ppf(alpha)\n",
    "    \n",
    "    mr_cvar = -mu + stats.norm.pdf(qnorm) / alpha * mr_std\n",
    "    \n",
    "    return mr_cvar"
   ]
  },
  {
   "cell_type": "code",
   "execution_count": 25,
   "id": "surgical-assistant",
   "metadata": {},
   "outputs": [],
   "source": [
    "def calculate_risk_contributions_normal_cvar(weights: np.ndarray, mu: np.ndarray, cov_mat: np.ndarray, alpha: float = 0.05) -> np.ndarray:\n",
    "    \"\"\"\n",
    "    Function that calculates marginal risk using Cond. Value-at-Risk as risk measure.\n",
    "    It is assumed that returns follow a normal distribution.\n",
    "\n",
    "    Parameters\n",
    "    ----------\n",
    "    weights:\n",
    "        Portfolio weights\n",
    "    mu:\n",
    "        Vector of expected returns\n",
    "    cov_mat:\n",
    "        Covariance matrix\n",
    "    alpha:\n",
    "        Confidence level\n",
    "\n",
    "    Returns\n",
    "    -------\n",
    "    np.ndarray\n",
    "        Marginal risks\n",
    "    \"\"\"\n",
    "\n",
    "    mr = calculate_marginal_risks_normal_cvar(weights, mu, cov_mat, alpha=alpha)\n",
    "    \n",
    "    return weights * mr"
   ]
  },
  {
   "cell_type": "code",
   "execution_count": 26,
   "id": "large-default",
   "metadata": {},
   "outputs": [
    {
     "data": {
      "text/plain": [
       "array([0.03170988, 0.17833061, 0.48306314])"
      ]
     },
     "execution_count": 26,
     "metadata": {},
     "output_type": "execute_result"
    }
   ],
   "source": [
    "mr_cvar = calculate_marginal_risks_normal_cvar(weights, mu, cov_mat, alpha=0.05)\n",
    "mr_cvar"
   ]
  },
  {
   "cell_type": "code",
   "execution_count": 27,
   "id": "compatible-bundle",
   "metadata": {},
   "outputs": [
    {
     "data": {
      "text/plain": [
       "array([0.01056996, 0.05944354, 0.16102105])"
      ]
     },
     "execution_count": 27,
     "metadata": {},
     "output_type": "execute_result"
    }
   ],
   "source": [
    "mrc_cvar = calculate_risk_contributions_normal_cvar(weights, mu, cov_mat, alpha=0.05)\n",
    "mrc_cvar"
   ]
  },
  {
   "cell_type": "code",
   "execution_count": 28,
   "id": "korean-balance",
   "metadata": {},
   "outputs": [
    {
     "data": {
      "text/plain": [
       "0.2310345437886982"
      ]
     },
     "execution_count": 28,
     "metadata": {},
     "output_type": "execute_result"
    }
   ],
   "source": [
    "mrc_cvar.sum()"
   ]
  },
  {
   "cell_type": "markdown",
   "id": "logical-secondary",
   "metadata": {},
   "source": [
    "We see that the sum of marginal risk contributions are equal to CVaR.\n",
    "\n",
    "It is important to note that given the Gaussian assumption, the relative risk contribution is determined primarily by the risk contribution obtained using standard devation as a risk measure (assuming $\\boldsymbol{\\mu}$ close to zero). Thus, one would expect to obtain similar results using either risk measure. "
   ]
  },
  {
   "cell_type": "markdown",
   "id": "chief-destination",
   "metadata": {},
   "source": [
    "## Problem 5: Scenario based risk measures\n",
    "\n",
    "In many applications, we use scenerios either historical or Monte Carlo to calculate risk measures of a portfolio. In this exercise, we will see how with can allocate risk when a simulation based approach is taken. \n",
    "\n",
    "Again, we consider ...\n",
    "\n",
    "\n",
    "__Question 1__\n",
    "\n",
    "\n",
    "__Question 2__\n",
    "\n",
    "\n",
    "__Question 3__\n",
    "\n",
    "\n",
    "__Question 4__\n",
    "\n",
    "\n",
    "### Solution \n",
    "\n",
    "__Question 1__"
   ]
  },
  {
   "cell_type": "code",
   "execution_count": 29,
   "id": "colonial-apparatus",
   "metadata": {},
   "outputs": [],
   "source": [
    "mu = np.array([0.02, 0.04, 0.08])\n",
    "vols = np.array([0.075, 0.15, 0.3])\n",
    "corr_mat = np.array([[1.0, 0.2, 0.1],\n",
    "                     [0.2, 1.0, 0.4],\n",
    "                     [0.1, 0.4, 1.0]])\n",
    "\n",
    "cov_mat = np.outer(vols, vols) * corr_mat\n",
    "cov_mat\n",
    "\n",
    "# port. weights\n",
    "weights = np.repeat(1.0 / 3.0, 3)\n",
    "\n",
    "# number of simulations \n",
    "num_sim = 1000"
   ]
  },
  {
   "cell_type": "code",
   "execution_count": 30,
   "id": "legitimate-batch",
   "metadata": {},
   "outputs": [],
   "source": [
    "# simulate asset returns\n",
    "sim_returns = np.random.multivariate_normal(mu, cov_mat, size=num_sim)\n",
    "\n",
    "# calculate portfolio returns for each simulation\n",
    "sim_port_returns = sim_returns @ weights "
   ]
  },
  {
   "cell_type": "code",
   "execution_count": 31,
   "id": "adaptive-creation",
   "metadata": {},
   "outputs": [],
   "source": [
    "# calculate VaR and CVaR\n",
    "sim_var = np.percentile(sim_port_returns, 5)\n",
    "sim_cvar = np.mean(sim_port_returns[sim_port_returns <= value_at_risk])"
   ]
  },
  {
   "cell_type": "code",
   "execution_count": 32,
   "id": "thick-shelter",
   "metadata": {},
   "outputs": [
    {
     "data": {
      "image/png": "[encoded data removed]",
      "text/plain": [
       "<Figure size 864x432 with 1 Axes>"
      ]
     },
     "metadata": {
      "needs_background": "light"
     },
     "output_type": "display_data"
    }
   ],
   "source": [
    "\"\"\"\n",
    "Plot histogram \n",
    "\"\"\"\n",
    "\n",
    "fig, ax = plt.subplots(figsize=(12, 6))\n",
    "ax.hist(sim_port_returns, density=True, bins=50);\n",
    "\n",
    "ax.axvline(sim_var, ymin=0, ymax=8, color=\"black\")\n",
    "ax.axvline(sim_cvar, ymin=0, ymax=8, color=\"black\")\n",
    "ax.set_title(\"Value-at-Risk and Cond. Value-at-Risk\", size=20)\n",
    "ax.set_xlabel('$v_{t + \\\\tau}$', size=20)\n",
    "ax.set_ylabel('Density, $f_{V_{t + \\\\tau}}(v_{t + \\\\tau})$', size=20);\n",
    "\n",
    "# add text\n",
    "text_to_add =  \"$\\mathbf{VaR}_{0.05}\" + \" = {:,.1f}\\%$\".format(-sim_var*100)\n",
    "ax.text(-0.22, 1.0, text_to_add, rotation=90);\n",
    "\n",
    "text_to_add_2 =  \"$\\mathbf{CVaR}_{0.05}\" + \" = {:,.1f}\\%$\".format(-sim_cvar*100)\n",
    "ax.text(-0.32, 1.0, text_to_add_2,rotation=90);\n",
    "\n",
    "# x-axis a percent\n",
    "xticks = mtick.PercentFormatter(xmax=1.0, decimals=1)\n",
    "ax.xaxis.set_major_formatter(xticks)"
   ]
  },
  {
   "cell_type": "markdown",
   "id": "radical-hopkins",
   "metadata": {},
   "source": [
    "__Question 2__"
   ]
  },
  {
   "cell_type": "code",
   "execution_count": 33,
   "id": "tropical-capture",
   "metadata": {},
   "outputs": [],
   "source": [
    "num_iter = 10000\n",
    "num_sim = 1000"
   ]
  },
  {
   "cell_type": "code",
   "execution_count": 34,
   "id": "running-shelf",
   "metadata": {},
   "outputs": [],
   "source": [
    "# simulate asset returns\n",
    "sim_returns = np.random.multivariate_normal(mu, cov_mat, size=(num_sim, num_iter))\n",
    "\n",
    "# calculate portfolio returns for each simulation\n",
    "sim_port_returns = sim_returns @ weights "
   ]
  },
  {
   "cell_type": "code",
   "execution_count": 35,
   "id": "aggressive-folks",
   "metadata": {},
   "outputs": [],
   "source": [
    "# Calculate VaR for all num_iter samples of num_sim observations\n",
    "sim_var_all = np.percentile(sim_port_returns, 5, axis=0)"
   ]
  },
  {
   "cell_type": "code",
   "execution_count": 36,
   "id": "empty-syndicate",
   "metadata": {},
   "outputs": [
    {
     "data": {
      "text/plain": [
       "(10000,)"
      ]
     },
     "execution_count": 36,
     "metadata": {},
     "output_type": "execute_result"
    }
   ],
   "source": [
    "# shape of numpy array with all VaR estimates\n",
    "sim_var_all.shape"
   ]
  },
  {
   "cell_type": "code",
   "execution_count": 37,
   "id": "future-eugene",
   "metadata": {},
   "outputs": [
    {
     "data": {
      "image/png": "[encoded data removed]",
      "text/plain": [
       "<Figure size 864x432 with 1 Axes>"
      ]
     },
     "metadata": {
      "needs_background": "light"
     },
     "output_type": "display_data"
    }
   ],
   "source": [
    "\"\"\"\n",
    "Plot histogram \n",
    "\"\"\"\n",
    "\n",
    "fig, ax = plt.subplots(figsize=(12, 6))\n",
    "ax.hist(-sim_var_all, density=True, bins=100);\n",
    "\n",
    "ax.set_title(\"Value-at-Risk\", size=20)\n",
    "ax.set_xlabel('VaR(5%)', size=20)\n",
    "ax.set_ylabel('Density', size=20);\n",
    "\n",
    "\n",
    "# x-axis a percent\n",
    "xticks = mtick.PercentFormatter(xmax=1.0, decimals=1)\n",
    "ax.xaxis.set_major_formatter(xticks)"
   ]
  },
  {
   "cell_type": "code",
   "execution_count": 38,
   "id": "looking-instrument",
   "metadata": {},
   "outputs": [
    {
     "data": {
      "text/plain": [
       "array([0.15687211, 0.19218419])"
      ]
     },
     "execution_count": 38,
     "metadata": {},
     "output_type": "execute_result"
    }
   ],
   "source": [
    "# calculate the percentiles\n",
    "np.percentile(-sim_var_all, [2.5, 97.5])"
   ]
  },
  {
   "cell_type": "code",
   "execution_count": 39,
   "id": "further-retailer",
   "metadata": {},
   "outputs": [],
   "source": [
    "alpha = 0.95\n",
    "exact_var = -calculate_normal_port_value_at_risk(weights, mu, cov_mat)\n",
    "# epsilon\n",
    "epsilon = np.sqrt(np.log(2.0 / alpha) / (2 * num_sim))\n",
    "\n",
    "# lower and upper bounds \n",
    "lower = np.clip(exact_var - epsilon, 0, 1)\n",
    "upper = np.clip(exact_var + epsilon, 0, 1)"
   ]
  },
  {
   "cell_type": "code",
   "execution_count": 40,
   "id": "suffering-audit",
   "metadata": {},
   "outputs": [
    {
     "data": {
      "text/plain": [
       "0.15548551988426315"
      ]
     },
     "execution_count": 40,
     "metadata": {},
     "output_type": "execute_result"
    }
   ],
   "source": [
    "lower"
   ]
  },
  {
   "cell_type": "code",
   "execution_count": 41,
   "id": "stunning-wrestling",
   "metadata": {},
   "outputs": [
    {
     "data": {
      "text/plain": [
       "0.1940715400197344"
      ]
     },
     "execution_count": 41,
     "metadata": {},
     "output_type": "execute_result"
    }
   ],
   "source": [
    "upper"
   ]
  },
  {
   "cell_type": "markdown",
   "id": "general-outdoors",
   "metadata": {},
   "source": [
    "# References\n",
    "\n",
    "\n",
    "## Books\n",
    "\n",
    "[Riccardo Rebonato and Alexander Denev, \"Portfolio Management under stress\"](https://www.amazon.com/Portfolio-Management-under-Stress-Bayesian-Net/dp/1107048117)"
   ]
  }
 ],
 "metadata": {
  "kernelspec": {
   "display_name": "python_for_fin_econ",
   "language": "python",
   "name": "python_for_fin_econ"
  },
  "language_info": {
   "codemirror_mode": {
    "name": "ipython",
    "version": 3
   },
   "file_extension": ".py",
   "mimetype": "text/x-python",
   "name": "python",
   "nbconvert_exporter": "python",
   "pygments_lexer": "ipython3",
   "version": "3.8.6"
  }
 },
 "nbformat": 4,
 "nbformat_minor": 5
}
